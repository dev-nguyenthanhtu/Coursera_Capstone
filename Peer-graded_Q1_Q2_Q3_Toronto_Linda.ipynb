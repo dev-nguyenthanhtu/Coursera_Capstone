{
 "cells": [
  {
   "cell_type": "markdown",
   "metadata": {},
   "source": [
    "<h1 align=center><font size = 6>Segmenting and Clustering</font></h1>\n",
    "\n",
    "<h1 align=center><font size = 12>Neighborhoods in Toronto</font></h1>\n"
   ]
  },
  {
   "cell_type": "markdown",
   "metadata": {},
   "source": [
    "# Table of Contents\n",
    "\n",
    "\n",
    "### Question 1: \n",
    "\n",
    "#### 1.1. Create a new Notebook \n",
    "\n",
    "#### 1.2. Scrape Web Page\n",
    "\n",
    "#### 1.3. Transform Data into Pandas Dataframe \n",
    "\n",
    "#### 1.4. Clean Dataframe and Annotate Notebook\n",
    "\n",
    "### 1.5. Link Notebook on Github repository. (10 marks)\n",
    "\n",
    "https://github.com/lindangulopez/Coursera_Capstone/blob/master/Peer-graded%20Assignment%20Q1_Toronto_Linda.ipynb\n",
    "\n",
    "\n",
    "### Question 2: \n",
    "\n",
    "#### 2.1. Get the latitude and the longitude coordinates of each neighborhood, used Geopy:\n",
    "\n",
    "https://geopy.readthedocs.io/en/stable/#installation\n",
    "\n",
    "#### 2.2. Use Geocoder Python package: https://geocoder.readthedocs.io/index.html. \n",
    "\n",
    "#### 2.3. Use Geopy & OpenStreetMap to create Dataframe\n",
    "\n",
    "#### 2.4. Retrieved only 5 coordinates with with lambda equation, \n",
    "\n",
    "#### did not create a loop for each postal code to remake the calls.\n",
    "\n",
    "#### 2.5. Used link to a csv file, http://cocl.us/Geospatial_data to create Dataframe:\n",
    "\n",
    "https://pandas.pydata.org/pandas-docs/stable/user_guide/merging.html \n",
    "\n",
    "### 2.6. Submit a link to your Notebook on your Github repository. (2 marks)\n",
    "\n",
    "https://github.com/lindangulopez/Coursera_Capstone/blob/master/Q_2latlong.ipynb\n",
    "\n",
    "\n",
    "\n",
    "### Question 3:\n",
    "\n",
    "#### 3.1. Build a test set with boroughs in Toronto, see:\n",
    "https://medium.com/@bobhaffner/folium-markerclusters-and-fastmarkerclusters-1e03b01cb7b1\n",
    "\n",
    "#### 3.2. Replicate the same analysis with the full data set. \n",
    "\n",
    "#### 3.3. Explain what you decided to do and report observations.\n",
    "\n",
    "#### 3.4. Generate maps to visualize your neighborhoods and how they cluster together.\n",
    "\n",
    "#### 3.5. Submit a link to your Notebook on your Github repository. (3 marks)\n",
    "\n",
    "\n",
    "\n"
   ]
  },
  {
   "cell_type": "markdown",
   "metadata": {},
   "source": [
    "<h1 align=center><font size = 8>...</font></h1>\n",
    "\n"
   ]
  },
  {
   "cell_type": "markdown",
   "metadata": {},
   "source": [
    "# Question 1:\n",
    "\n",
    "\n",
    "## 1.1.  Create a new Notebook \n",
    "\n",
    "with the basic dependencies."
   ]
  },
  {
   "cell_type": "code",
   "execution_count": 87,
   "metadata": {},
   "outputs": [
    {
     "name": "stdout",
     "output_type": "stream",
     "text": [
      "Libraries imported.\n"
     ]
    }
   ],
   "source": [
    "import numpy as np # library to handle data in a vectorized manner\n",
    "import pandas as pd # library for data analsysis\n",
    "import requests # Library for web scraping\n",
    "\n",
    "print('Libraries imported.')"
   ]
  },
  {
   "cell_type": "markdown",
   "metadata": {},
   "source": [
    "## 1.2. Scrape Web Page"
   ]
  },
  {
   "cell_type": "markdown",
   "metadata": {},
   "source": [
    "About the Data, Wikipedia page, https://en.wikipedia.org/wiki/List_of_postal_codes_of_Canada:_M, \n",
    "- is a list of postal codes in Canada where the first letter is M. Postal codes beginning with M are located within the city of Toronto in the province of Ontario. \n",
    "\n",
    "- Scraping table from HTML using BeautifulSoup, write a Python program similar to scrape.py,from:\n",
    "\n",
    "### Corey Schafer Python Programming Tutorial:\n",
    "The code from this video can be found at: https://github.com/CoreyMSchafer/code...\n",
    "\n",
    "\n"
   ]
  },
  {
   "cell_type": "code",
   "execution_count": 88,
   "metadata": {},
   "outputs": [
    {
     "name": "stdout",
     "output_type": "stream",
     "text": [
      "BeautifulSoup  & csv imported.\n"
     ]
    }
   ],
   "source": [
    "# To run this, you can install BeautifulSoup\n",
    "# https://pypi.python.org/pypi/beautifulsoup4\n",
    "\n",
    "# Or download the file\n",
    "# http://beautiful-soup-4\n",
    "# and unzip it in the same directory as this file\n",
    "import requests\n",
    "from urllib.request import urlopen\n",
    "from bs4 import BeautifulSoup\n",
    "import ssl\n",
    "import csv\n",
    "\n",
    "print('BeautifulSoup  & csv imported.')"
   ]
  },
  {
   "cell_type": "code",
   "execution_count": 89,
   "metadata": {},
   "outputs": [
    {
     "name": "stdout",
     "output_type": "stream",
     "text": [
      "SSL certificate errors ignored.\n"
     ]
    }
   ],
   "source": [
    "# Ignore SSL certificate errors\n",
    "ctx = ssl.create_default_context()\n",
    "ctx.check_hostname = False\n",
    "ctx.verify_mode = ssl.CERT_NONE\n",
    "\n",
    "print('SSL certificate errors ignored.')"
   ]
  },
  {
   "cell_type": "code",
   "execution_count": 90,
   "metadata": {},
   "outputs": [
    {
     "name": "stdout",
     "output_type": "stream",
     "text": [
      "soup ready\n"
     ]
    }
   ],
   "source": [
    "source = requests.get('https://en.wikipedia.org/wiki/List_of_postal_codes_of_Canada:_M').text\n",
    "\n",
    "soup = BeautifulSoup(source, 'lxml')\n",
    "\n",
    "#print(soup.prettify())\n",
    "print('soup ready')"
   ]
  },
  {
   "cell_type": "code",
   "execution_count": 91,
   "metadata": {},
   "outputs": [],
   "source": [
    "table = soup.find('table',{'class':'wikitable sortable'})\n",
    "#table"
   ]
  },
  {
   "cell_type": "code",
   "execution_count": 92,
   "metadata": {},
   "outputs": [],
   "source": [
    "\n",
    "table_rows = table.find_all('tr')\n",
    "\n",
    "#table_rows"
   ]
  },
  {
   "cell_type": "code",
   "execution_count": 93,
   "metadata": {},
   "outputs": [],
   "source": [
    "data = []\n",
    "for row in table_rows:\n",
    "    data.append([t.text.strip() for t in row.find_all('td')])\n",
    "\n",
    "df = pd.DataFrame(data, columns=['PostalCode', 'Borough', 'Neighbourhood'])\n",
    "df = df[~df['PostalCode'].isnull()]  # to filter out bad rows\n",
    "\n",
    "#print(df.head(5))\n",
    "#print('***')\n",
    "#print(df.tail(5))"
   ]
  },
  {
   "cell_type": "markdown",
   "metadata": {},
   "source": [
    "## 1.3. Transform Data into Pandas Dataframe "
   ]
  },
  {
   "cell_type": "code",
   "execution_count": 94,
   "metadata": {},
   "outputs": [
    {
     "name": "stdout",
     "output_type": "stream",
     "text": [
      "<class 'pandas.core.frame.DataFrame'>\n",
      "Int64Index: 288 entries, 1 to 288\n",
      "Data columns (total 3 columns):\n",
      "PostalCode       288 non-null object\n",
      "Borough          288 non-null object\n",
      "Neighbourhood    288 non-null object\n",
      "dtypes: object(3)\n",
      "memory usage: 9.0+ KB\n"
     ]
    }
   ],
   "source": [
    "df.info()"
   ]
  },
  {
   "cell_type": "code",
   "execution_count": 95,
   "metadata": {},
   "outputs": [
    {
     "data": {
      "text/plain": [
       "(288, 3)"
      ]
     },
     "execution_count": 95,
     "metadata": {},
     "output_type": "execute_result"
    }
   ],
   "source": [
    "df.shape"
   ]
  },
  {
   "cell_type": "markdown",
   "metadata": {},
   "source": [
    "## 1.4. Clean Dataframe and Annotate Notebook"
   ]
  },
  {
   "cell_type": "markdown",
   "metadata": {},
   "source": [
    "Only process the cells that have an assigned borough, we can ignore cells with 'Not assigned' boroughs, like in rows 1 & 2."
   ]
  },
  {
   "cell_type": "code",
   "execution_count": 96,
   "metadata": {},
   "outputs": [],
   "source": [
    "import pandas\n",
    "import requests\n",
    "from bs4 import BeautifulSoup\n",
    "website_text = requests.get('https://en.wikipedia.org/wiki/List_of_postal_codes_of_Canada:_M').text\n",
    "soup = BeautifulSoup(website_text,'lxml')\n",
    "\n",
    "table = soup.find('table',{'class':'wikitable sortable'})\n",
    "table_rows = table.find_all('tr')\n",
    "\n",
    "data = []\n",
    "for row in table_rows:\n",
    "    data.append([t.text.strip() for t in row.find_all('td')])\n",
    "\n",
    "df = pandas.DataFrame(data, columns=['PostalCode', 'Borough', 'Neighbourhood'])\n",
    "df = df[~df['PostalCode'].isnull()]  # to filter out bad rows\n",
    "\n",
    "#df.head(15)"
   ]
  },
  {
   "cell_type": "code",
   "execution_count": 97,
   "metadata": {},
   "outputs": [],
   "source": [
    "\n",
    "df.drop(df[df['Borough']==\"Not assigned\"].index,axis=0, inplace=True)\n",
    "#df.head()"
   ]
  },
  {
   "cell_type": "markdown",
   "metadata": {},
   "source": [
    "The dataframe can be reindex as follows:"
   ]
  },
  {
   "cell_type": "code",
   "execution_count": 98,
   "metadata": {},
   "outputs": [],
   "source": [
    "df1 = df.reset_index()\n",
    "#df1.head()"
   ]
  },
  {
   "cell_type": "code",
   "execution_count": 99,
   "metadata": {},
   "outputs": [
    {
     "name": "stdout",
     "output_type": "stream",
     "text": [
      "<class 'pandas.core.frame.DataFrame'>\n",
      "RangeIndex: 211 entries, 0 to 210\n",
      "Data columns (total 4 columns):\n",
      "index            211 non-null int64\n",
      "PostalCode       211 non-null object\n",
      "Borough          211 non-null object\n",
      "Neighbourhood    211 non-null object\n",
      "dtypes: int64(1), object(3)\n",
      "memory usage: 6.7+ KB\n"
     ]
    }
   ],
   "source": [
    "df1.info()"
   ]
  },
  {
   "cell_type": "code",
   "execution_count": 100,
   "metadata": {},
   "outputs": [
    {
     "data": {
      "text/plain": [
       "(211, 4)"
      ]
     },
     "execution_count": 100,
     "metadata": {},
     "output_type": "execute_result"
    }
   ],
   "source": [
    "df1.shape"
   ]
  },
  {
   "cell_type": "markdown",
   "metadata": {},
   "source": [
    "More than one neighborhood can exist in one postal code area, M5A is listed twice and has two neighborhoods Harbourfront and Regent Park. These two rows will be combined into one row with the neighborhoods separated with a comma using groupby, see: \n",
    "\n",
    "https://pandas-docs.github.io/pandas-docs-travis/user_guide/groupby.html\n"
   ]
  },
  {
   "cell_type": "code",
   "execution_count": 101,
   "metadata": {},
   "outputs": [],
   "source": [
    "df2= df1.groupby('PostalCode').agg(lambda x: ','.join(x))\n",
    "\n",
    "#df2.head()\n",
    "       "
   ]
  },
  {
   "cell_type": "code",
   "execution_count": 102,
   "metadata": {},
   "outputs": [
    {
     "name": "stdout",
     "output_type": "stream",
     "text": [
      "<class 'pandas.core.frame.DataFrame'>\n",
      "Index: 103 entries, M1B to M9W\n",
      "Data columns (total 2 columns):\n",
      "Borough          103 non-null object\n",
      "Neighbourhood    103 non-null object\n",
      "dtypes: object(2)\n",
      "memory usage: 2.4+ KB\n"
     ]
    }
   ],
   "source": [
    "df2.info()"
   ]
  },
  {
   "cell_type": "code",
   "execution_count": 103,
   "metadata": {},
   "outputs": [
    {
     "data": {
      "text/plain": [
       "(103, 2)"
      ]
     },
     "execution_count": 103,
     "metadata": {},
     "output_type": "execute_result"
    }
   ],
   "source": [
    "df2.shape"
   ]
  },
  {
   "cell_type": "markdown",
   "metadata": {},
   "source": [
    "There are also cells that have an assigned neighbouhoods,like M7A, lets assign their boroughs as their neighbourhood, as follows:"
   ]
  },
  {
   "cell_type": "code",
   "execution_count": 104,
   "metadata": {},
   "outputs": [],
   "source": [
    "\n",
    "df2.loc[df2['Neighbourhood']==\"Not assigned\",'Neighbourhood']=df2.loc[df2['Neighbourhood']==\"Not assigned\",'Borough']\n",
    "\n",
    "#df2.head()\n",
    "\n"
   ]
  },
  {
   "cell_type": "code",
   "execution_count": 105,
   "metadata": {},
   "outputs": [],
   "source": [
    "df3 = df2.reset_index()\n",
    "#df3.head()"
   ]
  },
  {
   "cell_type": "markdown",
   "metadata": {},
   "source": [
    "Now we can remove the duplicate boroughts as follows:"
   ]
  },
  {
   "cell_type": "code",
   "execution_count": 106,
   "metadata": {},
   "outputs": [],
   "source": [
    "df3['Borough']= df3['Borough'].str.replace('nan|[{}\\s]','').str.split(',').apply(set).str.join(',').str.strip(',').str.replace(\",{2,}\",\",\")"
   ]
  },
  {
   "cell_type": "code",
   "execution_count": 107,
   "metadata": {},
   "outputs": [
    {
     "data": {
      "text/html": [
       "<div>\n",
       "<style scoped>\n",
       "    .dataframe tbody tr th:only-of-type {\n",
       "        vertical-align: middle;\n",
       "    }\n",
       "\n",
       "    .dataframe tbody tr th {\n",
       "        vertical-align: top;\n",
       "    }\n",
       "\n",
       "    .dataframe thead th {\n",
       "        text-align: right;\n",
       "    }\n",
       "</style>\n",
       "<table border=\"1\" class=\"dataframe\">\n",
       "  <thead>\n",
       "    <tr style=\"text-align: right;\">\n",
       "      <th></th>\n",
       "      <th>PostalCode</th>\n",
       "      <th>Borough</th>\n",
       "      <th>Neighbourhood</th>\n",
       "    </tr>\n",
       "  </thead>\n",
       "  <tbody>\n",
       "    <tr>\n",
       "      <th>0</th>\n",
       "      <td>M1B</td>\n",
       "      <td>Scarborough</td>\n",
       "      <td>Rouge,Malvern</td>\n",
       "    </tr>\n",
       "    <tr>\n",
       "      <th>1</th>\n",
       "      <td>M1C</td>\n",
       "      <td>Scarborough</td>\n",
       "      <td>Highland Creek,Rouge Hill,Port Union</td>\n",
       "    </tr>\n",
       "    <tr>\n",
       "      <th>2</th>\n",
       "      <td>M1E</td>\n",
       "      <td>Scarborough</td>\n",
       "      <td>Guildwood,Morningside,West Hill</td>\n",
       "    </tr>\n",
       "    <tr>\n",
       "      <th>3</th>\n",
       "      <td>M1G</td>\n",
       "      <td>Scarborough</td>\n",
       "      <td>Woburn</td>\n",
       "    </tr>\n",
       "    <tr>\n",
       "      <th>4</th>\n",
       "      <td>M1H</td>\n",
       "      <td>Scarborough</td>\n",
       "      <td>Cedarbrae</td>\n",
       "    </tr>\n",
       "  </tbody>\n",
       "</table>\n",
       "</div>"
      ],
      "text/plain": [
       "  PostalCode      Borough                         Neighbourhood\n",
       "0        M1B  Scarborough                         Rouge,Malvern\n",
       "1        M1C  Scarborough  Highland Creek,Rouge Hill,Port Union\n",
       "2        M1E  Scarborough       Guildwood,Morningside,West Hill\n",
       "3        M1G  Scarborough                                Woburn\n",
       "4        M1H  Scarborough                             Cedarbrae"
      ]
     },
     "execution_count": 107,
     "metadata": {},
     "output_type": "execute_result"
    }
   ],
   "source": [
    "df3.head()"
   ]
  },
  {
   "cell_type": "code",
   "execution_count": 108,
   "metadata": {},
   "outputs": [
    {
     "name": "stdout",
     "output_type": "stream",
     "text": [
      "<class 'pandas.core.frame.DataFrame'>\n",
      "RangeIndex: 103 entries, 0 to 102\n",
      "Data columns (total 3 columns):\n",
      "PostalCode       103 non-null object\n",
      "Borough          103 non-null object\n",
      "Neighbourhood    103 non-null object\n",
      "dtypes: object(3)\n",
      "memory usage: 2.5+ KB\n"
     ]
    }
   ],
   "source": [
    "df3.info()"
   ]
  },
  {
   "cell_type": "code",
   "execution_count": 109,
   "metadata": {},
   "outputs": [
    {
     "data": {
      "text/plain": [
       "(103, 3)"
      ]
     },
     "execution_count": 109,
     "metadata": {},
     "output_type": "execute_result"
    }
   ],
   "source": [
    "df3.shape"
   ]
  },
  {
   "cell_type": "markdown",
   "metadata": {},
   "source": [
    "## 1.5 Dataframe cleaned & shared on Github:\n",
    "\n",
    "\n",
    "\n",
    "https://github.com/lindangulopez/Coursera_Capstone/blob/master/Peer-graded%20Assignment%20Q1_Toronto_Linda.ipynb\n"
   ]
  },
  {
   "cell_type": "markdown",
   "metadata": {},
   "source": [
    "# Question 2: \n",
    "\n"
   ]
  },
  {
   "cell_type": "markdown",
   "metadata": {},
   "source": [
    "## 2.1. Get the latitude and the longitude coordinates of each neighborhood, used Geopy:\n",
    "\n",
    "https://geopy.readthedocs.io/en/stable/#installation\n"
   ]
  },
  {
   "cell_type": "code",
   "execution_count": 110,
   "metadata": {},
   "outputs": [
    {
     "name": "stdout",
     "output_type": "stream",
     "text": [
      "Requirement already satisfied: geopy in /home/jupyterlab/conda/lib/python3.6/site-packages (1.11.0)\n",
      "Note: you may need to restart the kernel to use updated packages.\n"
     ]
    }
   ],
   "source": [
    "pip install geopy"
   ]
  },
  {
   "cell_type": "code",
   "execution_count": 111,
   "metadata": {},
   "outputs": [
    {
     "name": "stdout",
     "output_type": "stream",
     "text": [
      "latitude is :- 51.5073219 \n",
      "longtitude is:- -0.1276474\n"
     ]
    }
   ],
   "source": [
    "from  geopy.geocoders import Nominatim\n",
    "geolocator = Nominatim()\n",
    "city =\"London\"\n",
    "country =\"Uk\"\n",
    "loc = geolocator.geocode(city+','+ country)\n",
    "print(\"latitude is :-\" ,loc.latitude,\"\\nlongtitude is:-\" ,loc.longitude)"
   ]
  },
  {
   "cell_type": "code",
   "execution_count": 112,
   "metadata": {},
   "outputs": [
    {
     "name": "stdout",
     "output_type": "stream",
     "text": [
      "Parkwoods Village Drive, Parkway East, Don Valley East, North York, Toronto, Ontario, M3A 1Z5, Canada\n",
      "\n",
      "(43.7612239, -79.3239857)\n",
      "\n",
      "{'place_id': 113868274, 'licence': 'Data © OpenStreetMap contributors, ODbL 1.0. https://osm.org/copyright', 'osm_type': 'way', 'osm_id': 160406963, 'boundingbox': ['43.761106', '43.761307', '-79.3242157', '-79.3239088'], 'lat': '43.7612239', 'lon': '-79.3239857', 'display_name': 'Parkwoods Village Drive, Parkway East, Don Valley East, North York, Toronto, Ontario, M3A 1Z5, Canada', 'class': 'highway', 'type': 'secondary', 'importance': 0.51}\n"
     ]
    }
   ],
   "source": [
    "from  geopy.geocoders import Nominatim\n",
    "geolocator = Nominatim()\n",
    "location = geolocator.geocode(\"Toronto, North York, Parkwoods\")\n",
    "\n",
    "print(location.address)\n",
    "print('')\n",
    "print((location.latitude, location.longitude))\n",
    "print('')\n",
    "print(location.raw)\n"
   ]
  },
  {
   "cell_type": "code",
   "execution_count": 113,
   "metadata": {},
   "outputs": [],
   "source": [
    "import pandas as pd\n",
    "#df3.head()"
   ]
  },
  {
   "cell_type": "code",
   "execution_count": 114,
   "metadata": {},
   "outputs": [],
   "source": [
    "\n",
    "import pandas as pd\n",
    "df_geopy = pd.DataFrame({'PostalCode': ['M3A', 'M4A', 'M5A'],\n",
    "                         'Borough': ['North York', 'North York', 'Downtown Toronto'],\n",
    "                         'Neighbourhood': ['Parkwoods', 'Victoria Village', 'Harbourfront'],})\n",
    "\n",
    "from geopy.geocoders import Nominatim\n",
    "geolocator = Nominatim()\n",
    "\n"
   ]
  },
  {
   "cell_type": "code",
   "execution_count": 115,
   "metadata": {},
   "outputs": [],
   "source": [
    "df_geopy1 = df3\n",
    "#df_geopy1"
   ]
  },
  {
   "cell_type": "code",
   "execution_count": 116,
   "metadata": {},
   "outputs": [
    {
     "data": {
      "text/html": [
       "<div>\n",
       "<style scoped>\n",
       "    .dataframe tbody tr th:only-of-type {\n",
       "        vertical-align: middle;\n",
       "    }\n",
       "\n",
       "    .dataframe tbody tr th {\n",
       "        vertical-align: top;\n",
       "    }\n",
       "\n",
       "    .dataframe thead th {\n",
       "        text-align: right;\n",
       "    }\n",
       "</style>\n",
       "<table border=\"1\" class=\"dataframe\">\n",
       "  <thead>\n",
       "    <tr style=\"text-align: right;\">\n",
       "      <th></th>\n",
       "      <th>PostalCode</th>\n",
       "      <th>Borough</th>\n",
       "      <th>Neighbourhood</th>\n",
       "      <th>address</th>\n",
       "    </tr>\n",
       "  </thead>\n",
       "  <tbody>\n",
       "    <tr>\n",
       "      <th>0</th>\n",
       "      <td>M1B</td>\n",
       "      <td>Scarborough</td>\n",
       "      <td>Rouge,Malvern</td>\n",
       "      <td>M1B, Scarborough, Rouge,Malvern</td>\n",
       "    </tr>\n",
       "    <tr>\n",
       "      <th>1</th>\n",
       "      <td>M1C</td>\n",
       "      <td>Scarborough</td>\n",
       "      <td>Highland Creek,Rouge Hill,Port Union</td>\n",
       "      <td>M1C, Scarborough, Highland Creek,Rouge Hill,Po...</td>\n",
       "    </tr>\n",
       "    <tr>\n",
       "      <th>2</th>\n",
       "      <td>M1E</td>\n",
       "      <td>Scarborough</td>\n",
       "      <td>Guildwood,Morningside,West Hill</td>\n",
       "      <td>M1E, Scarborough, Guildwood,Morningside,West Hill</td>\n",
       "    </tr>\n",
       "    <tr>\n",
       "      <th>3</th>\n",
       "      <td>M1G</td>\n",
       "      <td>Scarborough</td>\n",
       "      <td>Woburn</td>\n",
       "      <td>M1G, Scarborough, Woburn</td>\n",
       "    </tr>\n",
       "    <tr>\n",
       "      <th>4</th>\n",
       "      <td>M1H</td>\n",
       "      <td>Scarborough</td>\n",
       "      <td>Cedarbrae</td>\n",
       "      <td>M1H, Scarborough, Cedarbrae</td>\n",
       "    </tr>\n",
       "  </tbody>\n",
       "</table>\n",
       "</div>"
      ],
      "text/plain": [
       "  PostalCode      Borough                         Neighbourhood  \\\n",
       "0        M1B  Scarborough                         Rouge,Malvern   \n",
       "1        M1C  Scarborough  Highland Creek,Rouge Hill,Port Union   \n",
       "2        M1E  Scarborough       Guildwood,Morningside,West Hill   \n",
       "3        M1G  Scarborough                                Woburn   \n",
       "4        M1H  Scarborough                             Cedarbrae   \n",
       "\n",
       "                                             address  \n",
       "0                    M1B, Scarborough, Rouge,Malvern  \n",
       "1  M1C, Scarborough, Highland Creek,Rouge Hill,Po...  \n",
       "2  M1E, Scarborough, Guildwood,Morningside,West Hill  \n",
       "3                           M1G, Scarborough, Woburn  \n",
       "4                        M1H, Scarborough, Cedarbrae  "
      ]
     },
     "execution_count": 116,
     "metadata": {},
     "output_type": "execute_result"
    }
   ],
   "source": [
    "from geopy.geocoders import Nominatim\n",
    "geolocator = Nominatim()\n",
    "\n",
    "df_geopy1['address'] = df3[['PostalCode', 'Borough', 'Neighbourhood']].apply(lambda x: ', '.join(x), axis=1 )\n",
    "df_geopy1.head()"
   ]
  },
  {
   "cell_type": "code",
   "execution_count": 117,
   "metadata": {},
   "outputs": [],
   "source": [
    "df_geopy1 = df3"
   ]
  },
  {
   "cell_type": "code",
   "execution_count": 118,
   "metadata": {},
   "outputs": [
    {
     "data": {
      "text/plain": [
       "(103, 4)"
      ]
     },
     "execution_count": 118,
     "metadata": {},
     "output_type": "execute_result"
    }
   ],
   "source": [
    "df_geopy1.shape\n"
   ]
  },
  {
   "cell_type": "code",
   "execution_count": 119,
   "metadata": {},
   "outputs": [
    {
     "name": "stdout",
     "output_type": "stream",
     "text": [
      "<class 'pandas.core.frame.DataFrame'>\n",
      "RangeIndex: 103 entries, 0 to 102\n",
      "Data columns (total 4 columns):\n",
      "PostalCode       103 non-null object\n",
      "Borough          103 non-null object\n",
      "Neighbourhood    103 non-null object\n",
      "address          103 non-null object\n",
      "dtypes: object(4)\n",
      "memory usage: 3.3+ KB\n"
     ]
    }
   ],
   "source": [
    "df_geopy1.info()"
   ]
  },
  {
   "cell_type": "code",
   "execution_count": 120,
   "metadata": {},
   "outputs": [
    {
     "name": "stdout",
     "output_type": "stream",
     "text": [
      "<class 'pandas.core.frame.DataFrame'>\n",
      "Int64Index: 103 entries, 0 to 102\n",
      "Data columns (total 4 columns):\n",
      "PostalCode       103 non-null object\n",
      "Borough          103 non-null object\n",
      "Neighbourhood    103 non-null object\n",
      "address          103 non-null object\n",
      "dtypes: object(4)\n",
      "memory usage: 4.0+ KB\n"
     ]
    }
   ],
   "source": [
    "df_geopy1.drop(df_geopy1[df_geopy1['Borough']==\"Notassigned\"].index,axis=0, inplace=True)\n",
    "#df_geopy1\n",
    "# code holds true up until i=102\n",
    "df_geopy1.info()\n"
   ]
  },
  {
   "cell_type": "code",
   "execution_count": 121,
   "metadata": {},
   "outputs": [],
   "source": [
    "#df_geopy1.head()\n"
   ]
  },
  {
   "cell_type": "code",
   "execution_count": 122,
   "metadata": {},
   "outputs": [
    {
     "data": {
      "text/plain": [
       "(103, 4)"
      ]
     },
     "execution_count": 122,
     "metadata": {},
     "output_type": "execute_result"
    }
   ],
   "source": [
    "df_geopy1.shape\n"
   ]
  },
  {
   "cell_type": "code",
   "execution_count": 123,
   "metadata": {},
   "outputs": [],
   "source": [
    "df_geopy1.to_csv('geopy1.csv')\n",
    "# no data for location after row 75"
   ]
  },
  {
   "cell_type": "markdown",
   "metadata": {},
   "source": [
    "Now let's test for location = 'M1G, Scarborough, Woburn'"
   ]
  },
  {
   "cell_type": "code",
   "execution_count": 124,
   "metadata": {},
   "outputs": [],
   "source": [
    "from  geopy.geocoders import Nominatim\n",
    "geolocator = Nominatim()\n",
    "location = geolocator.geocode(\"M1G, Scarborough, Woburn\")\n",
    "\n",
    "\n",
    "#print(location.address)\n",
    "\n",
    "#print((location.latitude, location.longitude))\n",
    "\n",
    "#print(location.raw)\n"
   ]
  },
  {
   "cell_type": "markdown",
   "metadata": {},
   "source": [
    "### Great getting latitude & longitude, with geopy\n"
   ]
  },
  {
   "cell_type": "markdown",
   "metadata": {},
   "source": [
    "\n",
    "## 2.2. Use Geocoder Python package: https://geocoder.readthedocs.io/index.html. \n"
   ]
  },
  {
   "cell_type": "code",
   "execution_count": 125,
   "metadata": {},
   "outputs": [
    {
     "name": "stdout",
     "output_type": "stream",
     "text": [
      "Requirement already satisfied: geocoder in /home/jupyterlab/conda/lib/python3.6/site-packages (1.38.1)\n",
      "Requirement already satisfied: click in /home/jupyterlab/conda/lib/python3.6/site-packages (from geocoder) (7.0)\n",
      "Requirement already satisfied: requests in /home/jupyterlab/conda/lib/python3.6/site-packages (from geocoder) (2.21.0)\n",
      "Requirement already satisfied: ratelim in /home/jupyterlab/conda/lib/python3.6/site-packages (from geocoder) (0.1.6)\n",
      "Requirement already satisfied: future in /home/jupyterlab/conda/lib/python3.6/site-packages (from geocoder) (0.17.1)\n",
      "Requirement already satisfied: six in /home/jupyterlab/conda/lib/python3.6/site-packages (from geocoder) (1.12.0)\n",
      "Requirement already satisfied: certifi>=2017.4.17 in /home/jupyterlab/conda/lib/python3.6/site-packages (from requests->geocoder) (2019.3.9)\n",
      "Requirement already satisfied: chardet<3.1.0,>=3.0.2 in /home/jupyterlab/conda/lib/python3.6/site-packages (from requests->geocoder) (3.0.4)\n",
      "Requirement already satisfied: urllib3<1.25,>=1.21.1 in /home/jupyterlab/conda/lib/python3.6/site-packages (from requests->geocoder) (1.24.1)\n",
      "Requirement already satisfied: idna<2.9,>=2.5 in /home/jupyterlab/conda/lib/python3.6/site-packages (from requests->geocoder) (2.8)\n",
      "Requirement already satisfied: decorator in /home/jupyterlab/conda/lib/python3.6/site-packages (from ratelim->geocoder) (4.4.0)\n",
      "Note: you may need to restart the kernel to use updated packages.\n"
     ]
    }
   ],
   "source": [
    "pip install geocoder"
   ]
  },
  {
   "cell_type": "markdown",
   "metadata": {},
   "source": [
    "\n",
    "## 2.3. Use Geopy & OpenStreetMap to create Dataframe\n"
   ]
  },
  {
   "cell_type": "code",
   "execution_count": 126,
   "metadata": {},
   "outputs": [],
   "source": [
    "df3.to_csv('geopy.csv')"
   ]
  },
  {
   "cell_type": "code",
   "execution_count": 127,
   "metadata": {},
   "outputs": [],
   "source": [
    "import csv\n",
    "\n",
    "with open('geopy.csv') as csvfile:\n",
    "     reader = csv.DictReader(csvfile)\n",
    "     #for row in reader:\n",
    "         #print(row['PostalCode'],row['Borough'], row['Neighbourhood'] )"
   ]
  },
  {
   "cell_type": "code",
   "execution_count": 128,
   "metadata": {},
   "outputs": [],
   "source": [
    "from  geopy.geocoders import Nominatim\n",
    "geolocator = Nominatim()\n",
    "location = geolocator.geocode(\"M1B Scarborough Rouge,Malvern\")\n",
    "\n",
    "#print(location.address)\n",
    "\n",
    "#print((location.latitude, location.longitude))\n",
    "\n",
    "#print(location.raw)\n"
   ]
  },
  {
   "cell_type": "code",
   "execution_count": 129,
   "metadata": {},
   "outputs": [],
   "source": [
    "from  geopy.geocoders import Nominatim\n",
    "geolocator = Nominatim()\n",
    "location = geolocator.geocode(\"Toronto, Highland Creek\")\n",
    "\n",
    "#print(location.address)\n",
    "\n",
    "#print((location.latitude, location.longitude))\n",
    "\n",
    "#print(location.raw)\n",
    "\n",
    "#M1C Scarborough Highland Creek,Rouge Hill,Port Union = no address"
   ]
  },
  {
   "cell_type": "code",
   "execution_count": 130,
   "metadata": {},
   "outputs": [],
   "source": [
    "from  geopy.geocoders import Nominatim\n",
    "geolocator = Nominatim()\n",
    "location = geolocator.geocode(\"Toronto, Morningside\")\n",
    "\n",
    "#print(location.address)\n",
    "\n",
    "#print((location.latitude, location.longitude))\n",
    "\n",
    "#print(location.raw)\n",
    "\n",
    "#M1E Scarborough Guildwood,Morningside,West Hill = no address\n"
   ]
  },
  {
   "cell_type": "markdown",
   "metadata": {},
   "source": [
    "### Create csv file. "
   ]
  },
  {
   "cell_type": "code",
   "execution_count": 131,
   "metadata": {},
   "outputs": [],
   "source": [
    "import numpy as np\n",
    "import csv\n",
    "\n",
    "\n",
    "PostalCode = None\n",
    "Borough = None\n",
    "Neighbourhood = None\n",
    "latData = None\n",
    "longData = None\n",
    "\n",
    "LAT_Woburn = 43.7598243\n",
    "LONG_Woburn = -79.2252908\n",
    "LAT_Malvern = 43.8091955\n",
    "LONG_Malvern = -79.2217008\n",
    "LAT_Highland_Creek = 43.7901172\n",
    "LONG_Highland_Creek = -79.1733344\n",
    "LAT_Morningside = 43.7826012\n",
    "LONG_Morningside = -79.2049579\n",
    "\n",
    " \n",
    "PostalCode = np.array(['M1H','M1B','M1C','M1G '])\n",
    "Borough = np.array(['Scarborough','Scarborough','Scarborough','Scarborough'])\n",
    "Neighbourhood = np.array(['Woburn','Malvern','Highland_Creek','Morningside'])\n",
    "latData = np.array([43.7598243,43.8091955, 43.7901172 , 43.7826012])\n",
    "longData = np.array([-79.2252908,-79.2217008,-79.1733344, -79.2049579 ])\n",
    "\n",
    "with open('data.csv', 'w') as file:\n",
    "    writer = csv.writer(file, delimiter=',')\n",
    "    writer.writerow('ABXYZ')\n",
    "    for a,b,x,y,z in np.nditer([ PostalCode.T, Borough.T, Neighbourhood.T, latData.T, longData.T], order='C'):\n",
    "        writer.writerow([a,b,x,y,z])    "
   ]
  },
  {
   "cell_type": "code",
   "execution_count": 132,
   "metadata": {},
   "outputs": [
    {
     "name": "stdout",
     "output_type": "stream",
     "text": [
      "M1H Scarborough Woburn 43.7598243 -79.2252908\n",
      "M1B Scarborough Malvern 43.8091955 -79.2217008\n",
      "M1C Scarborough Highland_Creek 43.7901172 -79.1733344\n",
      "M1G  Scarborough Morningside 43.7826012 -79.2049579\n"
     ]
    }
   ],
   "source": [
    "import csv\n",
    "\n",
    "with open('data.csv') as csvfile:\n",
    "     reader = csv.DictReader(csvfile)\n",
    "     for row in reader:\n",
    "         print(row['A'], row['B'],row['X'], row['Y'], row['Z'])"
   ]
  },
  {
   "cell_type": "code",
   "execution_count": 133,
   "metadata": {},
   "outputs": [
    {
     "data": {
      "text/html": [
       "<div>\n",
       "<style scoped>\n",
       "    .dataframe tbody tr th:only-of-type {\n",
       "        vertical-align: middle;\n",
       "    }\n",
       "\n",
       "    .dataframe tbody tr th {\n",
       "        vertical-align: top;\n",
       "    }\n",
       "\n",
       "    .dataframe thead th {\n",
       "        text-align: right;\n",
       "    }\n",
       "</style>\n",
       "<table border=\"1\" class=\"dataframe\">\n",
       "  <thead>\n",
       "    <tr style=\"text-align: right;\">\n",
       "      <th></th>\n",
       "      <th>A</th>\n",
       "      <th>B</th>\n",
       "      <th>X</th>\n",
       "      <th>Y</th>\n",
       "      <th>Z</th>\n",
       "    </tr>\n",
       "  </thead>\n",
       "  <tbody>\n",
       "    <tr>\n",
       "      <th>0</th>\n",
       "      <td>M1H</td>\n",
       "      <td>Scarborough</td>\n",
       "      <td>Woburn</td>\n",
       "      <td>43.759824</td>\n",
       "      <td>-79.225291</td>\n",
       "    </tr>\n",
       "    <tr>\n",
       "      <th>1</th>\n",
       "      <td>M1B</td>\n",
       "      <td>Scarborough</td>\n",
       "      <td>Malvern</td>\n",
       "      <td>43.809196</td>\n",
       "      <td>-79.221701</td>\n",
       "    </tr>\n",
       "    <tr>\n",
       "      <th>2</th>\n",
       "      <td>M1C</td>\n",
       "      <td>Scarborough</td>\n",
       "      <td>Highland_Creek</td>\n",
       "      <td>43.790117</td>\n",
       "      <td>-79.173334</td>\n",
       "    </tr>\n",
       "    <tr>\n",
       "      <th>3</th>\n",
       "      <td>M1G</td>\n",
       "      <td>Scarborough</td>\n",
       "      <td>Morningside</td>\n",
       "      <td>43.782601</td>\n",
       "      <td>-79.204958</td>\n",
       "    </tr>\n",
       "  </tbody>\n",
       "</table>\n",
       "</div>"
      ],
      "text/plain": [
       "      A            B               X          Y          Z\n",
       "0   M1H  Scarborough          Woburn  43.759824 -79.225291\n",
       "1   M1B  Scarborough         Malvern  43.809196 -79.221701\n",
       "2   M1C  Scarborough  Highland_Creek  43.790117 -79.173334\n",
       "3  M1G   Scarborough     Morningside  43.782601 -79.204958"
      ]
     },
     "execution_count": 133,
     "metadata": {},
     "output_type": "execute_result"
    }
   ],
   "source": [
    "pd.read_csv('data.csv') "
   ]
  },
  {
   "cell_type": "markdown",
   "metadata": {},
   "source": [
    "\n",
    "## 2.4. Retrieve coordinates with with lambda equation, \n",
    "\n",
    "#### did not create a loop for each postal code to remake the calls.\n",
    "\n"
   ]
  },
  {
   "cell_type": "markdown",
   "metadata": {},
   "source": [
    "### Read the docs:\n",
    "\n",
    "https://docs.python.org/3.5/library/fileformats.html\n",
    "\n",
    "https://geopy.readthedocs.io/en/latest/index.html#geopy.geocoders.Nominatim\n",
    "\n",
    "#### Watch: 44 Python Tutorial Example Geocoding Addresses with Pandas and Geopy\n",
    "\n",
    "https://www.youtube.com/watch?v=q_OUHA_zqeM\n",
    "\n"
   ]
  },
  {
   "cell_type": "markdown",
   "metadata": {},
   "source": [
    "### Load DataFrame"
   ]
  },
  {
   "cell_type": "code",
   "execution_count": 134,
   "metadata": {},
   "outputs": [],
   "source": [
    "import pandas, os\n",
    "#os.listdir()"
   ]
  },
  {
   "cell_type": "code",
   "execution_count": 135,
   "metadata": {},
   "outputs": [],
   "source": [
    "df_geopy=df3\n",
    "#df_geopy.head()"
   ]
  },
  {
   "cell_type": "code",
   "execution_count": 136,
   "metadata": {},
   "outputs": [],
   "source": [
    "import geopy\n",
    "#dir(geopy)"
   ]
  },
  {
   "cell_type": "code",
   "execution_count": 137,
   "metadata": {},
   "outputs": [
    {
     "data": {
      "text/plain": [
       "pandas.core.frame.DataFrame"
      ]
     },
     "execution_count": 137,
     "metadata": {},
     "output_type": "execute_result"
    }
   ],
   "source": [
    "type(df_geopy)"
   ]
  },
  {
   "cell_type": "code",
   "execution_count": 138,
   "metadata": {},
   "outputs": [
    {
     "name": "stdout",
     "output_type": "stream",
     "text": [
      "<class 'pandas.core.frame.DataFrame'>\n",
      "Int64Index: 103 entries, 0 to 102\n",
      "Data columns (total 4 columns):\n",
      "PostalCode       103 non-null object\n",
      "Borough          103 non-null object\n",
      "Neighbourhood    103 non-null object\n",
      "address          103 non-null object\n",
      "dtypes: object(4)\n",
      "memory usage: 4.0+ KB\n"
     ]
    }
   ],
   "source": [
    "df_geopy.info()"
   ]
  },
  {
   "cell_type": "markdown",
   "metadata": {},
   "source": [
    "### Import GeoPy:"
   ]
  },
  {
   "cell_type": "code",
   "execution_count": 139,
   "metadata": {},
   "outputs": [
    {
     "name": "stdout",
     "output_type": "stream",
     "text": [
      "Requirement already satisfied: geopy in /home/jupyterlab/conda/lib/python3.6/site-packages (1.11.0)\n",
      "Note: you may need to restart the kernel to use updated packages.\n"
     ]
    }
   ],
   "source": [
    "pip install geopy"
   ]
  },
  {
   "cell_type": "code",
   "execution_count": 140,
   "metadata": {},
   "outputs": [
    {
     "name": "stdout",
     "output_type": "stream",
     "text": [
      "Nominatim imported\n"
     ]
    }
   ],
   "source": [
    "from geopy.geocoders import Nominatim\n",
    "print('Nominatim imported')"
   ]
  },
  {
   "cell_type": "markdown",
   "metadata": {},
   "source": [
    "### Set connection to OpenStreeMap "
   ]
  },
  {
   "cell_type": "code",
   "execution_count": 141,
   "metadata": {},
   "outputs": [
    {
     "data": {
      "text/html": [
       "<div>\n",
       "<style scoped>\n",
       "    .dataframe tbody tr th:only-of-type {\n",
       "        vertical-align: middle;\n",
       "    }\n",
       "\n",
       "    .dataframe tbody tr th {\n",
       "        vertical-align: top;\n",
       "    }\n",
       "\n",
       "    .dataframe thead th {\n",
       "        text-align: right;\n",
       "    }\n",
       "</style>\n",
       "<table border=\"1\" class=\"dataframe\">\n",
       "  <thead>\n",
       "    <tr style=\"text-align: right;\">\n",
       "      <th></th>\n",
       "      <th>PostalCode</th>\n",
       "      <th>Borough</th>\n",
       "      <th>Neighbourhood</th>\n",
       "      <th>address</th>\n",
       "    </tr>\n",
       "  </thead>\n",
       "  <tbody>\n",
       "    <tr>\n",
       "      <th>0</th>\n",
       "      <td>M1B</td>\n",
       "      <td>Scarborough</td>\n",
       "      <td>Rouge,Malvern</td>\n",
       "      <td>M1B,Scarborough,Rouge,Malvern</td>\n",
       "    </tr>\n",
       "    <tr>\n",
       "      <th>1</th>\n",
       "      <td>M1C</td>\n",
       "      <td>Scarborough</td>\n",
       "      <td>Highland Creek,Rouge Hill,Port Union</td>\n",
       "      <td>M1C,Scarborough,Highland Creek,Rouge Hill,Port...</td>\n",
       "    </tr>\n",
       "    <tr>\n",
       "      <th>2</th>\n",
       "      <td>M1E</td>\n",
       "      <td>Scarborough</td>\n",
       "      <td>Guildwood,Morningside,West Hill</td>\n",
       "      <td>M1E,Scarborough,Guildwood,Morningside,West Hill</td>\n",
       "    </tr>\n",
       "    <tr>\n",
       "      <th>3</th>\n",
       "      <td>M1G</td>\n",
       "      <td>Scarborough</td>\n",
       "      <td>Woburn</td>\n",
       "      <td>M1G,Scarborough,Woburn</td>\n",
       "    </tr>\n",
       "    <tr>\n",
       "      <th>4</th>\n",
       "      <td>M1H</td>\n",
       "      <td>Scarborough</td>\n",
       "      <td>Cedarbrae</td>\n",
       "      <td>M1H,Scarborough,Cedarbrae</td>\n",
       "    </tr>\n",
       "  </tbody>\n",
       "</table>\n",
       "</div>"
      ],
      "text/plain": [
       "  PostalCode      Borough                         Neighbourhood  \\\n",
       "0        M1B  Scarborough                         Rouge,Malvern   \n",
       "1        M1C  Scarborough  Highland Creek,Rouge Hill,Port Union   \n",
       "2        M1E  Scarborough       Guildwood,Morningside,West Hill   \n",
       "3        M1G  Scarborough                                Woburn   \n",
       "4        M1H  Scarborough                             Cedarbrae   \n",
       "\n",
       "                                             address  \n",
       "0                      M1B,Scarborough,Rouge,Malvern  \n",
       "1  M1C,Scarborough,Highland Creek,Rouge Hill,Port...  \n",
       "2    M1E,Scarborough,Guildwood,Morningside,West Hill  \n",
       "3                             M1G,Scarborough,Woburn  \n",
       "4                          M1H,Scarborough,Cedarbrae  "
      ]
     },
     "execution_count": 141,
     "metadata": {},
     "output_type": "execute_result"
    }
   ],
   "source": [
    "df_geopy['address']=df_geopy['PostalCode'] + ',' + df_geopy['Borough'] + ','+ df_geopy['Neighbourhood']\n",
    "df_geopy.head()"
   ]
  },
  {
   "cell_type": "code",
   "execution_count": 142,
   "metadata": {},
   "outputs": [],
   "source": [
    "nom = Nominatim()"
   ]
  },
  {
   "cell_type": "code",
   "execution_count": 143,
   "metadata": {},
   "outputs": [
    {
     "data": {
      "text/plain": [
       "Location(Malvern, Scarborough—Rouge Park, Scarborough, Toronto, Golden Horseshoe, Ontario, M1B 4Y7, Canada, (43.8091955, -79.2217008, 0.0))"
      ]
     },
     "execution_count": 143,
     "metadata": {},
     "output_type": "execute_result"
    }
   ],
   "source": [
    "n=nom.geocode('M1B, Scarborough, Rouge,Malvern')\n",
    "n"
   ]
  },
  {
   "cell_type": "code",
   "execution_count": 144,
   "metadata": {},
   "outputs": [
    {
     "data": {
      "text/plain": [
       "43.8091955"
      ]
     },
     "execution_count": 144,
     "metadata": {},
     "output_type": "execute_result"
    }
   ],
   "source": [
    "n.latitude"
   ]
  },
  {
   "cell_type": "code",
   "execution_count": 145,
   "metadata": {},
   "outputs": [
    {
     "data": {
      "text/plain": [
       "geopy.location.Location"
      ]
     },
     "execution_count": 145,
     "metadata": {},
     "output_type": "execute_result"
    }
   ],
   "source": [
    "type(n)"
   ]
  },
  {
   "cell_type": "markdown",
   "metadata": {},
   "source": [
    "### Watch out for None values"
   ]
  },
  {
   "cell_type": "code",
   "execution_count": 146,
   "metadata": {},
   "outputs": [
    {
     "name": "stdout",
     "output_type": "stream",
     "text": [
      "None\n"
     ]
    }
   ],
   "source": [
    "n2=nom.geocode('M1E Scarborough Guildwood,Morningside,West Hill')\n",
    "print(n2)"
   ]
  },
  {
   "cell_type": "code",
   "execution_count": 147,
   "metadata": {},
   "outputs": [],
   "source": [
    "n3=nom.geocode(\"Toronto, Morningside\")\n",
    "#n3"
   ]
  },
  {
   "cell_type": "markdown",
   "metadata": {},
   "source": [
    "#### As you can see the postalcodes are different!"
   ]
  },
  {
   "cell_type": "code",
   "execution_count": 148,
   "metadata": {},
   "outputs": [],
   "source": [
    "n4=nom.geocode(\"Toronto, Morningside, M1E \")\n",
    "#print(n4)"
   ]
  },
  {
   "cell_type": "code",
   "execution_count": 149,
   "metadata": {},
   "outputs": [],
   "source": [
    "n5=nom.geocode(\"Toronto, M1E \")\n",
    "#print(n5)"
   ]
  },
  {
   "cell_type": "markdown",
   "metadata": {},
   "source": [
    "#### None again, ..."
   ]
  },
  {
   "cell_type": "markdown",
   "metadata": {},
   "source": [
    "### Use 'address' to get geocode coordinates:\n",
    "\n",
    "Geocoding (Latitude/Longitude Lookup) Required parameters in a geocoding request: address — The street address that you want to geocode, in the format used by the national postal service of the country concerned. Additional address elements such as business names and unit, suite or floor numbers should be avoided."
   ]
  },
  {
   "cell_type": "code",
   "execution_count": 150,
   "metadata": {},
   "outputs": [
    {
     "data": {
      "text/html": [
       "<div>\n",
       "<style scoped>\n",
       "    .dataframe tbody tr th:only-of-type {\n",
       "        vertical-align: middle;\n",
       "    }\n",
       "\n",
       "    .dataframe tbody tr th {\n",
       "        vertical-align: top;\n",
       "    }\n",
       "\n",
       "    .dataframe thead th {\n",
       "        text-align: right;\n",
       "    }\n",
       "</style>\n",
       "<table border=\"1\" class=\"dataframe\">\n",
       "  <thead>\n",
       "    <tr style=\"text-align: right;\">\n",
       "      <th></th>\n",
       "      <th>PostalCode</th>\n",
       "      <th>Borough</th>\n",
       "      <th>Neighbourhood</th>\n",
       "      <th>address</th>\n",
       "      <th>Coordinates</th>\n",
       "    </tr>\n",
       "  </thead>\n",
       "  <tbody>\n",
       "    <tr>\n",
       "      <th>0</th>\n",
       "      <td>M1B</td>\n",
       "      <td>Scarborough</td>\n",
       "      <td>Rouge,Malvern</td>\n",
       "      <td>M1B,Scarborough,Rouge,Malvern</td>\n",
       "      <td>(Malvern, Scarborough—Rouge Park, Scarborough,...</td>\n",
       "    </tr>\n",
       "    <tr>\n",
       "      <th>1</th>\n",
       "      <td>M1C</td>\n",
       "      <td>Scarborough</td>\n",
       "      <td>Highland Creek,Rouge Hill,Port Union</td>\n",
       "      <td>M1C,Scarborough,Highland Creek,Rouge Hill,Port...</td>\n",
       "      <td>None</td>\n",
       "    </tr>\n",
       "    <tr>\n",
       "      <th>2</th>\n",
       "      <td>M1E</td>\n",
       "      <td>Scarborough</td>\n",
       "      <td>Guildwood,Morningside,West Hill</td>\n",
       "      <td>M1E,Scarborough,Guildwood,Morningside,West Hill</td>\n",
       "      <td>None</td>\n",
       "    </tr>\n",
       "    <tr>\n",
       "      <th>3</th>\n",
       "      <td>M1G</td>\n",
       "      <td>Scarborough</td>\n",
       "      <td>Woburn</td>\n",
       "      <td>M1G,Scarborough,Woburn</td>\n",
       "      <td>(Woburn, Scarborough—Guildwood, Scarborough, T...</td>\n",
       "    </tr>\n",
       "    <tr>\n",
       "      <th>4</th>\n",
       "      <td>M1H</td>\n",
       "      <td>Scarborough</td>\n",
       "      <td>Cedarbrae</td>\n",
       "      <td>M1H,Scarborough,Cedarbrae</td>\n",
       "      <td>None</td>\n",
       "    </tr>\n",
       "  </tbody>\n",
       "</table>\n",
       "</div>"
      ],
      "text/plain": [
       "  PostalCode      Borough                         Neighbourhood  \\\n",
       "0        M1B  Scarborough                         Rouge,Malvern   \n",
       "1        M1C  Scarborough  Highland Creek,Rouge Hill,Port Union   \n",
       "2        M1E  Scarborough       Guildwood,Morningside,West Hill   \n",
       "3        M1G  Scarborough                                Woburn   \n",
       "4        M1H  Scarborough                             Cedarbrae   \n",
       "\n",
       "                                             address  \\\n",
       "0                      M1B,Scarborough,Rouge,Malvern   \n",
       "1  M1C,Scarborough,Highland Creek,Rouge Hill,Port...   \n",
       "2    M1E,Scarborough,Guildwood,Morningside,West Hill   \n",
       "3                             M1G,Scarborough,Woburn   \n",
       "4                          M1H,Scarborough,Cedarbrae   \n",
       "\n",
       "                                         Coordinates  \n",
       "0  (Malvern, Scarborough—Rouge Park, Scarborough,...  \n",
       "1                                               None  \n",
       "2                                               None  \n",
       "3  (Woburn, Scarborough—Guildwood, Scarborough, T...  \n",
       "4                                               None  "
      ]
     },
     "execution_count": 150,
     "metadata": {},
     "output_type": "execute_result"
    }
   ],
   "source": [
    "df_geopy['Coordinates'] =df_geopy['address'].apply(nom.geocode)\n",
    "df_geopy.head()\n",
    "\n"
   ]
  },
  {
   "cell_type": "markdown",
   "metadata": {},
   "source": [
    "### location object created at 'Coordinates', but there are only Coordinates 5 non-null objects! \n"
   ]
  },
  {
   "cell_type": "code",
   "execution_count": 151,
   "metadata": {},
   "outputs": [
    {
     "name": "stdout",
     "output_type": "stream",
     "text": [
      "<class 'pandas.core.frame.DataFrame'>\n",
      "Int64Index: 103 entries, 0 to 102\n",
      "Data columns (total 5 columns):\n",
      "PostalCode       103 non-null object\n",
      "Borough          103 non-null object\n",
      "Neighbourhood    103 non-null object\n",
      "address          103 non-null object\n",
      "Coordinates      5 non-null object\n",
      "dtypes: object(5)\n",
      "memory usage: 4.8+ KB\n"
     ]
    }
   ],
   "source": [
    "df_geopy.info()"
   ]
  },
  {
   "cell_type": "code",
   "execution_count": 152,
   "metadata": {},
   "outputs": [
    {
     "data": {
      "text/plain": [
       "Location(Malvern, Scarborough—Rouge Park, Scarborough, Toronto, Golden Horseshoe, Ontario, M1B 4Y7, Canada, (43.8091955, -79.2217008, 0.0))"
      ]
     },
     "execution_count": 152,
     "metadata": {},
     "output_type": "execute_result"
    }
   ],
   "source": [
    "df_geopy.Coordinates[0]"
   ]
  },
  {
   "cell_type": "code",
   "execution_count": 153,
   "metadata": {},
   "outputs": [
    {
     "name": "stdout",
     "output_type": "stream",
     "text": [
      "None\n"
     ]
    }
   ],
   "source": [
    "print(df_geopy.Coordinates[1])"
   ]
  },
  {
   "cell_type": "code",
   "execution_count": 154,
   "metadata": {},
   "outputs": [
    {
     "data": {
      "text/html": [
       "<div>\n",
       "<style scoped>\n",
       "    .dataframe tbody tr th:only-of-type {\n",
       "        vertical-align: middle;\n",
       "    }\n",
       "\n",
       "    .dataframe tbody tr th {\n",
       "        vertical-align: top;\n",
       "    }\n",
       "\n",
       "    .dataframe thead th {\n",
       "        text-align: right;\n",
       "    }\n",
       "</style>\n",
       "<table border=\"1\" class=\"dataframe\">\n",
       "  <thead>\n",
       "    <tr style=\"text-align: right;\">\n",
       "      <th></th>\n",
       "      <th>PostalCode</th>\n",
       "      <th>Borough</th>\n",
       "      <th>Neighbourhood</th>\n",
       "      <th>address</th>\n",
       "      <th>Coordinates</th>\n",
       "      <th>latitude</th>\n",
       "      <th>longitude</th>\n",
       "    </tr>\n",
       "  </thead>\n",
       "  <tbody>\n",
       "    <tr>\n",
       "      <th>0</th>\n",
       "      <td>M1B</td>\n",
       "      <td>Scarborough</td>\n",
       "      <td>Rouge,Malvern</td>\n",
       "      <td>M1B,Scarborough,Rouge,Malvern</td>\n",
       "      <td>(Malvern, Scarborough—Rouge Park, Scarborough,...</td>\n",
       "      <td>43.809196</td>\n",
       "      <td>-79.221701</td>\n",
       "    </tr>\n",
       "    <tr>\n",
       "      <th>1</th>\n",
       "      <td>M1C</td>\n",
       "      <td>Scarborough</td>\n",
       "      <td>Highland Creek,Rouge Hill,Port Union</td>\n",
       "      <td>M1C,Scarborough,Highland Creek,Rouge Hill,Port...</td>\n",
       "      <td>None</td>\n",
       "      <td>NaN</td>\n",
       "      <td>NaN</td>\n",
       "    </tr>\n",
       "    <tr>\n",
       "      <th>2</th>\n",
       "      <td>M1E</td>\n",
       "      <td>Scarborough</td>\n",
       "      <td>Guildwood,Morningside,West Hill</td>\n",
       "      <td>M1E,Scarborough,Guildwood,Morningside,West Hill</td>\n",
       "      <td>None</td>\n",
       "      <td>NaN</td>\n",
       "      <td>NaN</td>\n",
       "    </tr>\n",
       "    <tr>\n",
       "      <th>3</th>\n",
       "      <td>M1G</td>\n",
       "      <td>Scarborough</td>\n",
       "      <td>Woburn</td>\n",
       "      <td>M1G,Scarborough,Woburn</td>\n",
       "      <td>(Woburn, Scarborough—Guildwood, Scarborough, T...</td>\n",
       "      <td>43.759824</td>\n",
       "      <td>-79.225291</td>\n",
       "    </tr>\n",
       "    <tr>\n",
       "      <th>4</th>\n",
       "      <td>M1H</td>\n",
       "      <td>Scarborough</td>\n",
       "      <td>Cedarbrae</td>\n",
       "      <td>M1H,Scarborough,Cedarbrae</td>\n",
       "      <td>None</td>\n",
       "      <td>NaN</td>\n",
       "      <td>NaN</td>\n",
       "    </tr>\n",
       "  </tbody>\n",
       "</table>\n",
       "</div>"
      ],
      "text/plain": [
       "  PostalCode      Borough                         Neighbourhood  \\\n",
       "0        M1B  Scarborough                         Rouge,Malvern   \n",
       "1        M1C  Scarborough  Highland Creek,Rouge Hill,Port Union   \n",
       "2        M1E  Scarborough       Guildwood,Morningside,West Hill   \n",
       "3        M1G  Scarborough                                Woburn   \n",
       "4        M1H  Scarborough                             Cedarbrae   \n",
       "\n",
       "                                             address  \\\n",
       "0                      M1B,Scarborough,Rouge,Malvern   \n",
       "1  M1C,Scarborough,Highland Creek,Rouge Hill,Port...   \n",
       "2    M1E,Scarborough,Guildwood,Morningside,West Hill   \n",
       "3                             M1G,Scarborough,Woburn   \n",
       "4                          M1H,Scarborough,Cedarbrae   \n",
       "\n",
       "                                         Coordinates   latitude  longitude  \n",
       "0  (Malvern, Scarborough—Rouge Park, Scarborough,...  43.809196 -79.221701  \n",
       "1                                               None        NaN        NaN  \n",
       "2                                               None        NaN        NaN  \n",
       "3  (Woburn, Scarborough—Guildwood, Scarborough, T...  43.759824 -79.225291  \n",
       "4                                               None        NaN        NaN  "
      ]
     },
     "execution_count": 154,
     "metadata": {},
     "output_type": "execute_result"
    }
   ],
   "source": [
    "df_geopy['latitude']=df_geopy['Coordinates'].apply(lambda x: x.latitude if x !=None else None)\n",
    "df_geopy['longitude']=df_geopy['Coordinates'].apply(lambda x: x.longitude if x !=None else None)\n",
    "df_geopy.head()"
   ]
  },
  {
   "cell_type": "code",
   "execution_count": 155,
   "metadata": {},
   "outputs": [],
   "source": [
    "df_geopy.to_csv('geo_loc_py.csv')"
   ]
  },
  {
   "cell_type": "markdown",
   "metadata": {},
   "source": [
    "## As just 5 addresses were fruitful, we will go on to use the given geo-location data."
   ]
  },
  {
   "cell_type": "code",
   "execution_count": 156,
   "metadata": {},
   "outputs": [
    {
     "name": "stdout",
     "output_type": "stream",
     "text": [
      "The latitude of M1B,Scarborough,Rouge,Malvern is 43.8091955 and its longitude is -79.2217008\n"
     ]
    }
   ],
   "source": [
    "print('The latitude of', df_geopy.address[0],  'is', df_geopy.latitude[0], 'and its longitude is',df_geopy.longitude[0])"
   ]
  },
  {
   "cell_type": "markdown",
   "metadata": {},
   "source": [
    "#### Now let's merge the given dataframes:"
   ]
  },
  {
   "cell_type": "code",
   "execution_count": 157,
   "metadata": {},
   "outputs": [
    {
     "data": {
      "text/html": [
       "<div>\n",
       "<style scoped>\n",
       "    .dataframe tbody tr th:only-of-type {\n",
       "        vertical-align: middle;\n",
       "    }\n",
       "\n",
       "    .dataframe tbody tr th {\n",
       "        vertical-align: top;\n",
       "    }\n",
       "\n",
       "    .dataframe thead th {\n",
       "        text-align: right;\n",
       "    }\n",
       "</style>\n",
       "<table border=\"1\" class=\"dataframe\">\n",
       "  <thead>\n",
       "    <tr style=\"text-align: right;\">\n",
       "      <th></th>\n",
       "      <th>Unnamed: 0</th>\n",
       "      <th>PostalCode</th>\n",
       "      <th>Borough</th>\n",
       "      <th>Neighbourhood</th>\n",
       "      <th>address</th>\n",
       "    </tr>\n",
       "  </thead>\n",
       "  <tbody>\n",
       "    <tr>\n",
       "      <th>0</th>\n",
       "      <td>0</td>\n",
       "      <td>M1B</td>\n",
       "      <td>Scarborough</td>\n",
       "      <td>Rouge,Malvern</td>\n",
       "      <td>M1B, Scarborough, Rouge,Malvern</td>\n",
       "    </tr>\n",
       "    <tr>\n",
       "      <th>1</th>\n",
       "      <td>1</td>\n",
       "      <td>M1C</td>\n",
       "      <td>Scarborough</td>\n",
       "      <td>Highland Creek,Rouge Hill,Port Union</td>\n",
       "      <td>M1C, Scarborough, Highland Creek,Rouge Hill,Po...</td>\n",
       "    </tr>\n",
       "    <tr>\n",
       "      <th>2</th>\n",
       "      <td>2</td>\n",
       "      <td>M1E</td>\n",
       "      <td>Scarborough</td>\n",
       "      <td>Guildwood,Morningside,West Hill</td>\n",
       "      <td>M1E, Scarborough, Guildwood,Morningside,West Hill</td>\n",
       "    </tr>\n",
       "    <tr>\n",
       "      <th>3</th>\n",
       "      <td>3</td>\n",
       "      <td>M1G</td>\n",
       "      <td>Scarborough</td>\n",
       "      <td>Woburn</td>\n",
       "      <td>M1G, Scarborough, Woburn</td>\n",
       "    </tr>\n",
       "    <tr>\n",
       "      <th>4</th>\n",
       "      <td>4</td>\n",
       "      <td>M1H</td>\n",
       "      <td>Scarborough</td>\n",
       "      <td>Cedarbrae</td>\n",
       "      <td>M1H, Scarborough, Cedarbrae</td>\n",
       "    </tr>\n",
       "  </tbody>\n",
       "</table>\n",
       "</div>"
      ],
      "text/plain": [
       "   Unnamed: 0 PostalCode      Borough                         Neighbourhood  \\\n",
       "0           0        M1B  Scarborough                         Rouge,Malvern   \n",
       "1           1        M1C  Scarborough  Highland Creek,Rouge Hill,Port Union   \n",
       "2           2        M1E  Scarborough       Guildwood,Morningside,West Hill   \n",
       "3           3        M1G  Scarborough                                Woburn   \n",
       "4           4        M1H  Scarborough                             Cedarbrae   \n",
       "\n",
       "                                             address  \n",
       "0                    M1B, Scarborough, Rouge,Malvern  \n",
       "1  M1C, Scarborough, Highland Creek,Rouge Hill,Po...  \n",
       "2  M1E, Scarborough, Guildwood,Morningside,West Hill  \n",
       "3                           M1G, Scarborough, Woburn  \n",
       "4                        M1H, Scarborough, Cedarbrae  "
      ]
     },
     "execution_count": 157,
     "metadata": {},
     "output_type": "execute_result"
    }
   ],
   "source": [
    "# Load the Pandas libraries with alias 'pd' \n",
    "import pandas as pd \n",
    "# Read data from file 'filename.csv' \n",
    "# (in the same directory that your python process is based)\n",
    "# Control delimiters, rows, column names with read_csv (see later) \n",
    "data2 = pd.read_csv(\"geopy.csv\") \n",
    "# Preview the first 5 lines of the loaded data \n",
    "data2.head()"
   ]
  },
  {
   "cell_type": "code",
   "execution_count": 158,
   "metadata": {},
   "outputs": [
    {
     "data": {
      "text/html": [
       "<div>\n",
       "<style scoped>\n",
       "    .dataframe tbody tr th:only-of-type {\n",
       "        vertical-align: middle;\n",
       "    }\n",
       "\n",
       "    .dataframe tbody tr th {\n",
       "        vertical-align: top;\n",
       "    }\n",
       "\n",
       "    .dataframe thead th {\n",
       "        text-align: right;\n",
       "    }\n",
       "</style>\n",
       "<table border=\"1\" class=\"dataframe\">\n",
       "  <thead>\n",
       "    <tr style=\"text-align: right;\">\n",
       "      <th></th>\n",
       "      <th>Postal Code</th>\n",
       "      <th>Latitude</th>\n",
       "      <th>Longitude</th>\n",
       "    </tr>\n",
       "  </thead>\n",
       "  <tbody>\n",
       "    <tr>\n",
       "      <th>0</th>\n",
       "      <td>M1B</td>\n",
       "      <td>43.806686</td>\n",
       "      <td>-79.194353</td>\n",
       "    </tr>\n",
       "    <tr>\n",
       "      <th>1</th>\n",
       "      <td>M1C</td>\n",
       "      <td>43.784535</td>\n",
       "      <td>-79.160497</td>\n",
       "    </tr>\n",
       "    <tr>\n",
       "      <th>2</th>\n",
       "      <td>M1E</td>\n",
       "      <td>43.763573</td>\n",
       "      <td>-79.188711</td>\n",
       "    </tr>\n",
       "    <tr>\n",
       "      <th>3</th>\n",
       "      <td>M1G</td>\n",
       "      <td>43.770992</td>\n",
       "      <td>-79.216917</td>\n",
       "    </tr>\n",
       "    <tr>\n",
       "      <th>4</th>\n",
       "      <td>M1H</td>\n",
       "      <td>43.773136</td>\n",
       "      <td>-79.239476</td>\n",
       "    </tr>\n",
       "  </tbody>\n",
       "</table>\n",
       "</div>"
      ],
      "text/plain": [
       "  Postal Code   Latitude  Longitude\n",
       "0         M1B  43.806686 -79.194353\n",
       "1         M1C  43.784535 -79.160497\n",
       "2         M1E  43.763573 -79.188711\n",
       "3         M1G  43.770992 -79.216917\n",
       "4         M1H  43.773136 -79.239476"
      ]
     },
     "execution_count": 158,
     "metadata": {},
     "output_type": "execute_result"
    }
   ],
   "source": [
    "data3 = pd.read_csv(\"Geospatial_Coordinates.csv\") \n",
    "# Preview the first 5 lines of the loaded data \n",
    "data3.head()"
   ]
  },
  {
   "cell_type": "markdown",
   "metadata": {},
   "source": [
    "- Rename 'Postal Code'"
   ]
  },
  {
   "cell_type": "code",
   "execution_count": 159,
   "metadata": {},
   "outputs": [],
   "source": [
    "data3.rename(columns={'Postal Code': 'PostalCode'}, inplace=True)\n",
    "#data3.head()"
   ]
  },
  {
   "cell_type": "code",
   "execution_count": 160,
   "metadata": {},
   "outputs": [
    {
     "data": {
      "text/html": [
       "<div>\n",
       "<style scoped>\n",
       "    .dataframe tbody tr th:only-of-type {\n",
       "        vertical-align: middle;\n",
       "    }\n",
       "\n",
       "    .dataframe tbody tr th {\n",
       "        vertical-align: top;\n",
       "    }\n",
       "\n",
       "    .dataframe thead th {\n",
       "        text-align: right;\n",
       "    }\n",
       "</style>\n",
       "<table border=\"1\" class=\"dataframe\">\n",
       "  <thead>\n",
       "    <tr style=\"text-align: right;\">\n",
       "      <th></th>\n",
       "      <th>PostalCode</th>\n",
       "      <th>Latitude</th>\n",
       "      <th>Longitude</th>\n",
       "      <th>Unnamed: 0</th>\n",
       "      <th>Borough</th>\n",
       "      <th>Neighbourhood</th>\n",
       "      <th>address</th>\n",
       "    </tr>\n",
       "  </thead>\n",
       "  <tbody>\n",
       "    <tr>\n",
       "      <th>0</th>\n",
       "      <td>M1B</td>\n",
       "      <td>43.806686</td>\n",
       "      <td>-79.194353</td>\n",
       "      <td>0</td>\n",
       "      <td>Scarborough</td>\n",
       "      <td>Rouge,Malvern</td>\n",
       "      <td>M1B, Scarborough, Rouge,Malvern</td>\n",
       "    </tr>\n",
       "    <tr>\n",
       "      <th>1</th>\n",
       "      <td>M1C</td>\n",
       "      <td>43.784535</td>\n",
       "      <td>-79.160497</td>\n",
       "      <td>1</td>\n",
       "      <td>Scarborough</td>\n",
       "      <td>Highland Creek,Rouge Hill,Port Union</td>\n",
       "      <td>M1C, Scarborough, Highland Creek,Rouge Hill,Po...</td>\n",
       "    </tr>\n",
       "    <tr>\n",
       "      <th>2</th>\n",
       "      <td>M1E</td>\n",
       "      <td>43.763573</td>\n",
       "      <td>-79.188711</td>\n",
       "      <td>2</td>\n",
       "      <td>Scarborough</td>\n",
       "      <td>Guildwood,Morningside,West Hill</td>\n",
       "      <td>M1E, Scarborough, Guildwood,Morningside,West Hill</td>\n",
       "    </tr>\n",
       "    <tr>\n",
       "      <th>3</th>\n",
       "      <td>M1G</td>\n",
       "      <td>43.770992</td>\n",
       "      <td>-79.216917</td>\n",
       "      <td>3</td>\n",
       "      <td>Scarborough</td>\n",
       "      <td>Woburn</td>\n",
       "      <td>M1G, Scarborough, Woburn</td>\n",
       "    </tr>\n",
       "    <tr>\n",
       "      <th>4</th>\n",
       "      <td>M1H</td>\n",
       "      <td>43.773136</td>\n",
       "      <td>-79.239476</td>\n",
       "      <td>4</td>\n",
       "      <td>Scarborough</td>\n",
       "      <td>Cedarbrae</td>\n",
       "      <td>M1H, Scarborough, Cedarbrae</td>\n",
       "    </tr>\n",
       "  </tbody>\n",
       "</table>\n",
       "</div>"
      ],
      "text/plain": [
       "  PostalCode   Latitude  Longitude  Unnamed: 0      Borough  \\\n",
       "0        M1B  43.806686 -79.194353           0  Scarborough   \n",
       "1        M1C  43.784535 -79.160497           1  Scarborough   \n",
       "2        M1E  43.763573 -79.188711           2  Scarborough   \n",
       "3        M1G  43.770992 -79.216917           3  Scarborough   \n",
       "4        M1H  43.773136 -79.239476           4  Scarborough   \n",
       "\n",
       "                          Neighbourhood  \\\n",
       "0                         Rouge,Malvern   \n",
       "1  Highland Creek,Rouge Hill,Port Union   \n",
       "2       Guildwood,Morningside,West Hill   \n",
       "3                                Woburn   \n",
       "4                             Cedarbrae   \n",
       "\n",
       "                                             address  \n",
       "0                    M1B, Scarborough, Rouge,Malvern  \n",
       "1  M1C, Scarborough, Highland Creek,Rouge Hill,Po...  \n",
       "2  M1E, Scarborough, Guildwood,Morningside,West Hill  \n",
       "3                           M1G, Scarborough, Woburn  \n",
       "4                        M1H, Scarborough, Cedarbrae  "
      ]
     },
     "execution_count": 160,
     "metadata": {},
     "output_type": "execute_result"
    }
   ],
   "source": [
    "data1 = pd.merge(data3, data2, how='inner', on=None, left_on=None, right_on=None,\n",
    "         left_index=False, right_index=False, sort=True,\n",
    "         suffixes=('_x', '_y'), copy=True, indicator=False,\n",
    "         validate=None)\n",
    "\n",
    "data1.head()"
   ]
  },
  {
   "cell_type": "code",
   "execution_count": 161,
   "metadata": {},
   "outputs": [
    {
     "name": "stdout",
     "output_type": "stream",
     "text": [
      "<class 'pandas.core.frame.DataFrame'>\n",
      "Int64Index: 103 entries, 0 to 102\n",
      "Data columns (total 7 columns):\n",
      "PostalCode       103 non-null object\n",
      "Latitude         103 non-null float64\n",
      "Longitude        103 non-null float64\n",
      "Unnamed: 0       103 non-null int64\n",
      "Borough          103 non-null object\n",
      "Neighbourhood    103 non-null object\n",
      "address          103 non-null object\n",
      "dtypes: float64(2), int64(1), object(4)\n",
      "memory usage: 6.4+ KB\n"
     ]
    }
   ],
   "source": [
    "data1.info()"
   ]
  },
  {
   "cell_type": "markdown",
   "metadata": {},
   "source": [
    "- Rearrange columns and drop foreign key:"
   ]
  },
  {
   "cell_type": "code",
   "execution_count": 162,
   "metadata": {},
   "outputs": [
    {
     "data": {
      "text/plain": [
       "['PostalCode',\n",
       " 'Latitude',\n",
       " 'Longitude',\n",
       " 'Unnamed: 0',\n",
       " 'Borough',\n",
       " 'Neighbourhood',\n",
       " 'address']"
      ]
     },
     "execution_count": 162,
     "metadata": {},
     "output_type": "execute_result"
    }
   ],
   "source": [
    "cols = data1.columns.tolist()\n",
    "cols"
   ]
  },
  {
   "cell_type": "code",
   "execution_count": 163,
   "metadata": {},
   "outputs": [
    {
     "data": {
      "text/plain": [
       "['PostalCode', 'Borough', 'Neighbourhood', 'Latitude', 'Longitude']"
      ]
     },
     "execution_count": 163,
     "metadata": {},
     "output_type": "execute_result"
    }
   ],
   "source": [
    "new_column_order = ['PostalCode',\n",
    " 'Borough',\n",
    " 'Neighbourhood',\n",
    " 'Latitude',\n",
    " 'Longitude']\n",
    "new_column_order"
   ]
  },
  {
   "cell_type": "code",
   "execution_count": 164,
   "metadata": {},
   "outputs": [],
   "source": [
    "data1 = data1[new_column_order]\n",
    "#data1.head()"
   ]
  },
  {
   "cell_type": "markdown",
   "metadata": {},
   "source": [
    "- Sort dataframe to match example:"
   ]
  },
  {
   "cell_type": "code",
   "execution_count": 165,
   "metadata": {},
   "outputs": [],
   "source": [
    "sorted_df = data1.sort_values([ 'Neighbourhood', 'Latitude'], ascending=[True, True])\n",
    "#sorted_df.head()\n",
    "# no idea how to get it exacly like the exqample :("
   ]
  },
  {
   "cell_type": "code",
   "execution_count": 166,
   "metadata": {},
   "outputs": [],
   "source": [
    "sorted_df.reset_index(inplace=True)\n",
    "#sorted_df.head()\n"
   ]
  },
  {
   "cell_type": "code",
   "execution_count": 167,
   "metadata": {},
   "outputs": [],
   "source": [
    "sorted_cols =sorted_df.columns.tolist()\n",
    "#sorted_cols"
   ]
  },
  {
   "cell_type": "code",
   "execution_count": 168,
   "metadata": {},
   "outputs": [
    {
     "data": {
      "text/plain": [
       "['PostalCode', 'Borough', 'Neighbourhood', 'Latitude', 'Longitude']"
      ]
     },
     "execution_count": 168,
     "metadata": {},
     "output_type": "execute_result"
    }
   ],
   "source": [
    "new_column_order2 = ['PostalCode',\n",
    " 'Borough',\n",
    " 'Neighbourhood',\n",
    " 'Latitude',\n",
    " 'Longitude']\n",
    "new_column_order2"
   ]
  },
  {
   "cell_type": "code",
   "execution_count": 169,
   "metadata": {},
   "outputs": [
    {
     "data": {
      "text/html": [
       "<div>\n",
       "<style scoped>\n",
       "    .dataframe tbody tr th:only-of-type {\n",
       "        vertical-align: middle;\n",
       "    }\n",
       "\n",
       "    .dataframe tbody tr th {\n",
       "        vertical-align: top;\n",
       "    }\n",
       "\n",
       "    .dataframe thead th {\n",
       "        text-align: right;\n",
       "    }\n",
       "</style>\n",
       "<table border=\"1\" class=\"dataframe\">\n",
       "  <thead>\n",
       "    <tr style=\"text-align: right;\">\n",
       "      <th></th>\n",
       "      <th>PostalCode</th>\n",
       "      <th>Borough</th>\n",
       "      <th>Neighbourhood</th>\n",
       "      <th>Latitude</th>\n",
       "      <th>Longitude</th>\n",
       "    </tr>\n",
       "  </thead>\n",
       "  <tbody>\n",
       "    <tr>\n",
       "      <th>0</th>\n",
       "      <td>M5H</td>\n",
       "      <td>DowntownToronto</td>\n",
       "      <td>Adelaide,King,Richmond</td>\n",
       "      <td>43.650571</td>\n",
       "      <td>-79.384568</td>\n",
       "    </tr>\n",
       "    <tr>\n",
       "      <th>1</th>\n",
       "      <td>M1S</td>\n",
       "      <td>Scarborough</td>\n",
       "      <td>Agincourt</td>\n",
       "      <td>43.794200</td>\n",
       "      <td>-79.262029</td>\n",
       "    </tr>\n",
       "    <tr>\n",
       "      <th>2</th>\n",
       "      <td>M1V</td>\n",
       "      <td>Scarborough</td>\n",
       "      <td>Agincourt North,L'Amoreaux East,Milliken,Steel...</td>\n",
       "      <td>43.815252</td>\n",
       "      <td>-79.284577</td>\n",
       "    </tr>\n",
       "    <tr>\n",
       "      <th>3</th>\n",
       "      <td>M9V</td>\n",
       "      <td>Etobicoke</td>\n",
       "      <td>Albion Gardens,Beaumond Heights,Humbergate,Jam...</td>\n",
       "      <td>43.739416</td>\n",
       "      <td>-79.588437</td>\n",
       "    </tr>\n",
       "    <tr>\n",
       "      <th>4</th>\n",
       "      <td>M8W</td>\n",
       "      <td>Etobicoke</td>\n",
       "      <td>Alderwood,Long Branch</td>\n",
       "      <td>43.602414</td>\n",
       "      <td>-79.543484</td>\n",
       "    </tr>\n",
       "  </tbody>\n",
       "</table>\n",
       "</div>"
      ],
      "text/plain": [
       "  PostalCode          Borough  \\\n",
       "0        M5H  DowntownToronto   \n",
       "1        M1S      Scarborough   \n",
       "2        M1V      Scarborough   \n",
       "3        M9V        Etobicoke   \n",
       "4        M8W        Etobicoke   \n",
       "\n",
       "                                       Neighbourhood   Latitude  Longitude  \n",
       "0                             Adelaide,King,Richmond  43.650571 -79.384568  \n",
       "1                                          Agincourt  43.794200 -79.262029  \n",
       "2  Agincourt North,L'Amoreaux East,Milliken,Steel...  43.815252 -79.284577  \n",
       "3  Albion Gardens,Beaumond Heights,Humbergate,Jam...  43.739416 -79.588437  \n",
       "4                              Alderwood,Long Branch  43.602414 -79.543484  "
      ]
     },
     "execution_count": 169,
     "metadata": {},
     "output_type": "execute_result"
    }
   ],
   "source": [
    "sorted_dataframe = sorted_df[new_column_order]\n",
    "sorted_dataframe.head()"
   ]
  },
  {
   "cell_type": "markdown",
   "metadata": {},
   "source": [
    "## 2.6. Submit a link to your Notebook on your Github repository. (2 marks)"
   ]
  },
  {
   "cell_type": "code",
   "execution_count": 170,
   "metadata": {},
   "outputs": [],
   "source": [
    "sorted_dataframe.to_csv('sorted_geoloc.csv')"
   ]
  },
  {
   "cell_type": "markdown",
   "metadata": {},
   "source": [
    "#https://github.com/lindangulopez/Coursera_Capstone/blob/master/Q_2latlong.ipynb"
   ]
  },
  {
   "cell_type": "markdown",
   "metadata": {},
   "source": [
    "# Question 3:\n"
   ]
  },
  {
   "cell_type": "markdown",
   "metadata": {},
   "source": [
    "## 3.1. Build a test set with boroughs in Toronto, see:\n",
    "\n",
    "https://medium.com/@bobhaffner/folium-markerclusters-and-fastmarkerclusters-1e03b01cb7b1\n",
    "\n"
   ]
  },
  {
   "cell_type": "markdown",
   "metadata": {},
   "source": [
    "Import dependencies that we will need."
   ]
  },
  {
   "cell_type": "code",
   "execution_count": 171,
   "metadata": {},
   "outputs": [
    {
     "name": "stdout",
     "output_type": "stream",
     "text": [
      "Libraries imported.\n"
     ]
    }
   ],
   "source": [
    "import numpy as np # library to handle data in a vectorized manner\n",
    "\n",
    "import pandas as pd # library for data analsysis\n",
    "pd.set_option('display.max_columns', None)\n",
    "pd.set_option('display.max_rows', None)\n",
    "\n",
    "import json # library to handle JSON files\n",
    "\n",
    "#!conda install -c conda-forge geopy --yes # uncomment this line if you haven't completed the Foursquare API lab\n",
    "from geopy.geocoders import Nominatim # convert an address into latitude and longitude values\n",
    "\n",
    "import requests # library to handle requests\n",
    "from pandas.io.json import json_normalize # tranform JSON file into a pandas dataframe\n",
    "\n",
    "# Matplotlib and associated plotting modules\n",
    "import matplotlib.cm as cm\n",
    "import matplotlib.colors as colors\n",
    "\n",
    "# import k-means from clustering stage\n",
    "from sklearn.cluster import KMeans\n",
    "\n",
    "#!conda install -c conda-forge folium=0.5.0 --yes # uncomment this line if you haven't completed the Foursquare API lab\n",
    "import folium # map rendering library\n",
    "\n",
    "print('Libraries imported.')"
   ]
  },
  {
   "cell_type": "markdown",
   "metadata": {},
   "source": [
    "#### many ways to move the data to json, like:\n",
    "\n",
    ">with open('df.json', 'w', encoding='utf-8') as file:\n",
    ">    sorted_dataframe.to_json(file, force_ascii=False)\n",
    "\n",
    "but I'll go with the following to start off :)"
   ]
  },
  {
   "cell_type": "code",
   "execution_count": 105,
   "metadata": {},
   "outputs": [],
   "source": [
    "# library to handle JSON files\n",
    "\n",
    "import pandas as pd\n",
    "\n",
    "import json\n",
    "\n",
    "sorted_dataframe.to_json(path_or_buf='geo_toronto.json', orient='table')\n"
   ]
  },
  {
   "cell_type": "code",
   "execution_count": 106,
   "metadata": {},
   "outputs": [],
   "source": [
    "with open('geo_toronto.json') as json_data:\n",
    "    Toronto_data = json.load(json_data)"
   ]
  },
  {
   "cell_type": "code",
   "execution_count": 108,
   "metadata": {},
   "outputs": [],
   "source": [
    "#Toronto_data\n",
    "# Data is in the 'data' field   "
   ]
  },
  {
   "cell_type": "code",
   "execution_count": 109,
   "metadata": {},
   "outputs": [
    {
     "data": {
      "text/plain": [
       "{'index': 0,\n",
       " 'PostalCode': 'M5H',\n",
       " 'Borough': 'DowntownToronto',\n",
       " 'Neighbourhood': 'Adelaide,King,Richmond',\n",
       " 'Latitude': 43.6505712,\n",
       " 'Longitude': -79.3845675}"
      ]
     },
     "execution_count": 109,
     "metadata": {},
     "output_type": "execute_result"
    }
   ],
   "source": [
    "neighborhoods_data = Toronto_data['data']\n",
    "neighborhoods_data[0]\n",
    "#Let's take a look at the first item in this list."
   ]
  },
  {
   "cell_type": "code",
   "execution_count": 125,
   "metadata": {},
   "outputs": [
    {
     "name": "stdout",
     "output_type": "stream",
     "text": [
      "<class 'pandas.core.frame.DataFrame'>\n",
      "RangeIndex: 103 entries, 0 to 102\n",
      "Data columns (total 5 columns):\n",
      "PostalCode       103 non-null object\n",
      "Borough          103 non-null object\n",
      "Neighbourhood    103 non-null object\n",
      "Latitude         103 non-null float64\n",
      "Longitude        103 non-null float64\n",
      "dtypes: float64(2), object(3)\n",
      "memory usage: 4.1+ KB\n"
     ]
    },
    {
     "data": {
      "text/plain": [
       "(103, 5)"
      ]
     },
     "execution_count": 125,
     "metadata": {},
     "output_type": "execute_result"
    }
   ],
   "source": [
    "\n",
    "sorted_dataframe.info()\n",
    "sorted_dataframe.shape\n"
   ]
  },
  {
   "cell_type": "code",
   "execution_count": 126,
   "metadata": {},
   "outputs": [
    {
     "data": {
      "text/html": [
       "<div>\n",
       "<style scoped>\n",
       "    .dataframe tbody tr th:only-of-type {\n",
       "        vertical-align: middle;\n",
       "    }\n",
       "\n",
       "    .dataframe tbody tr th {\n",
       "        vertical-align: top;\n",
       "    }\n",
       "\n",
       "    .dataframe thead th {\n",
       "        text-align: right;\n",
       "    }\n",
       "</style>\n",
       "<table border=\"1\" class=\"dataframe\">\n",
       "  <thead>\n",
       "    <tr style=\"text-align: right;\">\n",
       "      <th></th>\n",
       "      <th>PostalCode</th>\n",
       "      <th>Borough</th>\n",
       "      <th>Neighbourhood</th>\n",
       "      <th>Latitude</th>\n",
       "      <th>Longitude</th>\n",
       "    </tr>\n",
       "  </thead>\n",
       "  <tbody>\n",
       "    <tr>\n",
       "      <th>0</th>\n",
       "      <td>M5H</td>\n",
       "      <td>DowntownToronto</td>\n",
       "      <td>Adelaide,King,Richmond</td>\n",
       "      <td>43.650571</td>\n",
       "      <td>-79.384568</td>\n",
       "    </tr>\n",
       "    <tr>\n",
       "      <th>1</th>\n",
       "      <td>M1S</td>\n",
       "      <td>Scarborough</td>\n",
       "      <td>Agincourt</td>\n",
       "      <td>43.794200</td>\n",
       "      <td>-79.262029</td>\n",
       "    </tr>\n",
       "    <tr>\n",
       "      <th>2</th>\n",
       "      <td>M1V</td>\n",
       "      <td>Scarborough</td>\n",
       "      <td>Agincourt North,L'Amoreaux East,Milliken,Steel...</td>\n",
       "      <td>43.815252</td>\n",
       "      <td>-79.284577</td>\n",
       "    </tr>\n",
       "    <tr>\n",
       "      <th>3</th>\n",
       "      <td>M9V</td>\n",
       "      <td>Etobicoke</td>\n",
       "      <td>Albion Gardens,Beaumond Heights,Humbergate,Jam...</td>\n",
       "      <td>43.739416</td>\n",
       "      <td>-79.588437</td>\n",
       "    </tr>\n",
       "    <tr>\n",
       "      <th>4</th>\n",
       "      <td>M8W</td>\n",
       "      <td>Etobicoke</td>\n",
       "      <td>Alderwood,Long Branch</td>\n",
       "      <td>43.602414</td>\n",
       "      <td>-79.543484</td>\n",
       "    </tr>\n",
       "  </tbody>\n",
       "</table>\n",
       "</div>"
      ],
      "text/plain": [
       "  PostalCode          Borough  \\\n",
       "0        M5H  DowntownToronto   \n",
       "1        M1S      Scarborough   \n",
       "2        M1V      Scarborough   \n",
       "3        M9V        Etobicoke   \n",
       "4        M8W        Etobicoke   \n",
       "\n",
       "                                       Neighbourhood   Latitude  Longitude  \n",
       "0                             Adelaide,King,Richmond  43.650571 -79.384568  \n",
       "1                                          Agincourt  43.794200 -79.262029  \n",
       "2  Agincourt North,L'Amoreaux East,Milliken,Steel...  43.815252 -79.284577  \n",
       "3  Albion Gardens,Beaumond Heights,Humbergate,Jam...  43.739416 -79.588437  \n",
       "4                              Alderwood,Long Branch  43.602414 -79.543484  "
      ]
     },
     "execution_count": 126,
     "metadata": {},
     "output_type": "execute_result"
    }
   ],
   "source": [
    "sorted_dataframe.head()"
   ]
  },
  {
   "cell_type": "code",
   "execution_count": 127,
   "metadata": {},
   "outputs": [
    {
     "name": "stdout",
     "output_type": "stream",
     "text": [
      "The dataframe has 11 boroughs and 103 neighborhoods.\n"
     ]
    }
   ],
   "source": [
    "print('The dataframe has {} boroughs and {} neighborhoods.'.format(\n",
    "        len(sorted_dataframe['Borough'].unique()),\n",
    "        sorted_dataframe.shape[0]\n",
    "    )\n",
    ")"
   ]
  },
  {
   "cell_type": "code",
   "execution_count": 128,
   "metadata": {},
   "outputs": [
    {
     "name": "stdout",
     "output_type": "stream",
     "text": [
      "The geograpical coordinate of Adelaide are -34.9281805, 138.5999312.\n"
     ]
    }
   ],
   "source": [
    "address = 'Adelaide'\n",
    "\n",
    "geolocator = Nominatim()\n",
    "location = geolocator.geocode(address)\n",
    "latitude = location.latitude\n",
    "longitude = location.longitude\n",
    "print('The geograpical coordinate of Adelaide are {}, {}.'.format(latitude, longitude))"
   ]
  },
  {
   "cell_type": "code",
   "execution_count": 129,
   "metadata": {},
   "outputs": [
    {
     "name": "stdout",
     "output_type": "stream",
     "text": [
      "Collecting package metadata: done\n",
      "Solving environment: / \n",
      "The environment is inconsistent, please check the package plan carefully\n",
      "The following packages are causing the inconsistency:\n",
      "\n",
      "  - defaults/linux-64::anaconda==5.3.1=py37_0\n",
      "  - defaults/linux-64::astropy==3.0.4=py37h14c3975_0\n",
      "  - defaults/linux-64::bkcharts==0.2=py37_0\n",
      "  - defaults/linux-64::blaze==0.11.3=py37_0\n",
      "  - defaults/linux-64::bokeh==0.13.0=py37_0\n",
      "  - defaults/linux-64::bottleneck==1.2.1=py37h035aef0_1\n",
      "  - defaults/linux-64::dask==0.19.1=py37_0\n",
      "  - defaults/linux-64::datashape==0.5.4=py37_1\n",
      "  - defaults/linux-64::mkl-service==1.1.2=py37h90e4bf4_5\n",
      "  - defaults/linux-64::numba==0.39.0=py37h04863e7_0\n",
      "  - defaults/linux-64::numexpr==2.6.8=py37hd89afb7_0\n",
      "  - defaults/linux-64::odo==0.5.1=py37_0\n",
      "  - defaults/linux-64::pytables==3.4.4=py37ha205bf6_0\n",
      "  - defaults/linux-64::pytest-arraydiff==0.2=py37h39e3cac_0\n",
      "  - defaults/linux-64::pytest-astropy==0.4.0=py37_0\n",
      "  - defaults/linux-64::pytest-doctestplus==0.1.3=py37_0\n",
      "  - defaults/linux-64::pywavelets==1.0.0=py37hdd07704_0\n",
      "  - defaults/linux-64::scikit-image==0.14.0=py37hf484d3e_1\n",
      "done\n",
      "\n",
      "# All requested packages already installed.\n",
      "\n"
     ]
    }
   ],
   "source": [
    "!conda install -c conda-forge folium=0.5.0 --yes # uncomment this line if you haven't completed the Foursquare API lab\n"
   ]
  },
  {
   "cell_type": "code",
   "execution_count": 130,
   "metadata": {},
   "outputs": [
    {
     "name": "stdout",
     "output_type": "stream",
     "text": [
      "imported pandas & folium\n"
     ]
    }
   ],
   "source": [
    "import pandas as pd\n",
    "import folium\n",
    "\n",
    "print('imported pandas & folium')"
   ]
  },
  {
   "cell_type": "code",
   "execution_count": 132,
   "metadata": {},
   "outputs": [
    {
     "data": {
      "text/html": [
       "<div style=\"width:100%;\"><div style=\"position:relative;width:100%;height:0;padding-bottom:60%;\"><iframe src=\"data:text/html;charset=utf-8;base64,PCFET0NUWVBFIGh0bWw+CjxoZWFkPiAgICAKICAgIDxtZXRhIGh0dHAtZXF1aXY9ImNvbnRlbnQtdHlwZSIgY29udGVudD0idGV4dC9odG1sOyBjaGFyc2V0PVVURi04IiAvPgogICAgPHNjcmlwdD5MX1BSRUZFUl9DQU5WQVMgPSBmYWxzZTsgTF9OT19UT1VDSCA9IGZhbHNlOyBMX0RJU0FCTEVfM0QgPSBmYWxzZTs8L3NjcmlwdD4KICAgIDxzY3JpcHQgc3JjPSJodHRwczovL2Nkbi5qc2RlbGl2ci5uZXQvbnBtL2xlYWZsZXRAMS4yLjAvZGlzdC9sZWFmbGV0LmpzIj48L3NjcmlwdD4KICAgIDxzY3JpcHQgc3JjPSJodHRwczovL2FqYXguZ29vZ2xlYXBpcy5jb20vYWpheC9saWJzL2pxdWVyeS8xLjExLjEvanF1ZXJ5Lm1pbi5qcyI+PC9zY3JpcHQ+CiAgICA8c2NyaXB0IHNyYz0iaHR0cHM6Ly9tYXhjZG4uYm9vdHN0cmFwY2RuLmNvbS9ib290c3RyYXAvMy4yLjAvanMvYm9vdHN0cmFwLm1pbi5qcyI+PC9zY3JpcHQ+CiAgICA8c2NyaXB0IHNyYz0iaHR0cHM6Ly9jZG5qcy5jbG91ZGZsYXJlLmNvbS9hamF4L2xpYnMvTGVhZmxldC5hd2Vzb21lLW1hcmtlcnMvMi4wLjIvbGVhZmxldC5hd2Vzb21lLW1hcmtlcnMuanMiPjwvc2NyaXB0PgogICAgPGxpbmsgcmVsPSJzdHlsZXNoZWV0IiBocmVmPSJodHRwczovL2Nkbi5qc2RlbGl2ci5uZXQvbnBtL2xlYWZsZXRAMS4yLjAvZGlzdC9sZWFmbGV0LmNzcyIvPgogICAgPGxpbmsgcmVsPSJzdHlsZXNoZWV0IiBocmVmPSJodHRwczovL21heGNkbi5ib290c3RyYXBjZG4uY29tL2Jvb3RzdHJhcC8zLjIuMC9jc3MvYm9vdHN0cmFwLm1pbi5jc3MiLz4KICAgIDxsaW5rIHJlbD0ic3R5bGVzaGVldCIgaHJlZj0iaHR0cHM6Ly9tYXhjZG4uYm9vdHN0cmFwY2RuLmNvbS9ib290c3RyYXAvMy4yLjAvY3NzL2Jvb3RzdHJhcC10aGVtZS5taW4uY3NzIi8+CiAgICA8bGluayByZWw9InN0eWxlc2hlZXQiIGhyZWY9Imh0dHBzOi8vbWF4Y2RuLmJvb3RzdHJhcGNkbi5jb20vZm9udC1hd2Vzb21lLzQuNi4zL2Nzcy9mb250LWF3ZXNvbWUubWluLmNzcyIvPgogICAgPGxpbmsgcmVsPSJzdHlsZXNoZWV0IiBocmVmPSJodHRwczovL2NkbmpzLmNsb3VkZmxhcmUuY29tL2FqYXgvbGlicy9MZWFmbGV0LmF3ZXNvbWUtbWFya2Vycy8yLjAuMi9sZWFmbGV0LmF3ZXNvbWUtbWFya2Vycy5jc3MiLz4KICAgIDxsaW5rIHJlbD0ic3R5bGVzaGVldCIgaHJlZj0iaHR0cHM6Ly9yYXdnaXQuY29tL3B5dGhvbi12aXN1YWxpemF0aW9uL2ZvbGl1bS9tYXN0ZXIvZm9saXVtL3RlbXBsYXRlcy9sZWFmbGV0LmF3ZXNvbWUucm90YXRlLmNzcyIvPgogICAgPHN0eWxlPmh0bWwsIGJvZHkge3dpZHRoOiAxMDAlO2hlaWdodDogMTAwJTttYXJnaW46IDA7cGFkZGluZzogMDt9PC9zdHlsZT4KICAgIDxzdHlsZT4jbWFwIHtwb3NpdGlvbjphYnNvbHV0ZTt0b3A6MDtib3R0b206MDtyaWdodDowO2xlZnQ6MDt9PC9zdHlsZT4KICAgIAogICAgICAgICAgICA8c3R5bGU+ICNtYXBfNTRkY2JiM2RmMGY0NGEzZDk0MTY5MjUwNzMwYmEwN2UgewogICAgICAgICAgICAgICAgcG9zaXRpb24gOiByZWxhdGl2ZTsKICAgICAgICAgICAgICAgIHdpZHRoIDogMTAwLjAlOwogICAgICAgICAgICAgICAgaGVpZ2h0OiAxMDAuMCU7CiAgICAgICAgICAgICAgICBsZWZ0OiAwLjAlOwogICAgICAgICAgICAgICAgdG9wOiAwLjAlOwogICAgICAgICAgICAgICAgfQogICAgICAgICAgICA8L3N0eWxlPgogICAgICAgIAo8L2hlYWQ+Cjxib2R5PiAgICAKICAgIAogICAgICAgICAgICA8ZGl2IGNsYXNzPSJmb2xpdW0tbWFwIiBpZD0ibWFwXzU0ZGNiYjNkZjBmNDRhM2Q5NDE2OTI1MDczMGJhMDdlIiA+PC9kaXY+CiAgICAgICAgCjwvYm9keT4KPHNjcmlwdD4gICAgCiAgICAKCiAgICAgICAgICAgIAogICAgICAgICAgICAgICAgdmFyIGJvdW5kcyA9IG51bGw7CiAgICAgICAgICAgIAoKICAgICAgICAgICAgdmFyIG1hcF81NGRjYmIzZGYwZjQ0YTNkOTQxNjkyNTA3MzBiYTA3ZSA9IEwubWFwKAogICAgICAgICAgICAgICAgICAgICAgICAgICAgICAgICAgJ21hcF81NGRjYmIzZGYwZjQ0YTNkOTQxNjkyNTA3MzBiYTA3ZScsCiAgICAgICAgICAgICAgICAgICAgICAgICAgICAgICAgICB7Y2VudGVyOiBbNDMuNzA1NDYyNTE2LC03OS40MDAyODMzMjhdLAogICAgICAgICAgICAgICAgICAgICAgICAgICAgICAgICAgem9vbTogMTAsCiAgICAgICAgICAgICAgICAgICAgICAgICAgICAgICAgICBtYXhCb3VuZHM6IGJvdW5kcywKICAgICAgICAgICAgICAgICAgICAgICAgICAgICAgICAgIGxheWVyczogW10sCiAgICAgICAgICAgICAgICAgICAgICAgICAgICAgICAgICB3b3JsZENvcHlKdW1wOiBmYWxzZSwKICAgICAgICAgICAgICAgICAgICAgICAgICAgICAgICAgIGNyczogTC5DUlMuRVBTRzM4NTcKICAgICAgICAgICAgICAgICAgICAgICAgICAgICAgICAgfSk7CiAgICAgICAgICAgIAogICAgICAgIAogICAgCiAgICAgICAgICAgIHZhciB0aWxlX2xheWVyXzI2MmYyMDlhYTEyNjQwY2E5MTAxZDRlZDZiN2ViMmFhID0gTC50aWxlTGF5ZXIoCiAgICAgICAgICAgICAgICAnaHR0cHM6Ly97c30udGlsZS5vcGVuc3RyZWV0bWFwLm9yZy97en0ve3h9L3t5fS5wbmcnLAogICAgICAgICAgICAgICAgewogICJhdHRyaWJ1dGlvbiI6IG51bGwsCiAgImRldGVjdFJldGluYSI6IGZhbHNlLAogICJtYXhab29tIjogMTgsCiAgIm1pblpvb20iOiAxLAogICJub1dyYXAiOiBmYWxzZSwKICAic3ViZG9tYWlucyI6ICJhYmMiCn0KICAgICAgICAgICAgICAgICkuYWRkVG8obWFwXzU0ZGNiYjNkZjBmNDRhM2Q5NDE2OTI1MDczMGJhMDdlKTsKICAgICAgICAKICAgIAoKICAgICAgICAgICAgdmFyIG1hcmtlcl8zMGI4OTE4NzQ0NTY0OWRmODc2MGRiZmI4OTg2ZjJhZSA9IEwubWFya2VyKAogICAgICAgICAgICAgICAgWzQzLjY5Njk0NzYsLTc5LjQxMTMwNzIwMDAwMDAxXSwKICAgICAgICAgICAgICAgIHsKICAgICAgICAgICAgICAgICAgICBpY29uOiBuZXcgTC5JY29uLkRlZmF1bHQoKQogICAgICAgICAgICAgICAgICAgIH0KICAgICAgICAgICAgICAgICkKICAgICAgICAgICAgICAgIC5hZGRUbyhtYXBfNTRkY2JiM2RmMGY0NGEzZDk0MTY5MjUwNzMwYmEwN2UpOwogICAgICAgICAgICAKICAgIAogICAgICAgICAgICB2YXIgcG9wdXBfZDkxZGZhMDFjZTM4NDBiZWE5MWYxY2RlMTQ2MjdhNmUgPSBMLnBvcHVwKHttYXhXaWR0aDogJzMwMCd9KTsKCiAgICAgICAgICAgIAogICAgICAgICAgICAgICAgdmFyIGh0bWxfMmY3OTViMWNmNzIyNDgyMWEzNTA0ZmQ1YzQ1YjllOWUgPSAkKCc8ZGl2IGlkPSJodG1sXzJmNzk1YjFjZjcyMjQ4MjFhMzUwNGZkNWM0NWI5ZTllIiBzdHlsZT0id2lkdGg6IDEwMC4wJTsgaGVpZ2h0OiAxMDAuMCU7Ij5DZW50cmFsVG9yb250bzwvZGl2PicpWzBdOwogICAgICAgICAgICAgICAgcG9wdXBfZDkxZGZhMDFjZTM4NDBiZWE5MWYxY2RlMTQ2MjdhNmUuc2V0Q29udGVudChodG1sXzJmNzk1YjFjZjcyMjQ4MjFhMzUwNGZkNWM0NWI5ZTllKTsKICAgICAgICAgICAgCgogICAgICAgICAgICBtYXJrZXJfMzBiODkxODc0NDU2NDlkZjg3NjBkYmZiODk4NmYyYWUuYmluZFBvcHVwKHBvcHVwX2Q5MWRmYTAxY2UzODQwYmVhOTFmMWNkZTE0NjI3YTZlKTsKCiAgICAgICAgICAgIAogICAgICAgIAogICAgCgogICAgICAgICAgICB2YXIgbWFya2VyX2U1NTMzODA4MDRkNjQ4Yzg5MjY2ZjBhNjczMTJmMTBjID0gTC5tYXJrZXIoCiAgICAgICAgICAgICAgICBbNDMuNjg1MzQ3LC03OS4zMzgxMDY1XSwKICAgICAgICAgICAgICAgIHsKICAgICAgICAgICAgICAgICAgICBpY29uOiBuZXcgTC5JY29uLkRlZmF1bHQoKQogICAgICAgICAgICAgICAgICAgIH0KICAgICAgICAgICAgICAgICkKICAgICAgICAgICAgICAgIC5hZGRUbyhtYXBfNTRkY2JiM2RmMGY0NGEzZDk0MTY5MjUwNzMwYmEwN2UpOwogICAgICAgICAgICAKICAgIAogICAgICAgICAgICB2YXIgcG9wdXBfZmZhM2UxZDkxMTU2NDQ1ZDg4ZTkzZWM1YmUzNjA4NDkgPSBMLnBvcHVwKHttYXhXaWR0aDogJzMwMCd9KTsKCiAgICAgICAgICAgIAogICAgICAgICAgICAgICAgdmFyIGh0bWxfYWU4MjI3YzVkNTIxNGE4YTg0MjI2MDk3MWY1ZGI0MTEgPSAkKCc8ZGl2IGlkPSJodG1sX2FlODIyN2M1ZDUyMTRhOGE4NDIyNjA5NzFmNWRiNDExIiBzdHlsZT0id2lkdGg6IDEwMC4wJTsgaGVpZ2h0OiAxMDAuMCU7Ij5FYXN0WW9yazwvZGl2PicpWzBdOwogICAgICAgICAgICAgICAgcG9wdXBfZmZhM2UxZDkxMTU2NDQ1ZDg4ZTkzZWM1YmUzNjA4NDkuc2V0Q29udGVudChodG1sX2FlODIyN2M1ZDUyMTRhOGE4NDIyNjA5NzFmNWRiNDExKTsKICAgICAgICAgICAgCgogICAgICAgICAgICBtYXJrZXJfZTU1MzM4MDgwNGQ2NDhjODkyNjZmMGE2NzMxMmYxMGMuYmluZFBvcHVwKHBvcHVwX2ZmYTNlMWQ5MTE1NjQ0NWQ4OGU5M2VjNWJlMzYwODQ5KTsKCiAgICAgICAgICAgIAogICAgICAgIAogICAgCgogICAgICAgICAgICB2YXIgbWFya2VyX2MyOTAyNjE0NzJlMDQxZWRiOWM3NGI2YjY5MDExMjEyID0gTC5tYXJrZXIoCiAgICAgICAgICAgICAgICBbNDMuNzYzNTcyNiwtNzkuMTg4NzExNV0sCiAgICAgICAgICAgICAgICB7CiAgICAgICAgICAgICAgICAgICAgaWNvbjogbmV3IEwuSWNvbi5EZWZhdWx0KCkKICAgICAgICAgICAgICAgICAgICB9CiAgICAgICAgICAgICAgICApCiAgICAgICAgICAgICAgICAuYWRkVG8obWFwXzU0ZGNiYjNkZjBmNDRhM2Q5NDE2OTI1MDczMGJhMDdlKTsKICAgICAgICAgICAgCiAgICAKICAgICAgICAgICAgdmFyIHBvcHVwX2E3YzE3M2NkZjIwNjRjMjZhNGI0MGZhZjU1N2VmMDBlID0gTC5wb3B1cCh7bWF4V2lkdGg6ICczMDAnfSk7CgogICAgICAgICAgICAKICAgICAgICAgICAgICAgIHZhciBodG1sXzFjNGRkZjBkODU2NzQ4ZjM4NzE1ZGMwYmYwMjVmZDNmID0gJCgnPGRpdiBpZD0iaHRtbF8xYzRkZGYwZDg1Njc0OGYzODcxNWRjMGJmMDI1ZmQzZiIgc3R5bGU9IndpZHRoOiAxMDAuMCU7IGhlaWdodDogMTAwLjAlOyI+U2NhcmJvcm91Z2g8L2Rpdj4nKVswXTsKICAgICAgICAgICAgICAgIHBvcHVwX2E3YzE3M2NkZjIwNjRjMjZhNGI0MGZhZjU1N2VmMDBlLnNldENvbnRlbnQoaHRtbF8xYzRkZGYwZDg1Njc0OGYzODcxNWRjMGJmMDI1ZmQzZik7CiAgICAgICAgICAgIAoKICAgICAgICAgICAgbWFya2VyX2MyOTAyNjE0NzJlMDQxZWRiOWM3NGI2YjY5MDExMjEyLmJpbmRQb3B1cChwb3B1cF9hN2MxNzNjZGYyMDY0YzI2YTRiNDBmYWY1NTdlZjAwZSk7CgogICAgICAgICAgICAKICAgICAgICAKICAgIAoKICAgICAgICAgICAgdmFyIG1hcmtlcl82MzBhN2VkMGM1N2Q0NGM4OGQxOTkwYzc5NTE3NTExMSA9IEwubWFya2VyKAogICAgICAgICAgICAgICAgWzQzLjc1MDA3MTUwMDAwMDAwNCwtNzkuMjk1ODQ5MV0sCiAgICAgICAgICAgICAgICB7CiAgICAgICAgICAgICAgICAgICAgaWNvbjogbmV3IEwuSWNvbi5EZWZhdWx0KCkKICAgICAgICAgICAgICAgICAgICB9CiAgICAgICAgICAgICAgICApCiAgICAgICAgICAgICAgICAuYWRkVG8obWFwXzU0ZGNiYjNkZjBmNDRhM2Q5NDE2OTI1MDczMGJhMDdlKTsKICAgICAgICAgICAgCiAgICAKICAgICAgICAgICAgdmFyIHBvcHVwX2YzMmU1MzNkZWFkYTQ2YjVhMGMzN2JhYzAwN2ViNjMwID0gTC5wb3B1cCh7bWF4V2lkdGg6ICczMDAnfSk7CgogICAgICAgICAgICAKICAgICAgICAgICAgICAgIHZhciBodG1sXzEwMmVhYzY2ODI3NjQyMzdiZWU5MDA3MzMwY2RmNzNmID0gJCgnPGRpdiBpZD0iaHRtbF8xMDJlYWM2NjgyNzY0MjM3YmVlOTAwNzMzMGNkZjczZiIgc3R5bGU9IndpZHRoOiAxMDAuMCU7IGhlaWdodDogMTAwLjAlOyI+U2NhcmJvcm91Z2g8L2Rpdj4nKVswXTsKICAgICAgICAgICAgICAgIHBvcHVwX2YzMmU1MzNkZWFkYTQ2YjVhMGMzN2JhYzAwN2ViNjMwLnNldENvbnRlbnQoaHRtbF8xMDJlYWM2NjgyNzY0MjM3YmVlOTAwNzMzMGNkZjczZik7CiAgICAgICAgICAgIAoKICAgICAgICAgICAgbWFya2VyXzYzMGE3ZWQwYzU3ZDQ0Yzg4ZDE5OTBjNzk1MTc1MTExLmJpbmRQb3B1cChwb3B1cF9mMzJlNTMzZGVhZGE0NmI1YTBjMzdiYWMwMDdlYjYzMCk7CgogICAgICAgICAgICAKICAgICAgICAKICAgIAoKICAgICAgICAgICAgdmFyIG1hcmtlcl84NmQ2N2M3MzE4MGE0MjRjODQ2NzJkYTQ2YmMxMTVjMCA9IEwubWFya2VyKAogICAgICAgICAgICAgICAgWzQzLjcyODQ5NjQsLTc5LjQ5NTY5NzQwMDAwMDAxXSwKICAgICAgICAgICAgICAgIHsKICAgICAgICAgICAgICAgICAgICBpY29uOiBuZXcgTC5JY29uLkRlZmF1bHQoKQogICAgICAgICAgICAgICAgICAgIH0KICAgICAgICAgICAgICAgICkKICAgICAgICAgICAgICAgIC5hZGRUbyhtYXBfNTRkY2JiM2RmMGY0NGEzZDk0MTY5MjUwNzMwYmEwN2UpOwogICAgICAgICAgICAKICAgIAogICAgICAgICAgICB2YXIgcG9wdXBfNTJiMTJmMjI3ODZiNDNkYThjOGZiOWI2MGZjMTg5MGEgPSBMLnBvcHVwKHttYXhXaWR0aDogJzMwMCd9KTsKCiAgICAgICAgICAgIAogICAgICAgICAgICAgICAgdmFyIGh0bWxfNjk4OTcxYTc1NjMyNDlmNDg2MTU4MTFjZmRhZjhmMWQgPSAkKCc8ZGl2IGlkPSJodG1sXzY5ODk3MWE3NTYzMjQ5ZjQ4NjE1ODExY2ZkYWY4ZjFkIiBzdHlsZT0id2lkdGg6IDEwMC4wJTsgaGVpZ2h0OiAxMDAuMCU7Ij5Ob3J0aFlvcms8L2Rpdj4nKVswXTsKICAgICAgICAgICAgICAgIHBvcHVwXzUyYjEyZjIyNzg2YjQzZGE4YzhmYjliNjBmYzE4OTBhLnNldENvbnRlbnQoaHRtbF82OTg5NzFhNzU2MzI0OWY0ODYxNTgxMWNmZGFmOGYxZCk7CiAgICAgICAgICAgIAoKICAgICAgICAgICAgbWFya2VyXzg2ZDY3YzczMTgwYTQyNGM4NDY3MmRhNDZiYzExNWMwLmJpbmRQb3B1cChwb3B1cF81MmIxMmYyMjc4NmI0M2RhOGM4ZmI5YjYwZmMxODkwYSk7CgogICAgICAgICAgICAKICAgICAgICAKICAgIAoKICAgICAgICAgICAgdmFyIG1hcmtlcl9jYjZiNjFlZWZhY2I0Y2ZiOTAxZGY3ZjJjNzU2ODBmNyA9IEwubWFya2VyKAogICAgICAgICAgICAgICAgWzQzLjYwNTY0NjYsLTc5LjUwMTMyMDcwMDAwMDAxXSwKICAgICAgICAgICAgICAgIHsKICAgICAgICAgICAgICAgICAgICBpY29uOiBuZXcgTC5JY29uLkRlZmF1bHQoKQogICAgICAgICAgICAgICAgICAgIH0KICAgICAgICAgICAgICAgICkKICAgICAgICAgICAgICAgIC5hZGRUbyhtYXBfNTRkY2JiM2RmMGY0NGEzZDk0MTY5MjUwNzMwYmEwN2UpOwogICAgICAgICAgICAKICAgIAogICAgICAgICAgICB2YXIgcG9wdXBfNjE2NGRiN2RjYzdiNDY0Yjg3NzIyNWFkNDk4NTgzMDUgPSBMLnBvcHVwKHttYXhXaWR0aDogJzMwMCd9KTsKCiAgICAgICAgICAgIAogICAgICAgICAgICAgICAgdmFyIGh0bWxfMjNlOWFmOTY4Y2NkNDM1MGFlYmFkZTEwMmYzNWVmYzEgPSAkKCc8ZGl2IGlkPSJodG1sXzIzZTlhZjk2OGNjZDQzNTBhZWJhZGUxMDJmMzVlZmMxIiBzdHlsZT0id2lkdGg6IDEwMC4wJTsgaGVpZ2h0OiAxMDAuMCU7Ij5FdG9iaWNva2U8L2Rpdj4nKVswXTsKICAgICAgICAgICAgICAgIHBvcHVwXzYxNjRkYjdkY2M3YjQ2NGI4NzcyMjVhZDQ5ODU4MzA1LnNldENvbnRlbnQoaHRtbF8yM2U5YWY5NjhjY2Q0MzUwYWViYWRlMTAyZjM1ZWZjMSk7CiAgICAgICAgICAgIAoKICAgICAgICAgICAgbWFya2VyX2NiNmI2MWVlZmFjYjRjZmI5MDFkZjdmMmM3NTY4MGY3LmJpbmRQb3B1cChwb3B1cF82MTY0ZGI3ZGNjN2I0NjRiODc3MjI1YWQ0OTg1ODMwNSk7CgogICAgICAgICAgICAKICAgICAgICAKICAgIAoKICAgICAgICAgICAgdmFyIG1hcmtlcl9jMjVmZjJhMjgzNzQ0ZmFhYTMxZTU2YTY3MzYzMTIxNSA9IEwubWFya2VyKAogICAgICAgICAgICAgICAgWzQzLjYyODg0MDgsLTc5LjUyMDk5OTQwMDAwMDAxXSwKICAgICAgICAgICAgICAgIHsKICAgICAgICAgICAgICAgICAgICBpY29uOiBuZXcgTC5JY29uLkRlZmF1bHQoKQogICAgICAgICAgICAgICAgICAgIH0KICAgICAgICAgICAgICAgICkKICAgICAgICAgICAgICAgIC5hZGRUbyhtYXBfNTRkY2JiM2RmMGY0NGEzZDk0MTY5MjUwNzMwYmEwN2UpOwogICAgICAgICAgICAKICAgIAogICAgICAgICAgICB2YXIgcG9wdXBfOTM5NTIwNjZmZGZiNDg5M2I5ZTk1MDMxM2M2ZThiYWEgPSBMLnBvcHVwKHttYXhXaWR0aDogJzMwMCd9KTsKCiAgICAgICAgICAgIAogICAgICAgICAgICAgICAgdmFyIGh0bWxfMTZjNWJjMzY4YjA0NGNlN2EzYmIyYjY5NzkwMTM5MjAgPSAkKCc8ZGl2IGlkPSJodG1sXzE2YzViYzM2OGIwNDRjZTdhM2JiMmI2OTc5MDEzOTIwIiBzdHlsZT0id2lkdGg6IDEwMC4wJTsgaGVpZ2h0OiAxMDAuMCU7Ij5FdG9iaWNva2U8L2Rpdj4nKVswXTsKICAgICAgICAgICAgICAgIHBvcHVwXzkzOTUyMDY2ZmRmYjQ4OTNiOWU5NTAzMTNjNmU4YmFhLnNldENvbnRlbnQoaHRtbF8xNmM1YmMzNjhiMDQ0Y2U3YTNiYjJiNjk3OTAxMzkyMCk7CiAgICAgICAgICAgIAoKICAgICAgICAgICAgbWFya2VyX2MyNWZmMmEyODM3NDRmYWFhMzFlNTZhNjczNjMxMjE1LmJpbmRQb3B1cChwb3B1cF85Mzk1MjA2NmZkZmI0ODkzYjllOTUwMzEzYzZlOGJhYSk7CgogICAgICAgICAgICAKICAgICAgICAKICAgIAoKICAgICAgICAgICAgdmFyIG1hcmtlcl80OTBhM2E0OWMxNDA0NGYxYTcxMDFmM2MyZjJkZTMzZSA9IEwubWFya2VyKAogICAgICAgICAgICAgICAgWzQzLjc4NDUzNTEsLTc5LjE2MDQ5NzA5OTk5OTk5XSwKICAgICAgICAgICAgICAgIHsKICAgICAgICAgICAgICAgICAgICBpY29uOiBuZXcgTC5JY29uLkRlZmF1bHQoKQogICAgICAgICAgICAgICAgICAgIH0KICAgICAgICAgICAgICAgICkKICAgICAgICAgICAgICAgIC5hZGRUbyhtYXBfNTRkY2JiM2RmMGY0NGEzZDk0MTY5MjUwNzMwYmEwN2UpOwogICAgICAgICAgICAKICAgIAogICAgICAgICAgICB2YXIgcG9wdXBfYmU1ODJiMThiNzJkNDRkM2IwYzFjNDQ1MTYxNWUyY2UgPSBMLnBvcHVwKHttYXhXaWR0aDogJzMwMCd9KTsKCiAgICAgICAgICAgIAogICAgICAgICAgICAgICAgdmFyIGh0bWxfMTBjODkwZGFhNzBkNDMzY2EyYzk2OTM2Njk3YmJkYWYgPSAkKCc8ZGl2IGlkPSJodG1sXzEwYzg5MGRhYTcwZDQzM2NhMmM5NjkzNjY5N2JiZGFmIiBzdHlsZT0id2lkdGg6IDEwMC4wJTsgaGVpZ2h0OiAxMDAuMCU7Ij5TY2FyYm9yb3VnaDwvZGl2PicpWzBdOwogICAgICAgICAgICAgICAgcG9wdXBfYmU1ODJiMThiNzJkNDRkM2IwYzFjNDQ1MTYxNWUyY2Uuc2V0Q29udGVudChodG1sXzEwYzg5MGRhYTcwZDQzM2NhMmM5NjkzNjY5N2JiZGFmKTsKICAgICAgICAgICAgCgogICAgICAgICAgICBtYXJrZXJfNDkwYTNhNDljMTQwNDRmMWE3MTAxZjNjMmYyZGUzM2UuYmluZFBvcHVwKHBvcHVwX2JlNTgyYjE4YjcyZDQ0ZDNiMGMxYzQ0NTE2MTVlMmNlKTsKCiAgICAgICAgICAgIAogICAgICAgIAogICAgCgogICAgICAgICAgICB2YXIgbWFya2VyXzNlNTlmYjU2NTIzYTRlMjg4MThhY2RjZjc0OGNhZWEwID0gTC5tYXJrZXIoCiAgICAgICAgICAgICAgICBbNDMuNzA5NTc3LC03OS40NDUwNzI1OTk5OTk5OV0sCiAgICAgICAgICAgICAgICB7CiAgICAgICAgICAgICAgICAgICAgaWNvbjogbmV3IEwuSWNvbi5EZWZhdWx0KCkKICAgICAgICAgICAgICAgICAgICB9CiAgICAgICAgICAgICAgICApCiAgICAgICAgICAgICAgICAuYWRkVG8obWFwXzU0ZGNiYjNkZjBmNDRhM2Q5NDE2OTI1MDczMGJhMDdlKTsKICAgICAgICAgICAgCiAgICAKICAgICAgICAgICAgdmFyIHBvcHVwX2Q2MzkxNzdmZWJkYTQwNTk5MjZlM2Q3MzIzZDRkNDIxID0gTC5wb3B1cCh7bWF4V2lkdGg6ICczMDAnfSk7CgogICAgICAgICAgICAKICAgICAgICAgICAgICAgIHZhciBodG1sX2ZhZDg3NjJkNTBjMzQ2ZjViYWFlZGIyMDViNDNjYWJhID0gJCgnPGRpdiBpZD0iaHRtbF9mYWQ4NzYyZDUwYzM0NmY1YmFhZWRiMjA1YjQzY2FiYSIgc3R5bGU9IndpZHRoOiAxMDAuMCU7IGhlaWdodDogMTAwLjAlOyI+Tm9ydGhZb3JrPC9kaXY+JylbMF07CiAgICAgICAgICAgICAgICBwb3B1cF9kNjM5MTc3ZmViZGE0MDU5OTI2ZTNkNzMyM2Q0ZDQyMS5zZXRDb250ZW50KGh0bWxfZmFkODc2MmQ1MGMzNDZmNWJhYWVkYjIwNWI0M2NhYmEpOwogICAgICAgICAgICAKCiAgICAgICAgICAgIG1hcmtlcl8zZTU5ZmI1NjUyM2E0ZTI4ODE4YWNkY2Y3NDhjYWVhMC5iaW5kUG9wdXAocG9wdXBfZDYzOTE3N2ZlYmRhNDA1OTkyNmUzZDczMjNkNGQ0MjEpOwoKICAgICAgICAgICAgCiAgICAgICAgCiAgICAKCiAgICAgICAgICAgIHZhciBtYXJrZXJfMWViYmM4OGY0M2Y3NDlhOWE2YmQwZmI3YjAzNDcyZWIgPSBMLm1hcmtlcigKICAgICAgICAgICAgICAgIFs0My42MzY4NDcyLC03OS40MjgxOTE0MDAwMDAwMl0sCiAgICAgICAgICAgICAgICB7CiAgICAgICAgICAgICAgICAgICAgaWNvbjogbmV3IEwuSWNvbi5EZWZhdWx0KCkKICAgICAgICAgICAgICAgICAgICB9CiAgICAgICAgICAgICAgICApCiAgICAgICAgICAgICAgICAuYWRkVG8obWFwXzU0ZGNiYjNkZjBmNDRhM2Q5NDE2OTI1MDczMGJhMDdlKTsKICAgICAgICAgICAgCiAgICAKICAgICAgICAgICAgdmFyIHBvcHVwXzU2MTQzZWRkOTI3ZTQyY2I5Njg3ZDYxMGU5YTc3MWI1ID0gTC5wb3B1cCh7bWF4V2lkdGg6ICczMDAnfSk7CgogICAgICAgICAgICAKICAgICAgICAgICAgICAgIHZhciBodG1sXzVmMzI0ZWNiMWFiNjRlNjU4ZDIyMmFiYjIzNDk3YmU3ID0gJCgnPGRpdiBpZD0iaHRtbF81ZjMyNGVjYjFhYjY0ZTY1OGQyMjJhYmIyMzQ5N2JlNyIgc3R5bGU9IndpZHRoOiAxMDAuMCU7IGhlaWdodDogMTAwLjAlOyI+V2VzdFRvcm9udG88L2Rpdj4nKVswXTsKICAgICAgICAgICAgICAgIHBvcHVwXzU2MTQzZWRkOTI3ZTQyY2I5Njg3ZDYxMGU5YTc3MWI1LnNldENvbnRlbnQoaHRtbF81ZjMyNGVjYjFhYjY0ZTY1OGQyMjJhYmIyMzQ5N2JlNyk7CiAgICAgICAgICAgIAoKICAgICAgICAgICAgbWFya2VyXzFlYmJjODhmNDNmNzQ5YTlhNmJkMGZiN2IwMzQ3MmViLmJpbmRQb3B1cChwb3B1cF81NjE0M2VkZDkyN2U0MmNiOTY4N2Q2MTBlOWE3NzFiNSk7CgogICAgICAgICAgICAKICAgICAgICAKICAgIAoKICAgICAgICAgICAgdmFyIG1hcmtlcl81MmNlNDQ0NmJmM2U0YmY5OTJjM2YyNTc0YjhmODAxMSA9IEwubWFya2VyKAogICAgICAgICAgICAgICAgWzQzLjY4NjQxMjI5OTk5OTk5LC03OS40MDAwNDkzXSwKICAgICAgICAgICAgICAgIHsKICAgICAgICAgICAgICAgICAgICBpY29uOiBuZXcgTC5JY29uLkRlZmF1bHQoKQogICAgICAgICAgICAgICAgICAgIH0KICAgICAgICAgICAgICAgICkKICAgICAgICAgICAgICAgIC5hZGRUbyhtYXBfNTRkY2JiM2RmMGY0NGEzZDk0MTY5MjUwNzMwYmEwN2UpOwogICAgICAgICAgICAKICAgIAogICAgICAgICAgICB2YXIgcG9wdXBfMzAxOGNhNjRlYzdmNGU0OTk3YmE2MzkzZjcwMjZiY2IgPSBMLnBvcHVwKHttYXhXaWR0aDogJzMwMCd9KTsKCiAgICAgICAgICAgIAogICAgICAgICAgICAgICAgdmFyIGh0bWxfYjNjMDIxYzA2Y2EzNGEyOTgzNzEwNWI3ZDAwNmZkNjEgPSAkKCc8ZGl2IGlkPSJodG1sX2IzYzAyMWMwNmNhMzRhMjk4MzcxMDViN2QwMDZmZDYxIiBzdHlsZT0id2lkdGg6IDEwMC4wJTsgaGVpZ2h0OiAxMDAuMCU7Ij5DZW50cmFsVG9yb250bzwvZGl2PicpWzBdOwogICAgICAgICAgICAgICAgcG9wdXBfMzAxOGNhNjRlYzdmNGU0OTk3YmE2MzkzZjcwMjZiY2Iuc2V0Q29udGVudChodG1sX2IzYzAyMWMwNmNhMzRhMjk4MzcxMDViN2QwMDZmZDYxKTsKICAgICAgICAgICAgCgogICAgICAgICAgICBtYXJrZXJfNTJjZTQ0NDZiZjNlNGJmOTkyYzNmMjU3NGI4ZjgwMTEuYmluZFBvcHVwKHBvcHVwXzMwMThjYTY0ZWM3ZjRlNDk5N2JhNjM5M2Y3MDI2YmNiKTsKCiAgICAgICAgICAgIAogICAgICAgIAogICAgCgogICAgICAgICAgICB2YXIgbWFya2VyXzJkZTYzNTk3NzExZDRmODdhZGM4MmRlOTJhN2M0YTJjID0gTC5tYXJrZXIoCiAgICAgICAgICAgICAgICBbNDMuNjYyNzQzOSwtNzkuMzIxNTU4XSwKICAgICAgICAgICAgICAgIHsKICAgICAgICAgICAgICAgICAgICBpY29uOiBuZXcgTC5JY29uLkRlZmF1bHQoKQogICAgICAgICAgICAgICAgICAgIH0KICAgICAgICAgICAgICAgICkKICAgICAgICAgICAgICAgIC5hZGRUbyhtYXBfNTRkY2JiM2RmMGY0NGEzZDk0MTY5MjUwNzMwYmEwN2UpOwogICAgICAgICAgICAKICAgIAogICAgICAgICAgICB2YXIgcG9wdXBfZDFiMDJjZmJhZDQ5NGRlNDhlMjUwNjRjZjRmODYyZDMgPSBMLnBvcHVwKHttYXhXaWR0aDogJzMwMCd9KTsKCiAgICAgICAgICAgIAogICAgICAgICAgICAgICAgdmFyIGh0bWxfYTczYTAwOTM1YjRmNGMyODg4YWFhZTVkZDVlMDQwNmEgPSAkKCc8ZGl2IGlkPSJodG1sX2E3M2EwMDkzNWI0ZjRjMjg4OGFhYWU1ZGQ1ZTA0MDZhIiBzdHlsZT0id2lkdGg6IDEwMC4wJTsgaGVpZ2h0OiAxMDAuMCU7Ij5FYXN0VG9yb250bzwvZGl2PicpWzBdOwogICAgICAgICAgICAgICAgcG9wdXBfZDFiMDJjZmJhZDQ5NGRlNDhlMjUwNjRjZjRmODYyZDMuc2V0Q29udGVudChodG1sX2E3M2EwMDkzNWI0ZjRjMjg4OGFhYWU1ZGQ1ZTA0MDZhKTsKICAgICAgICAgICAgCgogICAgICAgICAgICBtYXJrZXJfMmRlNjM1OTc3MTFkNGY4N2FkYzgyZGU5MmE3YzRhMmMuYmluZFBvcHVwKHBvcHVwX2QxYjAyY2ZiYWQ0OTRkZTQ4ZTI1MDY0Y2Y0Zjg2MmQzKTsKCiAgICAgICAgICAgIAogICAgICAgIAogICAgCgogICAgICAgICAgICB2YXIgbWFya2VyXzczN2U4YTliYWUwOTQ3MTY4NDRjMmRlN2VjMmI0YTU4ID0gTC5tYXJrZXIoCiAgICAgICAgICAgICAgICBbNDMuNjAyNDEzNzAwMDAwMDEsLTc5LjU0MzQ4NDA5OTk5OTk5XSwKICAgICAgICAgICAgICAgIHsKICAgICAgICAgICAgICAgICAgICBpY29uOiBuZXcgTC5JY29uLkRlZmF1bHQoKQogICAgICAgICAgICAgICAgICAgIH0KICAgICAgICAgICAgICAgICkKICAgICAgICAgICAgICAgIC5hZGRUbyhtYXBfNTRkY2JiM2RmMGY0NGEzZDk0MTY5MjUwNzMwYmEwN2UpOwogICAgICAgICAgICAKICAgIAogICAgICAgICAgICB2YXIgcG9wdXBfNzFhYWFiMmFlZjBhNDVkM2EzYTFlNmRkMTU1ZGI2YzkgPSBMLnBvcHVwKHttYXhXaWR0aDogJzMwMCd9KTsKCiAgICAgICAgICAgIAogICAgICAgICAgICAgICAgdmFyIGh0bWxfOTQyMjA2NmNmNjdiNDk5ZWE2Y2RlZmRmNzU1MTMxNGIgPSAkKCc8ZGl2IGlkPSJodG1sXzk0MjIwNjZjZjY3YjQ5OWVhNmNkZWZkZjc1NTEzMTRiIiBzdHlsZT0id2lkdGg6IDEwMC4wJTsgaGVpZ2h0OiAxMDAuMCU7Ij5FdG9iaWNva2U8L2Rpdj4nKVswXTsKICAgICAgICAgICAgICAgIHBvcHVwXzcxYWFhYjJhZWYwYTQ1ZDNhM2ExZTZkZDE1NWRiNmM5LnNldENvbnRlbnQoaHRtbF85NDIyMDY2Y2Y2N2I0OTllYTZjZGVmZGY3NTUxMzE0Yik7CiAgICAgICAgICAgIAoKICAgICAgICAgICAgbWFya2VyXzczN2U4YTliYWUwOTQ3MTY4NDRjMmRlN2VjMmI0YTU4LmJpbmRQb3B1cChwb3B1cF83MWFhYWIyYWVmMGE0NWQzYTNhMWU2ZGQxNTVkYjZjOSk7CgogICAgICAgICAgICAKICAgICAgICAKICAgIAoKICAgICAgICAgICAgdmFyIG1hcmtlcl85YWU5MzYwOGYwYjk0ODc5YWFhMDdkMjQxNWRlZjBjZSA9IEwubWFya2VyKAogICAgICAgICAgICAgICAgWzQzLjgxNTI1MjIsLTc5LjI4NDU3NzJdLAogICAgICAgICAgICAgICAgewogICAgICAgICAgICAgICAgICAgIGljb246IG5ldyBMLkljb24uRGVmYXVsdCgpCiAgICAgICAgICAgICAgICAgICAgfQogICAgICAgICAgICAgICAgKQogICAgICAgICAgICAgICAgLmFkZFRvKG1hcF81NGRjYmIzZGYwZjQ0YTNkOTQxNjkyNTA3MzBiYTA3ZSk7CiAgICAgICAgICAgIAogICAgCiAgICAgICAgICAgIHZhciBwb3B1cF8xZGJlMDZjZmNmYzY0ZjllYWUzNjQ3NzlhMGU0MmM5MiA9IEwucG9wdXAoe21heFdpZHRoOiAnMzAwJ30pOwoKICAgICAgICAgICAgCiAgICAgICAgICAgICAgICB2YXIgaHRtbF8wNGRiNmJiMDBlNWU0NGM2OGMwYWM5Yjk0ZDMwZTg2MiA9ICQoJzxkaXYgaWQ9Imh0bWxfMDRkYjZiYjAwZTVlNDRjNjhjMGFjOWI5NGQzMGU4NjIiIHN0eWxlPSJ3aWR0aDogMTAwLjAlOyBoZWlnaHQ6IDEwMC4wJTsiPlNjYXJib3JvdWdoPC9kaXY+JylbMF07CiAgICAgICAgICAgICAgICBwb3B1cF8xZGJlMDZjZmNmYzY0ZjllYWUzNjQ3NzlhMGU0MmM5Mi5zZXRDb250ZW50KGh0bWxfMDRkYjZiYjAwZTVlNDRjNjhjMGFjOWI5NGQzMGU4NjIpOwogICAgICAgICAgICAKCiAgICAgICAgICAgIG1hcmtlcl85YWU5MzYwOGYwYjk0ODc5YWFhMDdkMjQxNWRlZjBjZS5iaW5kUG9wdXAocG9wdXBfMWRiZTA2Y2ZjZmM2NGY5ZWFlMzY0Nzc5YTBlNDJjOTIpOwoKICAgICAgICAgICAgCiAgICAgICAgCiAgICAKCiAgICAgICAgICAgIHZhciBtYXJrZXJfM2M4Y2RlMGI1MjJjNDNkYjlmODEzY2RiYTllYWE2NDIgPSBMLm1hcmtlcigKICAgICAgICAgICAgICAgIFs0My42NDc5MjY3MDAwMDAwMDYsLTc5LjQxOTc0OTddLAogICAgICAgICAgICAgICAgewogICAgICAgICAgICAgICAgICAgIGljb246IG5ldyBMLkljb24uRGVmYXVsdCgpCiAgICAgICAgICAgICAgICAgICAgfQogICAgICAgICAgICAgICAgKQogICAgICAgICAgICAgICAgLmFkZFRvKG1hcF81NGRjYmIzZGYwZjQ0YTNkOTQxNjkyNTA3MzBiYTA3ZSk7CiAgICAgICAgICAgIAogICAgCiAgICAgICAgICAgIHZhciBwb3B1cF83NGU2ZjNhNThiZjE0NDhhOGYxNjkwNTBiOTM0NTdlNiA9IEwucG9wdXAoe21heFdpZHRoOiAnMzAwJ30pOwoKICAgICAgICAgICAgCiAgICAgICAgICAgICAgICB2YXIgaHRtbF84MGU0N2E1MzhiZTI0ZWRlYmIzMWExZTE2MjU2ZGNmZiA9ICQoJzxkaXYgaWQ9Imh0bWxfODBlNDdhNTM4YmUyNGVkZWJiMzFhMWUxNjI1NmRjZmYiIHN0eWxlPSJ3aWR0aDogMTAwLjAlOyBoZWlnaHQ6IDEwMC4wJTsiPldlc3RUb3JvbnRvPC9kaXY+JylbMF07CiAgICAgICAgICAgICAgICBwb3B1cF83NGU2ZjNhNThiZjE0NDhhOGYxNjkwNTBiOTM0NTdlNi5zZXRDb250ZW50KGh0bWxfODBlNDdhNTM4YmUyNGVkZWJiMzFhMWUxNjI1NmRjZmYpOwogICAgICAgICAgICAKCiAgICAgICAgICAgIG1hcmtlcl8zYzhjZGUwYjUyMmM0M2RiOWY4MTNjZGJhOWVhYTY0Mi5iaW5kUG9wdXAocG9wdXBfNzRlNmYzYTU4YmYxNDQ4YThmMTY5MDUwYjkzNDU3ZTYpOwoKICAgICAgICAgICAgCiAgICAgICAgCiAgICAKCiAgICAgICAgICAgIHZhciBtYXJrZXJfZDhlNGExNzg0ZDIyNDVhZmI2ZTM3YWQ4NThjNWU2NjEgPSBMLm1hcmtlcigKICAgICAgICAgICAgICAgIFs0My42Nzk1NjI2LC03OS4zNzc1Mjk0MDAwMDAwMV0sCiAgICAgICAgICAgICAgICB7CiAgICAgICAgICAgICAgICAgICAgaWNvbjogbmV3IEwuSWNvbi5EZWZhdWx0KCkKICAgICAgICAgICAgICAgICAgICB9CiAgICAgICAgICAgICAgICApCiAgICAgICAgICAgICAgICAuYWRkVG8obWFwXzU0ZGNiYjNkZjBmNDRhM2Q5NDE2OTI1MDczMGJhMDdlKTsKICAgICAgICAgICAgCiAgICAKICAgICAgICAgICAgdmFyIHBvcHVwXzdkOThlYTUzNDdiZTRjZWQ5YTQyODkyNDJkOGFmMzEzID0gTC5wb3B1cCh7bWF4V2lkdGg6ICczMDAnfSk7CgogICAgICAgICAgICAKICAgICAgICAgICAgICAgIHZhciBodG1sX2U0NmMxYWE4NWM1MjQzMjZhMjdkNzE1MjE5MThkMGY2ID0gJCgnPGRpdiBpZD0iaHRtbF9lNDZjMWFhODVjNTI0MzI2YTI3ZDcxNTIxOTE4ZDBmNiIgc3R5bGU9IndpZHRoOiAxMDAuMCU7IGhlaWdodDogMTAwLjAlOyI+RG93bnRvd25Ub3JvbnRvPC9kaXY+JylbMF07CiAgICAgICAgICAgICAgICBwb3B1cF83ZDk4ZWE1MzQ3YmU0Y2VkOWE0Mjg5MjQyZDhhZjMxMy5zZXRDb250ZW50KGh0bWxfZTQ2YzFhYTg1YzUyNDMyNmEyN2Q3MTUyMTkxOGQwZjYpOwogICAgICAgICAgICAKCiAgICAgICAgICAgIG1hcmtlcl9kOGU0YTE3ODRkMjI0NWFmYjZlMzdhZDg1OGM1ZTY2MS5iaW5kUG9wdXAocG9wdXBfN2Q5OGVhNTM0N2JlNGNlZDlhNDI4OTI0MmQ4YWYzMTMpOwoKICAgICAgICAgICAgCiAgICAgICAgCiAgICAKCiAgICAgICAgICAgIHZhciBtYXJrZXJfMjBkNjViYTRlMjI5NDU2ZDliYWFhMWE0OGNlYzU1MmIgPSBMLm1hcmtlcigKICAgICAgICAgICAgICAgIFs0My43OTQyMDAzLC03OS4yNjIwMjk0MDAwMDAwMl0sCiAgICAgICAgICAgICAgICB7CiAgICAgICAgICAgICAgICAgICAgaWNvbjogbmV3IEwuSWNvbi5EZWZhdWx0KCkKICAgICAgICAgICAgICAgICAgICB9CiAgICAgICAgICAgICAgICApCiAgICAgICAgICAgICAgICAuYWRkVG8obWFwXzU0ZGNiYjNkZjBmNDRhM2Q5NDE2OTI1MDczMGJhMDdlKTsKICAgICAgICAgICAgCiAgICAKICAgICAgICAgICAgdmFyIHBvcHVwX2ViZWY4NDNjNTYzMjQ2MmE5NDM0MzdiMTI2MjNmY2NjID0gTC5wb3B1cCh7bWF4V2lkdGg6ICczMDAnfSk7CgogICAgICAgICAgICAKICAgICAgICAgICAgICAgIHZhciBodG1sXzg2NjUzZmQxNDlmMjRlYmM5YmVkMWQ0NGM0MDA2OGU4ID0gJCgnPGRpdiBpZD0iaHRtbF84NjY1M2ZkMTQ5ZjI0ZWJjOWJlZDFkNDRjNDAwNjhlOCIgc3R5bGU9IndpZHRoOiAxMDAuMCU7IGhlaWdodDogMTAwLjAlOyI+U2NhcmJvcm91Z2g8L2Rpdj4nKVswXTsKICAgICAgICAgICAgICAgIHBvcHVwX2ViZWY4NDNjNTYzMjQ2MmE5NDM0MzdiMTI2MjNmY2NjLnNldENvbnRlbnQoaHRtbF84NjY1M2ZkMTQ5ZjI0ZWJjOWJlZDFkNDRjNDAwNjhlOCk7CiAgICAgICAgICAgIAoKICAgICAgICAgICAgbWFya2VyXzIwZDY1YmE0ZTIyOTQ1NmQ5YmFhYTFhNDhjZWM1NTJiLmJpbmRQb3B1cChwb3B1cF9lYmVmODQzYzU2MzI0NjJhOTQzNDM3YjEyNjIzZmNjYyk7CgogICAgICAgICAgICAKICAgICAgICAKICAgIAoKICAgICAgICAgICAgdmFyIG1hcmtlcl83MThhOTYxZDNkMDc0NWRlODRlYzgyM2I4NTI1MDhjYiA9IEwubWFya2VyKAogICAgICAgICAgICAgICAgWzQzLjc0NDczNDIsLTc5LjIzOTQ3NjA5OTk5OTk5XSwKICAgICAgICAgICAgICAgIHsKICAgICAgICAgICAgICAgICAgICBpY29uOiBuZXcgTC5JY29uLkRlZmF1bHQoKQogICAgICAgICAgICAgICAgICAgIH0KICAgICAgICAgICAgICAgICkKICAgICAgICAgICAgICAgIC5hZGRUbyhtYXBfNTRkY2JiM2RmMGY0NGEzZDk0MTY5MjUwNzMwYmEwN2UpOwogICAgICAgICAgICAKICAgIAogICAgICAgICAgICB2YXIgcG9wdXBfNmY3YTcxNTQxNjFjNDdmMDkyYWM3NzczNTgwODA5YzggPSBMLnBvcHVwKHttYXhXaWR0aDogJzMwMCd9KTsKCiAgICAgICAgICAgIAogICAgICAgICAgICAgICAgdmFyIGh0bWxfYTNjNjJmNGJkYzMzNDRjODg1NTVhNWY2ZjdlNjlhNTEgPSAkKCc8ZGl2IGlkPSJodG1sX2EzYzYyZjRiZGMzMzQ0Yzg4NTU1YTVmNmY3ZTY5YTUxIiBzdHlsZT0id2lkdGg6IDEwMC4wJTsgaGVpZ2h0OiAxMDAuMCU7Ij5TY2FyYm9yb3VnaDwvZGl2PicpWzBdOwogICAgICAgICAgICAgICAgcG9wdXBfNmY3YTcxNTQxNjFjNDdmMDkyYWM3NzczNTgwODA5Yzguc2V0Q29udGVudChodG1sX2EzYzYyZjRiZGMzMzQ0Yzg4NTU1YTVmNmY3ZTY5YTUxKTsKICAgICAgICAgICAgCgogICAgICAgICAgICBtYXJrZXJfNzE4YTk2MWQzZDA3NDVkZTg0ZWM4MjNiODUyNTA4Y2IuYmluZFBvcHVwKHBvcHVwXzZmN2E3MTU0MTYxYzQ3ZjA5MmFjNzc3MzU4MDgwOWM4KTsKCiAgICAgICAgICAgIAogICAgICAgIAogICAgCgogICAgICAgICAgICB2YXIgbWFya2VyXzIwYTUyNmUyZTZjZjQ1MzhiZTJiNDY0MTUzOGMxMmUyID0gTC5tYXJrZXIoCiAgICAgICAgICAgICAgICBbNDMuNjg5NTc0MywtNzkuMzgzMTU5OTAwMDAwMDFdLAogICAgICAgICAgICAgICAgewogICAgICAgICAgICAgICAgICAgIGljb246IG5ldyBMLkljb24uRGVmYXVsdCgpCiAgICAgICAgICAgICAgICAgICAgfQogICAgICAgICAgICAgICAgKQogICAgICAgICAgICAgICAgLmFkZFRvKG1hcF81NGRjYmIzZGYwZjQ0YTNkOTQxNjkyNTA3MzBiYTA3ZSk7CiAgICAgICAgICAgIAogICAgCiAgICAgICAgICAgIHZhciBwb3B1cF8xZWExMzNhMmE4Njk0NjQwYmUxN2IxYzA4NDkyNzIwZiA9IEwucG9wdXAoe21heFdpZHRoOiAnMzAwJ30pOwoKICAgICAgICAgICAgCiAgICAgICAgICAgICAgICB2YXIgaHRtbF9kNWUxOWFlNWNlMGE0NzdhYTM0NzA4N2NiMDJhMTVjZSA9ICQoJzxkaXYgaWQ9Imh0bWxfZDVlMTlhZTVjZTBhNDc3YWEzNDcwODdjYjAyYTE1Y2UiIHN0eWxlPSJ3aWR0aDogMTAwLjAlOyBoZWlnaHQ6IDEwMC4wJTsiPkNlbnRyYWxUb3JvbnRvPC9kaXY+JylbMF07CiAgICAgICAgICAgICAgICBwb3B1cF8xZWExMzNhMmE4Njk0NjQwYmUxN2IxYzA4NDkyNzIwZi5zZXRDb250ZW50KGh0bWxfZDVlMTlhZTVjZTBhNDc3YWEzNDcwODdjYjAyYTE1Y2UpOwogICAgICAgICAgICAKCiAgICAgICAgICAgIG1hcmtlcl8yMGE1MjZlMmU2Y2Y0NTM4YmUyYjQ2NDE1MzhjMTJlMi5iaW5kUG9wdXAocG9wdXBfMWVhMTMzYTJhODY5NDY0MGJlMTdiMWMwODQ5MjcyMGYpOwoKICAgICAgICAgICAgCiAgICAgICAgCiAgICAKCiAgICAgICAgICAgIHZhciBtYXJrZXJfNjNhOTU3NTIwZjU3NDhlNGFlM2MzYzAxZWRkODdiOGIgPSBMLm1hcmtlcigKICAgICAgICAgICAgICAgIFs0My42NTcxNjE4LC03OS4zNzg5MzcwOTk5OTk5OV0sCiAgICAgICAgICAgICAgICB7CiAgICAgICAgICAgICAgICAgICAgaWNvbjogbmV3IEwuSWNvbi5EZWZhdWx0KCkKICAgICAgICAgICAgICAgICAgICB9CiAgICAgICAgICAgICAgICApCiAgICAgICAgICAgICAgICAuYWRkVG8obWFwXzU0ZGNiYjNkZjBmNDRhM2Q5NDE2OTI1MDczMGJhMDdlKTsKICAgICAgICAgICAgCiAgICAKICAgICAgICAgICAgdmFyIHBvcHVwX2RlMjUzOTU1ZTI1YjRjODlhNDNjZTYwZmVhYmFmMzc4ID0gTC5wb3B1cCh7bWF4V2lkdGg6ICczMDAnfSk7CgogICAgICAgICAgICAKICAgICAgICAgICAgICAgIHZhciBodG1sXzg2MjU4OTNhZDEwZDRjOTY5YTVlMjdlODhjMzk2Yjk0ID0gJCgnPGRpdiBpZD0iaHRtbF84NjI1ODkzYWQxMGQ0Yzk2OWE1ZTI3ZTg4YzM5NmI5NCIgc3R5bGU9IndpZHRoOiAxMDAuMCU7IGhlaWdodDogMTAwLjAlOyI+RG93bnRvd25Ub3JvbnRvPC9kaXY+JylbMF07CiAgICAgICAgICAgICAgICBwb3B1cF9kZTI1Mzk1NWUyNWI0Yzg5YTQzY2U2MGZlYWJhZjM3OC5zZXRDb250ZW50KGh0bWxfODYyNTg5M2FkMTBkNGM5NjlhNWUyN2U4OGMzOTZiOTQpOwogICAgICAgICAgICAKCiAgICAgICAgICAgIG1hcmtlcl82M2E5NTc1MjBmNTc0OGU0YWUzYzNjMDFlZGQ4N2I4Yi5iaW5kUG9wdXAocG9wdXBfZGUyNTM5NTVlMjViNGM4OWE0M2NlNjBmZWFiYWYzNzgpOwoKICAgICAgICAgICAgCiAgICAgICAgCiAgICAKCiAgICAgICAgICAgIHZhciBtYXJrZXJfMWQ5ODIzNmM0ZjYwNDljM2I5NzFjOGQwM2EzYzIxMTIgPSBMLm1hcmtlcigKICAgICAgICAgICAgICAgIFs0My43NDU5MDU3OTk5OTk5OTYsLTc5LjM1MjE4OF0sCiAgICAgICAgICAgICAgICB7CiAgICAgICAgICAgICAgICAgICAgaWNvbjogbmV3IEwuSWNvbi5EZWZhdWx0KCkKICAgICAgICAgICAgICAgICAgICB9CiAgICAgICAgICAgICAgICApCiAgICAgICAgICAgICAgICAuYWRkVG8obWFwXzU0ZGNiYjNkZjBmNDRhM2Q5NDE2OTI1MDczMGJhMDdlKTsKICAgICAgICAgICAgCiAgICAKICAgICAgICAgICAgdmFyIHBvcHVwXzRmMTVkMzdjMmVmZjQxMDg4MTIxZDdmOTIwNTFkNjNkID0gTC5wb3B1cCh7bWF4V2lkdGg6ICczMDAnfSk7CgogICAgICAgICAgICAKICAgICAgICAgICAgICAgIHZhciBodG1sXzgyZDFiYTViNjdiYTRmNmZhOGU1YjM0YTI4NWRlNTRlID0gJCgnPGRpdiBpZD0iaHRtbF84MmQxYmE1YjY3YmE0ZjZmYThlNWIzNGEyODVkZTU0ZSIgc3R5bGU9IndpZHRoOiAxMDAuMCU7IGhlaWdodDogMTAwLjAlOyI+Tm9ydGhZb3JrPC9kaXY+JylbMF07CiAgICAgICAgICAgICAgICBwb3B1cF80ZjE1ZDM3YzJlZmY0MTA4ODEyMWQ3ZjkyMDUxZDYzZC5zZXRDb250ZW50KGh0bWxfODJkMWJhNWI2N2JhNGY2ZmE4ZTViMzRhMjg1ZGU1NGUpOwogICAgICAgICAgICAKCiAgICAgICAgICAgIG1hcmtlcl8xZDk4MjM2YzRmNjA0OWMzYjk3MWM4ZDAzYTNjMjExMi5iaW5kUG9wdXAocG9wdXBfNGYxNWQzN2MyZWZmNDEwODgxMjFkN2Y5MjA1MWQ2M2QpOwoKICAgICAgICAgICAgCiAgICAgICAgCiAgICAKCiAgICAgICAgICAgIHZhciBtYXJrZXJfZjMxNDZmODJjZTMwNDE4Yjg5ZDhlMTE4MDNiYjZmY2YgPSBMLm1hcmtlcigKICAgICAgICAgICAgICAgIFs0My43NzMxMzYsLTc5LjIzOTQ3NjA5OTk5OTk5XSwKICAgICAgICAgICAgICAgIHsKICAgICAgICAgICAgICAgICAgICBpY29uOiBuZXcgTC5JY29uLkRlZmF1bHQoKQogICAgICAgICAgICAgICAgICAgIH0KICAgICAgICAgICAgICAgICkKICAgICAgICAgICAgICAgIC5hZGRUbyhtYXBfNTRkY2JiM2RmMGY0NGEzZDk0MTY5MjUwNzMwYmEwN2UpOwogICAgICAgICAgICAKICAgIAogICAgICAgICAgICB2YXIgcG9wdXBfOWFmMjUzYjA0N2RlNDM1MDkwNjRjOTY2MTUzNGVhN2QgPSBMLnBvcHVwKHttYXhXaWR0aDogJzMwMCd9KTsKCiAgICAgICAgICAgIAogICAgICAgICAgICAgICAgdmFyIGh0bWxfNTYyOTFmNTcyYzIwNGM2Mjk2M2RhMzQwYmFlZTM0NjggPSAkKCc8ZGl2IGlkPSJodG1sXzU2MjkxZjU3MmMyMDRjNjI5NjNkYTM0MGJhZWUzNDY4IiBzdHlsZT0id2lkdGg6IDEwMC4wJTsgaGVpZ2h0OiAxMDAuMCU7Ij5TY2FyYm9yb3VnaDwvZGl2PicpWzBdOwogICAgICAgICAgICAgICAgcG9wdXBfOWFmMjUzYjA0N2RlNDM1MDkwNjRjOTY2MTUzNGVhN2Quc2V0Q29udGVudChodG1sXzU2MjkxZjU3MmMyMDRjNjI5NjNkYTM0MGJhZWUzNDY4KTsKICAgICAgICAgICAgCgogICAgICAgICAgICBtYXJrZXJfZjMxNDZmODJjZTMwNDE4Yjg5ZDhlMTE4MDNiYjZmY2YuYmluZFBvcHVwKHBvcHVwXzlhZjI1M2IwNDdkZTQzNTA5MDY0Yzk2NjE1MzRlYTdkKTsKCiAgICAgICAgICAgIAogICAgICAgIAogICAgCgogICAgICAgICAgICB2YXIgbWFya2VyXzc5MGQ1YWJkMWNlODRlMzZhYThhY2E2ZmI0MzYzMWE3ID0gTC5tYXJrZXIoCiAgICAgICAgICAgICAgICBbNDMuNzU0MzI4MywtNzkuNDQyMjU5M10sCiAgICAgICAgICAgICAgICB7CiAgICAgICAgICAgICAgICAgICAgaWNvbjogbmV3IEwuSWNvbi5EZWZhdWx0KCkKICAgICAgICAgICAgICAgICAgICB9CiAgICAgICAgICAgICAgICApCiAgICAgICAgICAgICAgICAuYWRkVG8obWFwXzU0ZGNiYjNkZjBmNDRhM2Q5NDE2OTI1MDczMGJhMDdlKTsKICAgICAgICAgICAgCiAgICAKICAgICAgICAgICAgdmFyIHBvcHVwXzNmNGNkN2QwNjM2NDQxN2E5YzRjMDhmN2I1NTg5YmIwID0gTC5wb3B1cCh7bWF4V2lkdGg6ICczMDAnfSk7CgogICAgICAgICAgICAKICAgICAgICAgICAgICAgIHZhciBodG1sXzk0MTFkODc2ZDg5MzQ1MTk4YjdjZWU3YzA5NzcyODhjID0gJCgnPGRpdiBpZD0iaHRtbF85NDExZDg3NmQ4OTM0NTE5OGI3Y2VlN2MwOTc3Mjg4YyIgc3R5bGU9IndpZHRoOiAxMDAuMCU7IGhlaWdodDogMTAwLjAlOyI+Tm9ydGhZb3JrPC9kaXY+JylbMF07CiAgICAgICAgICAgICAgICBwb3B1cF8zZjRjZDdkMDYzNjQ0MTdhOWM0YzA4ZjdiNTU4OWJiMC5zZXRDb250ZW50KGh0bWxfOTQxMWQ4NzZkODkzNDUxOThiN2NlZTdjMDk3NzI4OGMpOwogICAgICAgICAgICAKCiAgICAgICAgICAgIG1hcmtlcl83OTBkNWFiZDFjZTg0ZTM2YWE4YWNhNmZiNDM2MzFhNy5iaW5kUG9wdXAocG9wdXBfM2Y0Y2Q3ZDA2MzY0NDE3YTljNGMwOGY3YjU1ODliYjApOwoKICAgICAgICAgICAgCiAgICAgICAgCiAgICAKCiAgICAgICAgICAgIHZhciBtYXJrZXJfYWMyODQ0OTliZjc0NDYyZWFiZDg4ODYwMTkzMDAyY2EgPSBMLm1hcmtlcigKICAgICAgICAgICAgICAgIFs0My42OTUzNDM5MDAwMDAwMDUsLTc5LjMxODM4ODddLAogICAgICAgICAgICAgICAgewogICAgICAgICAgICAgICAgICAgIGljb246IG5ldyBMLkljb24uRGVmYXVsdCgpCiAgICAgICAgICAgICAgICAgICAgfQogICAgICAgICAgICAgICAgKQogICAgICAgICAgICAgICAgLmFkZFRvKG1hcF81NGRjYmIzZGYwZjQ0YTNkOTQxNjkyNTA3MzBiYTA3ZSk7CiAgICAgICAgICAgIAogICAgCiAgICAgICAgICAgIHZhciBwb3B1cF83YzBlOWUwNDhjZmQ0ZGY2Yjk5ZmZmMzIzNDQ3NjE5YSA9IEwucG9wdXAoe21heFdpZHRoOiAnMzAwJ30pOwoKICAgICAgICAgICAgCiAgICAgICAgICAgICAgICB2YXIgaHRtbF8xYzRlYzkxN2JlNzc0YjZmOWQ1NGEwZTQ5MzZjYzYyYyA9ICQoJzxkaXYgaWQ9Imh0bWxfMWM0ZWM5MTdiZTc3NGI2ZjlkNTRhMGU0OTM2Y2M2MmMiIHN0eWxlPSJ3aWR0aDogMTAwLjAlOyBoZWlnaHQ6IDEwMC4wJTsiPkVhc3RZb3JrPC9kaXY+JylbMF07CiAgICAgICAgICAgICAgICBwb3B1cF83YzBlOWUwNDhjZmQ0ZGY2Yjk5ZmZmMzIzNDQ3NjE5YS5zZXRDb250ZW50KGh0bWxfMWM0ZWM5MTdiZTc3NGI2ZjlkNTRhMGU0OTM2Y2M2MmMpOwogICAgICAgICAgICAKCiAgICAgICAgICAgIG1hcmtlcl9hYzI4NDQ5OWJmNzQ0NjJlYWJkODg4NjAxOTMwMDJjYS5iaW5kUG9wdXAocG9wdXBfN2MwZTllMDQ4Y2ZkNGRmNmI5OWZmZjMyMzQ0NzYxOWEpOwoKICAgICAgICAgICAgCiAgICAgICAgCiAgICAKCiAgICAgICAgICAgIHZhciBtYXJrZXJfZmEyZTRkZmFhZTI2NGVlOGI0NjUxZGI4MWY2ZWY2ZTUgPSBMLm1hcmtlcigKICAgICAgICAgICAgICAgIFs0My43MjU4ODIyOTk5OTk5OTUsLTc5LjMxNTU3MTU5OTk5OTk4XSwKICAgICAgICAgICAgICAgIHsKICAgICAgICAgICAgICAgICAgICBpY29uOiBuZXcgTC5JY29uLkRlZmF1bHQoKQogICAgICAgICAgICAgICAgICAgIH0KICAgICAgICAgICAgICAgICkKICAgICAgICAgICAgICAgIC5hZGRUbyhtYXBfNTRkY2JiM2RmMGY0NGEzZDk0MTY5MjUwNzMwYmEwN2UpOwogICAgICAgICAgICAKICAgIAogICAgICAgICAgICB2YXIgcG9wdXBfNjkzNjBkMmE5MTVlNDg0YWE4ZjI5MDk4M2IwYzhmNmIgPSBMLnBvcHVwKHttYXhXaWR0aDogJzMwMCd9KTsKCiAgICAgICAgICAgIAogICAgICAgICAgICAgICAgdmFyIGh0bWxfZDZhYjNhYzRiZjhkNGUwNWFhOTUyODUwNTVmOTMyNDAgPSAkKCc8ZGl2IGlkPSJodG1sX2Q2YWIzYWM0YmY4ZDRlMDVhYTk1Mjg1MDU1ZjkzMjQwIiBzdHlsZT0id2lkdGg6IDEwMC4wJTsgaGVpZ2h0OiAxMDAuMCU7Ij5Ob3J0aFlvcms8L2Rpdj4nKVswXTsKICAgICAgICAgICAgICAgIHBvcHVwXzY5MzYwZDJhOTE1ZTQ4NGFhOGYyOTA5ODNiMGM4ZjZiLnNldENvbnRlbnQoaHRtbF9kNmFiM2FjNGJmOGQ0ZTA1YWE5NTI4NTA1NWY5MzI0MCk7CiAgICAgICAgICAgIAoKICAgICAgICAgICAgbWFya2VyX2ZhMmU0ZGZhYWUyNjRlZThiNDY1MWRiODFmNmVmNmU1LmJpbmRQb3B1cChwb3B1cF82OTM2MGQyYTkxNWU0ODRhYThmMjkwOTgzYjBjOGY2Yik7CgogICAgICAgICAgICAKICAgICAgICAKICAgIAoKICAgICAgICAgICAgdmFyIG1hcmtlcl9iNGU2ZmM0NGFlNTQ0NDA0OTMwZDNjMjQ2ZTFiNmFjMSA9IEwubWFya2VyKAogICAgICAgICAgICAgICAgWzQzLjcxNTM4MzQsLTc5LjQwNTY3ODQwMDAwMDAxXSwKICAgICAgICAgICAgICAgIHsKICAgICAgICAgICAgICAgICAgICBpY29uOiBuZXcgTC5JY29uLkRlZmF1bHQoKQogICAgICAgICAgICAgICAgICAgIH0KICAgICAgICAgICAgICAgICkKICAgICAgICAgICAgICAgIC5hZGRUbyhtYXBfNTRkY2JiM2RmMGY0NGEzZDk0MTY5MjUwNzMwYmEwN2UpOwogICAgICAgICAgICAKICAgIAogICAgICAgICAgICB2YXIgcG9wdXBfMWZmMzFmYmQwOGU0NDAyZmJkMGYwODc2ZGU2YjQwMWQgPSBMLnBvcHVwKHttYXhXaWR0aDogJzMwMCd9KTsKCiAgICAgICAgICAgIAogICAgICAgICAgICAgICAgdmFyIGh0bWxfOWUxZGU5Y2ZlZjZmNGZkM2ExNTQxYjI2NTQ4ZTc1NmYgPSAkKCc8ZGl2IGlkPSJodG1sXzllMWRlOWNmZWY2ZjRmZDNhMTU0MWIyNjU0OGU3NTZmIiBzdHlsZT0id2lkdGg6IDEwMC4wJTsgaGVpZ2h0OiAxMDAuMCU7Ij5DZW50cmFsVG9yb250bzwvZGl2PicpWzBdOwogICAgICAgICAgICAgICAgcG9wdXBfMWZmMzFmYmQwOGU0NDAyZmJkMGYwODc2ZGU2YjQwMWQuc2V0Q29udGVudChodG1sXzllMWRlOWNmZWY2ZjRmZDNhMTU0MWIyNjU0OGU3NTZmKTsKICAgICAgICAgICAgCgogICAgICAgICAgICBtYXJrZXJfYjRlNmZjNDRhZTU0NDQwNDkzMGQzYzI0NmUxYjZhYzEuYmluZFBvcHVwKHBvcHVwXzFmZjMxZmJkMDhlNDQwMmZiZDBmMDg3NmRlNmI0MDFkKTsKCiAgICAgICAgICAgIAogICAgICAgIAogICAgCgogICAgICAgICAgICB2YXIgbWFya2VyX2Q0ZTYxMWFmZDAxZjQ5NDY4MDhlMWY0ZmNmM2U4ODM1ID0gTC5tYXJrZXIoCiAgICAgICAgICAgICAgICBbNDMuNjcyNzA5NywtNzkuNDA1Njc4NDAwMDAwMDFdLAogICAgICAgICAgICAgICAgewogICAgICAgICAgICAgICAgICAgIGljb246IG5ldyBMLkljb24uRGVmYXVsdCgpCiAgICAgICAgICAgICAgICAgICAgfQogICAgICAgICAgICAgICAgKQogICAgICAgICAgICAgICAgLmFkZFRvKG1hcF81NGRjYmIzZGYwZjQ0YTNkOTQxNjkyNTA3MzBiYTA3ZSk7CiAgICAgICAgICAgIAogICAgCiAgICAgICAgICAgIHZhciBwb3B1cF9kYjgxNzhiNGU3NDg0OWFmOGJhMmZiMmE0ODY0YzI0MCA9IEwucG9wdXAoe21heFdpZHRoOiAnMzAwJ30pOwoKICAgICAgICAgICAgCiAgICAgICAgICAgICAgICB2YXIgaHRtbF8zN2I1YWExNzUyNDk0ODI1YjIyM2QyYzg1ZmUxNjdhYSA9ICQoJzxkaXYgaWQ9Imh0bWxfMzdiNWFhMTc1MjQ5NDgyNWIyMjNkMmM4NWZlMTY3YWEiIHN0eWxlPSJ3aWR0aDogMTAwLjAlOyBoZWlnaHQ6IDEwMC4wJTsiPkNlbnRyYWxUb3JvbnRvPC9kaXY+JylbMF07CiAgICAgICAgICAgICAgICBwb3B1cF9kYjgxNzhiNGU3NDg0OWFmOGJhMmZiMmE0ODY0YzI0MC5zZXRDb250ZW50KGh0bWxfMzdiNWFhMTc1MjQ5NDgyNWIyMjNkMmM4NWZlMTY3YWEpOwogICAgICAgICAgICAKCiAgICAgICAgICAgIG1hcmtlcl9kNGU2MTFhZmQwMWY0OTQ2ODA4ZTFmNGZjZjNlODgzNS5iaW5kUG9wdXAocG9wdXBfZGI4MTc4YjRlNzQ4NDlhZjhiYTJmYjJhNDg2NGMyNDApOwoKICAgICAgICAgICAgCiAgICAgICAgCiAgICAKCiAgICAgICAgICAgIHZhciBtYXJrZXJfMTc0NmUxNzU4OTVkNGI1ODhhMmQxMzlkNzFlNzU1MWIgPSBMLm1hcmtlcigKICAgICAgICAgICAgICAgIFs0My43MTM3NTYyMDAwMDAwMDYsLTc5LjQ5MDA3MzhdLAogICAgICAgICAgICAgICAgewogICAgICAgICAgICAgICAgICAgIGljb246IG5ldyBMLkljb24uRGVmYXVsdCgpCiAgICAgICAgICAgICAgICAgICAgfQogICAgICAgICAgICAgICAgKQogICAgICAgICAgICAgICAgLmFkZFRvKG1hcF81NGRjYmIzZGYwZjQ0YTNkOTQxNjkyNTA3MzBiYTA3ZSk7CiAgICAgICAgICAgIAogICAgCiAgICAgICAgICAgIHZhciBwb3B1cF82YTcxY2YyMjcyMzU0NjhlYTVjZjE4MTY0ZTMzODQ5NCA9IEwucG9wdXAoe21heFdpZHRoOiAnMzAwJ30pOwoKICAgICAgICAgICAgCiAgICAgICAgICAgICAgICB2YXIgaHRtbF9iNDgxZmFiN2Y1ZDA0Mzc2OWI5N2Y5ZmE0ZGJkY2EwOCA9ICQoJzxkaXYgaWQ9Imh0bWxfYjQ4MWZhYjdmNWQwNDM3NjliOTdmOWZhNGRiZGNhMDgiIHN0eWxlPSJ3aWR0aDogMTAwLjAlOyBoZWlnaHQ6IDEwMC4wJTsiPk5vcnRoWW9yazwvZGl2PicpWzBdOwogICAgICAgICAgICAgICAgcG9wdXBfNmE3MWNmMjI3MjM1NDY4ZWE1Y2YxODE2NGUzMzg0OTQuc2V0Q29udGVudChodG1sX2I0ODFmYWI3ZjVkMDQzNzY5Yjk3ZjlmYTRkYmRjYTA4KTsKICAgICAgICAgICAgCgogICAgICAgICAgICBtYXJrZXJfMTc0NmUxNzU4OTVkNGI1ODhhMmQxMzlkNzFlNzU1MWIuYmluZFBvcHVwKHBvcHVwXzZhNzFjZjIyNzIzNTQ2OGVhNWNmMTgxNjRlMzM4NDk0KTsKCiAgICAgICAgICAgIAogICAgICAgIAogICAgCgogICAgICAgICAgICB2YXIgbWFya2VyXzU0MDA2MzFmNTdkNDQxM2I4ZDYwZGFiNGMzMzIwMWYxID0gTC5tYXJrZXIoCiAgICAgICAgICAgICAgICBbNDMuNjk2MzE5LC03OS41MzIyNDI0MDAwMDAwMl0sCiAgICAgICAgICAgICAgICB7CiAgICAgICAgICAgICAgICAgICAgaWNvbjogbmV3IEwuSWNvbi5EZWZhdWx0KCkKICAgICAgICAgICAgICAgICAgICB9CiAgICAgICAgICAgICAgICApCiAgICAgICAgICAgICAgICAuYWRkVG8obWFwXzU0ZGNiYjNkZjBmNDRhM2Q5NDE2OTI1MDczMGJhMDdlKTsKICAgICAgICAgICAgCiAgICAKICAgICAgICAgICAgdmFyIHBvcHVwX2JlZTkyY2ZkNTNmYTRhYjE4ZjIzYWJkMDYyNDczNGYwID0gTC5wb3B1cCh7bWF4V2lkdGg6ICczMDAnfSk7CgogICAgICAgICAgICAKICAgICAgICAgICAgICAgIHZhciBodG1sXzA1ODg3M2NhMmQ3YzQ0NzI4YWQ1NmYzMWQwYTViODE1ID0gJCgnPGRpdiBpZD0iaHRtbF8wNTg4NzNjYTJkN2M0NDcyOGFkNTZmMzFkMGE1YjgxNSIgc3R5bGU9IndpZHRoOiAxMDAuMCU7IGhlaWdodDogMTAwLjAlOyI+RXRvYmljb2tlPC9kaXY+JylbMF07CiAgICAgICAgICAgICAgICBwb3B1cF9iZWU5MmNmZDUzZmE0YWIxOGYyM2FiZDA2MjQ3MzRmMC5zZXRDb250ZW50KGh0bWxfMDU4ODczY2EyZDdjNDQ3MjhhZDU2ZjMxZDBhNWI4MTUpOwogICAgICAgICAgICAKCiAgICAgICAgICAgIG1hcmtlcl81NDAwNjMxZjU3ZDQ0MTNiOGQ2MGRhYjRjMzMyMDFmMS5iaW5kUG9wdXAocG9wdXBfYmVlOTJjZmQ1M2ZhNGFiMThmMjNhYmQwNjI0NzM0ZjApOwoKICAgICAgICAgICAgCiAgICAgICAgCiAgICAKCiAgICAgICAgICAgIHZhciBtYXJrZXJfYTJlNGVkMDJjM2YyNGQ3NGEzNzg3MDEyZDI0OWUzOGUgPSBMLm1hcmtlcigKICAgICAgICAgICAgICAgIFs0My43ODE2Mzc1LC03OS4zMDQzMDIxXSwKICAgICAgICAgICAgICAgIHsKICAgICAgICAgICAgICAgICAgICBpY29uOiBuZXcgTC5JY29uLkRlZmF1bHQoKQogICAgICAgICAgICAgICAgICAgIH0KICAgICAgICAgICAgICAgICkKICAgICAgICAgICAgICAgIC5hZGRUbyhtYXBfNTRkY2JiM2RmMGY0NGEzZDk0MTY5MjUwNzMwYmEwN2UpOwogICAgICAgICAgICAKICAgIAogICAgICAgICAgICB2YXIgcG9wdXBfMmYxODhhYmJhNzE0NDY1MThkMWYzN2Q3ZWI2ODg1ZWQgPSBMLnBvcHVwKHttYXhXaWR0aDogJzMwMCd9KTsKCiAgICAgICAgICAgIAogICAgICAgICAgICAgICAgdmFyIGh0bWxfNDc0MGVlMTAyOWFkNDlmYWFiMDM4YmI4OGE4MWNmYzkgPSAkKCc8ZGl2IGlkPSJodG1sXzQ3NDBlZTEwMjlhZDQ5ZmFhYjAzOGJiODhhODFjZmM5IiBzdHlsZT0id2lkdGg6IDEwMC4wJTsgaGVpZ2h0OiAxMDAuMCU7Ij5TY2FyYm9yb3VnaDwvZGl2PicpWzBdOwogICAgICAgICAgICAgICAgcG9wdXBfMmYxODhhYmJhNzE0NDY1MThkMWYzN2Q3ZWI2ODg1ZWQuc2V0Q29udGVudChodG1sXzQ3NDBlZTEwMjlhZDQ5ZmFhYjAzOGJiODhhODFjZmM5KTsKICAgICAgICAgICAgCgogICAgICAgICAgICBtYXJrZXJfYTJlNGVkMDJjM2YyNGQ3NGEzNzg3MDEyZDI0OWUzOGUuYmluZFBvcHVwKHBvcHVwXzJmMTg4YWJiYTcxNDQ2NTE4ZDFmMzdkN2ViNjg4NWVkKTsKCiAgICAgICAgICAgIAogICAgICAgIAogICAgCgogICAgICAgICAgICB2YXIgbWFya2VyX2RhMGJiMWQxMGY2MzQ3ZjZiNDEyNDk0MjI0MDRmMjA2ID0gTC5tYXJrZXIoCiAgICAgICAgICAgICAgICBbNDMuNzg5MDUzLC03OS40MDg0OTI3OTk5OTk5OV0sCiAgICAgICAgICAgICAgICB7CiAgICAgICAgICAgICAgICAgICAgaWNvbjogbmV3IEwuSWNvbi5EZWZhdWx0KCkKICAgICAgICAgICAgICAgICAgICB9CiAgICAgICAgICAgICAgICApCiAgICAgICAgICAgICAgICAuYWRkVG8obWFwXzU0ZGNiYjNkZjBmNDRhM2Q5NDE2OTI1MDczMGJhMDdlKTsKICAgICAgICAgICAgCiAgICAKICAgICAgICAgICAgdmFyIHBvcHVwXzYzMjM5Mjg0ODA4OTRkNDI4NmU3ODhkNmNiMDM1MGYwID0gTC5wb3B1cCh7bWF4V2lkdGg6ICczMDAnfSk7CgogICAgICAgICAgICAKICAgICAgICAgICAgICAgIHZhciBodG1sXzU3MWE3NTcyMGJlZjQ5MTlhN2ZmMzc0YTEyMjY5ZWVhID0gJCgnPGRpdiBpZD0iaHRtbF81NzFhNzU3MjBiZWY0OTE5YTdmZjM3NGExMjI2OWVlYSIgc3R5bGU9IndpZHRoOiAxMDAuMCU7IGhlaWdodDogMTAwLjAlOyI+Tm9ydGhZb3JrPC9kaXY+JylbMF07CiAgICAgICAgICAgICAgICBwb3B1cF82MzIzOTI4NDgwODk0ZDQyODZlNzg4ZDZjYjAzNTBmMC5zZXRDb250ZW50KGh0bWxfNTcxYTc1NzIwYmVmNDkxOWE3ZmYzNzRhMTIyNjllZWEpOwogICAgICAgICAgICAKCiAgICAgICAgICAgIG1hcmtlcl9kYTBiYjFkMTBmNjM0N2Y2YjQxMjQ5NDIyNDA0ZjIwNi5iaW5kUG9wdXAocG9wdXBfNjMyMzkyODQ4MDg5NGQ0Mjg2ZTc4OGQ2Y2IwMzUwZjApOwoKICAgICAgICAgICAgCiAgICAgICAgCiAgICAKCiAgICAgICAgICAgIHZhciBtYXJrZXJfOTk3NTU3NDdiMGUyNDg2NmE1MzhjMWU5ZGQ2N2U5OGQgPSBMLm1hcmtlcigKICAgICAgICAgICAgICAgIFs0My43NjE2MzEzLC03OS41MjA5OTk0MDAwMDAwMV0sCiAgICAgICAgICAgICAgICB7CiAgICAgICAgICAgICAgICAgICAgaWNvbjogbmV3IEwuSWNvbi5EZWZhdWx0KCkKICAgICAgICAgICAgICAgICAgICB9CiAgICAgICAgICAgICAgICApCiAgICAgICAgICAgICAgICAuYWRkVG8obWFwXzU0ZGNiYjNkZjBmNDRhM2Q5NDE2OTI1MDczMGJhMDdlKTsKICAgICAgICAgICAgCiAgICAKICAgICAgICAgICAgdmFyIHBvcHVwXzBkN2M0YmMwYTZlMzQxMzViYzI3ZGRkYzYxZjA2MWM0ID0gTC5wb3B1cCh7bWF4V2lkdGg6ICczMDAnfSk7CgogICAgICAgICAgICAKICAgICAgICAgICAgICAgIHZhciBodG1sX2Q5MjAzYTQzNDRiMjQzM2ZhYzE0YjA3ZTAzZDA5NWM0ID0gJCgnPGRpdiBpZD0iaHRtbF9kOTIwM2E0MzQ0YjI0MzNmYWMxNGIwN2UwM2QwOTVjNCIgc3R5bGU9IndpZHRoOiAxMDAuMCU7IGhlaWdodDogMTAwLjAlOyI+Tm9ydGhZb3JrPC9kaXY+JylbMF07CiAgICAgICAgICAgICAgICBwb3B1cF8wZDdjNGJjMGE2ZTM0MTM1YmMyN2RkZGM2MWYwNjFjNC5zZXRDb250ZW50KGh0bWxfZDkyMDNhNDM0NGIyNDMzZmFjMTRiMDdlMDNkMDk1YzQpOwogICAgICAgICAgICAKCiAgICAgICAgICAgIG1hcmtlcl85OTc1NTc0N2IwZTI0ODY2YTUzOGMxZTlkZDY3ZTk4ZC5iaW5kUG9wdXAocG9wdXBfMGQ3YzRiYzBhNmUzNDEzNWJjMjdkZGRjNjFmMDYxYzQpOwoKICAgICAgICAgICAgCiAgICAgICAgCiAgICAKCiAgICAgICAgICAgIHZhciBtYXJrZXJfNDZiODg4ZjU4NzE4NGQzZmFjMDdiZjI3NDBhYTc4ODcgPSBMLm1hcmtlcigKICAgICAgICAgICAgICAgIFs0My42NTE1NzA2LC03OS40ODQ0NDk5XSwKICAgICAgICAgICAgICAgIHsKICAgICAgICAgICAgICAgICAgICBpY29uOiBuZXcgTC5JY29uLkRlZmF1bHQoKQogICAgICAgICAgICAgICAgICAgIH0KICAgICAgICAgICAgICAgICkKICAgICAgICAgICAgICAgIC5hZGRUbyhtYXBfNTRkY2JiM2RmMGY0NGEzZDk0MTY5MjUwNzMwYmEwN2UpOwogICAgICAgICAgICAKICAgIAogICAgICAgICAgICB2YXIgcG9wdXBfZmJlNjgxMGQ4MzQzNGNhZWIyNzEwODE4MDhmNGJiODEgPSBMLnBvcHVwKHttYXhXaWR0aDogJzMwMCd9KTsKCiAgICAgICAgICAgIAogICAgICAgICAgICAgICAgdmFyIGh0bWxfOGJkMGMyZGM0ODcyNDZiN2JkMDhhMzljNDAxNWJhZDcgPSAkKCc8ZGl2IGlkPSJodG1sXzhiZDBjMmRjNDg3MjQ2YjdiZDA4YTM5YzQwMTViYWQ3IiBzdHlsZT0id2lkdGg6IDEwMC4wJTsgaGVpZ2h0OiAxMDAuMCU7Ij5XZXN0VG9yb250bzwvZGl2PicpWzBdOwogICAgICAgICAgICAgICAgcG9wdXBfZmJlNjgxMGQ4MzQzNGNhZWIyNzEwODE4MDhmNGJiODEuc2V0Q29udGVudChodG1sXzhiZDBjMmRjNDg3MjQ2YjdiZDA4YTM5YzQwMTViYWQ3KTsKICAgICAgICAgICAgCgogICAgICAgICAgICBtYXJrZXJfNDZiODg4ZjU4NzE4NGQzZmFjMDdiZjI3NDBhYTc4ODcuYmluZFBvcHVwKHBvcHVwX2ZiZTY4MTBkODM0MzRjYWViMjcxMDgxODA4ZjRiYjgxKTsKCiAgICAgICAgICAgIAogICAgICAgIAogICAgCgogICAgICAgICAgICB2YXIgbWFya2VyX2Y5OWMxZWUzYmU5YzQ5M2ZiOWUwNWI4YzczYjVjY2I0ID0gTC5tYXJrZXIoCiAgICAgICAgICAgICAgICBbNDMuNjUwOTQzMiwtNzkuNTU0NzI0NDAwMDAwMDFdLAogICAgICAgICAgICAgICAgewogICAgICAgICAgICAgICAgICAgIGljb246IG5ldyBMLkljb24uRGVmYXVsdCgpCiAgICAgICAgICAgICAgICAgICAgfQogICAgICAgICAgICAgICAgKQogICAgICAgICAgICAgICAgLmFkZFRvKG1hcF81NGRjYmIzZGYwZjQ0YTNkOTQxNjkyNTA3MzBiYTA3ZSk7CiAgICAgICAgICAgIAogICAgCiAgICAgICAgICAgIHZhciBwb3B1cF9lY2UwOWVkZmI5MGM0YzdjYjg5YWEzODgzNjJiYzlmZCA9IEwucG9wdXAoe21heFdpZHRoOiAnMzAwJ30pOwoKICAgICAgICAgICAgCiAgICAgICAgICAgICAgICB2YXIgaHRtbF8zOWM0YmRjNjkwNmU0MThjYTRjNGNiN2Y1ZWQ0OTg2NiA9ICQoJzxkaXYgaWQ9Imh0bWxfMzljNGJkYzY5MDZlNDE4Y2E0YzRjYjdmNWVkNDk4NjYiIHN0eWxlPSJ3aWR0aDogMTAwLjAlOyBoZWlnaHQ6IDEwMC4wJTsiPkV0b2JpY29rZTwvZGl2PicpWzBdOwogICAgICAgICAgICAgICAgcG9wdXBfZWNlMDllZGZiOTBjNGM3Y2I4OWFhMzg4MzYyYmM5ZmQuc2V0Q29udGVudChodG1sXzM5YzRiZGM2OTA2ZTQxOGNhNGM0Y2I3ZjVlZDQ5ODY2KTsKICAgICAgICAgICAgCgogICAgICAgICAgICBtYXJrZXJfZjk5YzFlZTNiZTljNDkzZmI5ZTA1YjhjNzNiNWNjYjQuYmluZFBvcHVwKHBvcHVwX2VjZTA5ZWRmYjkwYzRjN2NiODlhYTM4ODM2MmJjOWZkKTsKCiAgICAgICAgICAgIAogICAgICAgIAogICAgCgogICAgICAgICAgICB2YXIgbWFya2VyX2IzMzgxOWIwOTE4MzQxNzhiNzE3ZWQ2Zjk4MmVkZGY2ID0gTC5tYXJrZXIoCiAgICAgICAgICAgICAgICBbNDMuNjc2MzU3Mzk5OTk5OTksLTc5LjI5MzAzMTJdLAogICAgICAgICAgICAgICAgewogICAgICAgICAgICAgICAgICAgIGljb246IG5ldyBMLkljb24uRGVmYXVsdCgpCiAgICAgICAgICAgICAgICAgICAgfQogICAgICAgICAgICAgICAgKQogICAgICAgICAgICAgICAgLmFkZFRvKG1hcF81NGRjYmIzZGYwZjQ0YTNkOTQxNjkyNTA3MzBiYTA3ZSk7CiAgICAgICAgICAgIAogICAgCiAgICAgICAgICAgIHZhciBwb3B1cF83OTM1MzJmZGI5OWI0YzVjOGNmNGFkOWU5NDRlMTE1YyA9IEwucG9wdXAoe21heFdpZHRoOiAnMzAwJ30pOwoKICAgICAgICAgICAgCiAgICAgICAgICAgICAgICB2YXIgaHRtbF9mN2UxZDUzZWZlNjA0NjhiYTQ2NGVkYzlkZTMzMzgyYiA9ICQoJzxkaXYgaWQ9Imh0bWxfZjdlMWQ1M2VmZTYwNDY4YmE0NjRlZGM5ZGUzMzM4MmIiIHN0eWxlPSJ3aWR0aDogMTAwLjAlOyBoZWlnaHQ6IDEwMC4wJTsiPkVhc3RUb3JvbnRvPC9kaXY+JylbMF07CiAgICAgICAgICAgICAgICBwb3B1cF83OTM1MzJmZGI5OWI0YzVjOGNmNGFkOWU5NDRlMTE1Yy5zZXRDb250ZW50KGh0bWxfZjdlMWQ1M2VmZTYwNDY4YmE0NjRlZGM5ZGUzMzM4MmIpOwogICAgICAgICAgICAKCiAgICAgICAgICAgIG1hcmtlcl9iMzM4MTliMDkxODM0MTc4YjcxN2VkNmY5ODJlZGRmNi5iaW5kUG9wdXAocG9wdXBfNzkzNTMyZmRiOTliNGM1YzhjZjRhZDllOTQ0ZTExNWMpOwoKICAgICAgICAgICAgCiAgICAgICAgCiAgICAKCiAgICAgICAgICAgIHZhciBtYXJrZXJfNGZhYzA5NjI2YWQ3NDBhNmE5Mjc4ZjY4OTA4MzZmYmYgPSBMLm1hcmtlcigKICAgICAgICAgICAgICAgIFs0My43NTYzMDMzLC03OS41NjU5NjMyOTk5OTk5OV0sCiAgICAgICAgICAgICAgICB7CiAgICAgICAgICAgICAgICAgICAgaWNvbjogbmV3IEwuSWNvbi5EZWZhdWx0KCkKICAgICAgICAgICAgICAgICAgICB9CiAgICAgICAgICAgICAgICApCiAgICAgICAgICAgICAgICAuYWRkVG8obWFwXzU0ZGNiYjNkZjBmNDRhM2Q5NDE2OTI1MDczMGJhMDdlKTsKICAgICAgICAgICAgCiAgICAKICAgICAgICAgICAgdmFyIHBvcHVwX2Y2NTZiZTZmYTIzZjRiM2RiYjE3NDRjZTNlMjg5M2Y5ID0gTC5wb3B1cCh7bWF4V2lkdGg6ICczMDAnfSk7CgogICAgICAgICAgICAKICAgICAgICAgICAgICAgIHZhciBodG1sX2VhZGM3YjI2NGViYTQ5NWI5NDY5MmY4NDE5MzRiZGZhID0gJCgnPGRpdiBpZD0iaHRtbF9lYWRjN2IyNjRlYmE0OTViOTQ2OTJmODQxOTM0YmRmYSIgc3R5bGU9IndpZHRoOiAxMDAuMCU7IGhlaWdodDogMTAwLjAlOyI+Tm9ydGhZb3JrPC9kaXY+JylbMF07CiAgICAgICAgICAgICAgICBwb3B1cF9mNjU2YmU2ZmEyM2Y0YjNkYmIxNzQ0Y2UzZTI4OTNmOS5zZXRDb250ZW50KGh0bWxfZWFkYzdiMjY0ZWJhNDk1Yjk0NjkyZjg0MTkzNGJkZmEpOwogICAgICAgICAgICAKCiAgICAgICAgICAgIG1hcmtlcl80ZmFjMDk2MjZhZDc0MGE2YTkyNzhmNjg5MDgzNmZiZi5iaW5kUG9wdXAocG9wdXBfZjY1NmJlNmZhMjNmNGIzZGJiMTc0NGNlM2UyODkzZjkpOwoKICAgICAgICAgICAgCiAgICAgICAgCiAgICAKCiAgICAgICAgICAgIHZhciBtYXJrZXJfNjc1MmE5ZjBkNzNhNGQyZmE3OTM1NjA4YmFkZGVlOWUgPSBMLm1hcmtlcigKICAgICAgICAgICAgICAgIFs0My42MzYyNTc5LC03OS40OTg1MDkwOTk5OTk5OV0sCiAgICAgICAgICAgICAgICB7CiAgICAgICAgICAgICAgICAgICAgaWNvbjogbmV3IEwuSWNvbi5EZWZhdWx0KCkKICAgICAgICAgICAgICAgICAgICB9CiAgICAgICAgICAgICAgICApCiAgICAgICAgICAgICAgICAuYWRkVG8obWFwXzU0ZGNiYjNkZjBmNDRhM2Q5NDE2OTI1MDczMGJhMDdlKTsKICAgICAgICAgICAgCiAgICAKICAgICAgICAgICAgdmFyIHBvcHVwXzY4ZmNlYzFlYWRhNDQyYWY5MDNkYjgxZjFlNGMzOTQ3ID0gTC5wb3B1cCh7bWF4V2lkdGg6ICczMDAnfSk7CgogICAgICAgICAgICAKICAgICAgICAgICAgICAgIHZhciBodG1sXzBkOTU1ZTE4NDFiNzRmYzViNzc0ZmZmMzFjM2ZiY2YyID0gJCgnPGRpdiBpZD0iaHRtbF8wZDk1NWUxODQxYjc0ZmM1Yjc3NGZmZjMxYzNmYmNmMiIgc3R5bGU9IndpZHRoOiAxMDAuMCU7IGhlaWdodDogMTAwLjAlOyI+RXRvYmljb2tlPC9kaXY+JylbMF07CiAgICAgICAgICAgICAgICBwb3B1cF82OGZjZWMxZWFkYTQ0MmFmOTAzZGI4MWYxZTRjMzk0Ny5zZXRDb250ZW50KGh0bWxfMGQ5NTVlMTg0MWI3NGZjNWI3NzRmZmYzMWMzZmJjZjIpOwogICAgICAgICAgICAKCiAgICAgICAgICAgIG1hcmtlcl82NzUyYTlmMGQ3M2E0ZDJmYTc5MzU2MDhiYWRkZWU5ZS5iaW5kUG9wdXAocG9wdXBfNjhmY2VjMWVhZGE0NDJhZjkwM2RiODFmMWU0YzM5NDcpOwoKICAgICAgICAgICAgCiAgICAgICAgCiAgICAKCiAgICAgICAgICAgIHZhciBtYXJrZXJfNGYxYzg4ZDMwODI0NGFlNDk1ZWRmMzgzOTMzNzgzZmEgPSBMLm1hcmtlcigKICAgICAgICAgICAgICAgIFs0My43Mzk0MTYzOTk5OTk5OTYsLTc5LjU4ODQzNjldLAogICAgICAgICAgICAgICAgewogICAgICAgICAgICAgICAgICAgIGljb246IG5ldyBMLkljb24uRGVmYXVsdCgpCiAgICAgICAgICAgICAgICAgICAgfQogICAgICAgICAgICAgICAgKQogICAgICAgICAgICAgICAgLmFkZFRvKG1hcF81NGRjYmIzZGYwZjQ0YTNkOTQxNjkyNTA3MzBiYTA3ZSk7CiAgICAgICAgICAgIAogICAgCiAgICAgICAgICAgIHZhciBwb3B1cF8wZTA0MjEzNTA5YzQ0Mjg5OGI3YzEwN2I4ZTZiNGFiZiA9IEwucG9wdXAoe21heFdpZHRoOiAnMzAwJ30pOwoKICAgICAgICAgICAgCiAgICAgICAgICAgICAgICB2YXIgaHRtbF8wZjAxZWQyYTJiNWY0YzJiYmFjMTE4ZDgxNzZmYTYxMyA9ICQoJzxkaXYgaWQ9Imh0bWxfMGYwMWVkMmEyYjVmNGMyYmJhYzExOGQ4MTc2ZmE2MTMiIHN0eWxlPSJ3aWR0aDogMTAwLjAlOyBoZWlnaHQ6IDEwMC4wJTsiPkV0b2JpY29rZTwvZGl2PicpWzBdOwogICAgICAgICAgICAgICAgcG9wdXBfMGUwNDIxMzUwOWM0NDI4OThiN2MxMDdiOGU2YjRhYmYuc2V0Q29udGVudChodG1sXzBmMDFlZDJhMmI1ZjRjMmJiYWMxMThkODE3NmZhNjEzKTsKICAgICAgICAgICAgCgogICAgICAgICAgICBtYXJrZXJfNGYxYzg4ZDMwODI0NGFlNDk1ZWRmMzgzOTMzNzgzZmEuYmluZFBvcHVwKHBvcHVwXzBlMDQyMTM1MDljNDQyODk4YjdjMTA3YjhlNmI0YWJmKTsKCiAgICAgICAgICAgIAogICAgICAgIAogICAgCgogICAgICAgICAgICB2YXIgbWFya2VyXzczNDAyNTVjZDNkNDQ0MjlhMGY0MTZlYzg2NmQ3OWEwID0gTC5tYXJrZXIoCiAgICAgICAgICAgICAgICBbNDMuNzUyNzU4Mjk5OTk5OTk2LC03OS40MDAwNDkzXSwKICAgICAgICAgICAgICAgIHsKICAgICAgICAgICAgICAgICAgICBpY29uOiBuZXcgTC5JY29uLkRlZmF1bHQoKQogICAgICAgICAgICAgICAgICAgIH0KICAgICAgICAgICAgICAgICkKICAgICAgICAgICAgICAgIC5hZGRUbyhtYXBfNTRkY2JiM2RmMGY0NGEzZDk0MTY5MjUwNzMwYmEwN2UpOwogICAgICAgICAgICAKICAgIAogICAgICAgICAgICB2YXIgcG9wdXBfN2U3NDA3OTFhYWZiNGQ2ODgzZjUzOTE1ZDZmNWU1MmEgPSBMLnBvcHVwKHttYXhXaWR0aDogJzMwMCd9KTsKCiAgICAgICAgICAgIAogICAgICAgICAgICAgICAgdmFyIGh0bWxfMjRhYjAzZmEzNmQxNDA5ZGEyMGFkNDdiZTlkNWNhZjUgPSAkKCc8ZGl2IGlkPSJodG1sXzI0YWIwM2ZhMzZkMTQwOWRhMjBhZDQ3YmU5ZDVjYWY1IiBzdHlsZT0id2lkdGg6IDEwMC4wJTsgaGVpZ2h0OiAxMDAuMCU7Ij5Ob3J0aFlvcms8L2Rpdj4nKVswXTsKICAgICAgICAgICAgICAgIHBvcHVwXzdlNzQwNzkxYWFmYjRkNjg4M2Y1MzkxNWQ2ZjVlNTJhLnNldENvbnRlbnQoaHRtbF8yNGFiMDNmYTM2ZDE0MDlkYTIwYWQ0N2JlOWQ1Y2FmNSk7CiAgICAgICAgICAgIAoKICAgICAgICAgICAgbWFya2VyXzczNDAyNTVjZDNkNDQ0MjlhMGY0MTZlYzg2NmQ3OWEwLmJpbmRQb3B1cChwb3B1cF83ZTc0MDc5MWFhZmI0ZDY4ODNmNTM5MTVkNmY1ZTUyYSk7CgogICAgICAgICAgICAKICAgICAgICAKICAgIAoKICAgICAgICAgICAgdmFyIG1hcmtlcl8wZTM0YjQ0NzQ3Zjc0MGYwYmY1M2Q1NDI2ZTdlZWFkMSA9IEwubWFya2VyKAogICAgICAgICAgICAgICAgWzQzLjY4OTAyNTYsLTc5LjQ1MzUxMl0sCiAgICAgICAgICAgICAgICB7CiAgICAgICAgICAgICAgICAgICAgaWNvbjogbmV3IEwuSWNvbi5EZWZhdWx0KCkKICAgICAgICAgICAgICAgICAgICB9CiAgICAgICAgICAgICAgICApCiAgICAgICAgICAgICAgICAuYWRkVG8obWFwXzU0ZGNiYjNkZjBmNDRhM2Q5NDE2OTI1MDczMGJhMDdlKTsKICAgICAgICAgICAgCiAgICAKICAgICAgICAgICAgdmFyIHBvcHVwXzZlNWQxODc4NWQxODQyNTg5YTM4YThhMDIyNmIxMWRhID0gTC5wb3B1cCh7bWF4V2lkdGg6ICczMDAnfSk7CgogICAgICAgICAgICAKICAgICAgICAgICAgICAgIHZhciBodG1sXzg0Mjg5YTA2MTU3NTQ0MGJhN2Y5ODkzNTM4NmY4ZTgyID0gJCgnPGRpdiBpZD0iaHRtbF84NDI4OWEwNjE1NzU0NDBiYTdmOTg5MzUzODZmOGU4MiIgc3R5bGU9IndpZHRoOiAxMDAuMCU7IGhlaWdodDogMTAwLjAlOyI+WW9yazwvZGl2PicpWzBdOwogICAgICAgICAgICAgICAgcG9wdXBfNmU1ZDE4Nzg1ZDE4NDI1ODlhMzhhOGEwMjI2YjExZGEuc2V0Q29udGVudChodG1sXzg0Mjg5YTA2MTU3NTQ0MGJhN2Y5ODkzNTM4NmY4ZTgyKTsKICAgICAgICAgICAgCgogICAgICAgICAgICBtYXJrZXJfMGUzNGI0NDc0N2Y3NDBmMGJmNTNkNTQyNmU3ZWVhZDEuYmluZFBvcHVwKHBvcHVwXzZlNWQxODc4NWQxODQyNTg5YTM4YThhMDIyNmIxMWRhKTsKCiAgICAgICAgICAgIAogICAgICAgIAogICAgCgogICAgICAgICAgICB2YXIgbWFya2VyXzdkMDQ5Y2FkNWIwYjQzMzk4ZGFjNDg4MTE4NGM3Mjk5ID0gTC5tYXJrZXIoCiAgICAgICAgICAgICAgICBbNDMuNjQ4MTk4NSwtNzkuMzc5ODE2OTAwMDAwMDFdLAogICAgICAgICAgICAgICAgewogICAgICAgICAgICAgICAgICAgIGljb246IG5ldyBMLkljb24uRGVmYXVsdCgpCiAgICAgICAgICAgICAgICAgICAgfQogICAgICAgICAgICAgICAgKQogICAgICAgICAgICAgICAgLmFkZFRvKG1hcF81NGRjYmIzZGYwZjQ0YTNkOTQxNjkyNTA3MzBiYTA3ZSk7CiAgICAgICAgICAgIAogICAgCiAgICAgICAgICAgIHZhciBwb3B1cF83NzZiYmMwMDY2NzM0OThlODUyM2YwODU0YmI3ZTVlNCA9IEwucG9wdXAoe21heFdpZHRoOiAnMzAwJ30pOwoKICAgICAgICAgICAgCiAgICAgICAgICAgICAgICB2YXIgaHRtbF8wMDUwMGMzYTYxZDE0Y2ZhYjhhNjE4ZmFjMmZhYmUyNyA9ICQoJzxkaXYgaWQ9Imh0bWxfMDA1MDBjM2E2MWQxNGNmYWI4YTYxOGZhYzJmYWJlMjciIHN0eWxlPSJ3aWR0aDogMTAwLjAlOyBoZWlnaHQ6IDEwMC4wJTsiPkRvd250b3duVG9yb250bzwvZGl2PicpWzBdOwogICAgICAgICAgICAgICAgcG9wdXBfNzc2YmJjMDA2NjczNDk4ZTg1MjNmMDg1NGJiN2U1ZTQuc2V0Q29udGVudChodG1sXzAwNTAwYzNhNjFkMTRjZmFiOGE2MThmYWMyZmFiZTI3KTsKICAgICAgICAgICAgCgogICAgICAgICAgICBtYXJrZXJfN2QwNDljYWQ1YjBiNDMzOThkYWM0ODgxMTg0YzcyOTkuYmluZFBvcHVwKHBvcHVwXzc3NmJiYzAwNjY3MzQ5OGU4NTIzZjA4NTRiYjdlNWU0KTsKCiAgICAgICAgICAgIAogICAgICAgIAogICAgCgogICAgICAgICAgICB2YXIgbWFya2VyXzc5ZGRjZjk4MDFhNDQ1YmZhMjA4NWRhZTI1OGE5ZDMwID0gTC5tYXJrZXIoCiAgICAgICAgICAgICAgICBbNDMuNjI4OTQ2NywtNzkuMzk0NDE5OV0sCiAgICAgICAgICAgICAgICB7CiAgICAgICAgICAgICAgICAgICAgaWNvbjogbmV3IEwuSWNvbi5EZWZhdWx0KCkKICAgICAgICAgICAgICAgICAgICB9CiAgICAgICAgICAgICAgICApCiAgICAgICAgICAgICAgICAuYWRkVG8obWFwXzU0ZGNiYjNkZjBmNDRhM2Q5NDE2OTI1MDczMGJhMDdlKTsKICAgICAgICAgICAgCiAgICAKICAgICAgICAgICAgdmFyIHBvcHVwXzVlNmE3MGNiNTg0YzRjODVhOTE0NmQ2ZGY5MTMwMWNlID0gTC5wb3B1cCh7bWF4V2lkdGg6ICczMDAnfSk7CgogICAgICAgICAgICAKICAgICAgICAgICAgICAgIHZhciBodG1sXzBlMDZmNjgwYTI3OTRhODI5Mjg3MmRmOGE4ZDRlYWJjID0gJCgnPGRpdiBpZD0iaHRtbF8wZTA2ZjY4MGEyNzk0YTgyOTI4NzJkZjhhOGQ0ZWFiYyIgc3R5bGU9IndpZHRoOiAxMDAuMCU7IGhlaWdodDogMTAwLjAlOyI+RG93bnRvd25Ub3JvbnRvPC9kaXY+JylbMF07CiAgICAgICAgICAgICAgICBwb3B1cF81ZTZhNzBjYjU4NGM0Yzg1YTkxNDZkNmRmOTEzMDFjZS5zZXRDb250ZW50KGh0bWxfMGUwNmY2ODBhMjc5NGE4MjkyODcyZGY4YThkNGVhYmMpOwogICAgICAgICAgICAKCiAgICAgICAgICAgIG1hcmtlcl83OWRkY2Y5ODAxYTQ0NWJmYTIwODVkYWUyNThhOWQzMC5iaW5kUG9wdXAocG9wdXBfNWU2YTcwY2I1ODRjNGM4NWE5MTQ2ZDZkZjkxMzAxY2UpOwoKICAgICAgICAgICAgCiAgICAgICAgCiAgICAKCiAgICAgICAgICAgIHZhciBtYXJrZXJfZjI5NTU5MzdkNjJlNGM1YWFiNWQ3NTZhNDQ3NzAxY2QgPSBMLm1hcmtlcigKICAgICAgICAgICAgICAgIFs0My42NDg0MjkyLC03OS4zODIyODAyXSwKICAgICAgICAgICAgICAgIHsKICAgICAgICAgICAgICAgICAgICBpY29uOiBuZXcgTC5JY29uLkRlZmF1bHQoKQogICAgICAgICAgICAgICAgICAgIH0KICAgICAgICAgICAgICAgICkKICAgICAgICAgICAgICAgIC5hZGRUbyhtYXBfNTRkY2JiM2RmMGY0NGEzZDk0MTY5MjUwNzMwYmEwN2UpOwogICAgICAgICAgICAKICAgIAogICAgICAgICAgICB2YXIgcG9wdXBfYjcyOTM2NzVmY2NiNDFlZjkyODRkYjg5MGU3YjU3MGYgPSBMLnBvcHVwKHttYXhXaWR0aDogJzMwMCd9KTsKCiAgICAgICAgICAgIAogICAgICAgICAgICAgICAgdmFyIGh0bWxfMjk3MjEyZDMzZGM3NDUxNmIzYjVlZDA1ZDM4ZjUzYWQgPSAkKCc8ZGl2IGlkPSJodG1sXzI5NzIxMmQzM2RjNzQ1MTZiM2I1ZWQwNWQzOGY1M2FkIiBzdHlsZT0id2lkdGg6IDEwMC4wJTsgaGVpZ2h0OiAxMDAuMCU7Ij5Eb3dudG93blRvcm9udG88L2Rpdj4nKVswXTsKICAgICAgICAgICAgICAgIHBvcHVwX2I3MjkzNjc1ZmNjYjQxZWY5Mjg0ZGI4OTBlN2I1NzBmLnNldENvbnRlbnQoaHRtbF8yOTcyMTJkMzNkYzc0NTE2YjNiNWVkMDVkMzhmNTNhZCk7CiAgICAgICAgICAgIAoKICAgICAgICAgICAgbWFya2VyX2YyOTU1OTM3ZDYyZTRjNWFhYjVkNzU2YTQ0NzcwMWNkLmJpbmRQb3B1cChwb3B1cF9iNzI5MzY3NWZjY2I0MWVmOTI4NGRiODkwZTdiNTcwZik7CgogICAgICAgICAgICAKICAgICAgICAKICAgIAoKICAgICAgICAgICAgdmFyIG1hcmtlcl9hNWRhZmJjNjQ2Mjg0YTkyYTliOWIxNzUyZGM3YTRkOCA9IEwubWFya2VyKAogICAgICAgICAgICAgICAgWzQzLjY4ODkwNTQsLTc5LjU1NDcyNDQwMDAwMDAxXSwKICAgICAgICAgICAgICAgIHsKICAgICAgICAgICAgICAgICAgICBpY29uOiBuZXcgTC5JY29uLkRlZmF1bHQoKQogICAgICAgICAgICAgICAgICAgIH0KICAgICAgICAgICAgICAgICkKICAgICAgICAgICAgICAgIC5hZGRUbyhtYXBfNTRkY2JiM2RmMGY0NGEzZDk0MTY5MjUwNzMwYmEwN2UpOwogICAgICAgICAgICAKICAgIAogICAgICAgICAgICB2YXIgcG9wdXBfNmFiN2E5YmZmN2ZjNDE1MjhkYmEwOTZjMjU4NTEzNjkgPSBMLnBvcHVwKHttYXhXaWR0aDogJzMwMCd9KTsKCiAgICAgICAgICAgIAogICAgICAgICAgICAgICAgdmFyIGh0bWxfZWY4ODMxZjRjY2ZlNDQ2NmIxZjAxNjY3NDYyMmRhOTQgPSAkKCc8ZGl2IGlkPSJodG1sX2VmODgzMWY0Y2NmZTQ0NjZiMWYwMTY2NzQ2MjJkYTk0IiBzdHlsZT0id2lkdGg6IDEwMC4wJTsgaGVpZ2h0OiAxMDAuMCU7Ij5FdG9iaWNva2U8L2Rpdj4nKVswXTsKICAgICAgICAgICAgICAgIHBvcHVwXzZhYjdhOWJmZjdmYzQxNTI4ZGJhMDk2YzI1ODUxMzY5LnNldENvbnRlbnQoaHRtbF9lZjg4MzFmNGNjZmU0NDY2YjFmMDE2Njc0NjIyZGE5NCk7CiAgICAgICAgICAgIAoKICAgICAgICAgICAgbWFya2VyX2E1ZGFmYmM2NDYyODRhOTJhOWI5YjE3NTJkYzdhNGQ4LmJpbmRQb3B1cChwb3B1cF82YWI3YTliZmY3ZmM0MTUyOGRiYTA5NmMyNTg1MTM2OSk7CgogICAgICAgICAgICAKICAgICAgICAKICAgIAoKICAgICAgICAgICAgdmFyIG1hcmtlcl9lZmZjYzIyZjJhODI0NDExYmU4YmZkOTNlZTYzMTM0ZiA9IEwubWFya2VyKAogICAgICAgICAgICAgICAgWzQzLjcwNjM5NzIsLTc5LjMwOTkzN10sCiAgICAgICAgICAgICAgICB7CiAgICAgICAgICAgICAgICAgICAgaWNvbjogbmV3IEwuSWNvbi5EZWZhdWx0KCkKICAgICAgICAgICAgICAgICAgICB9CiAgICAgICAgICAgICAgICApCiAgICAgICAgICAgICAgICAuYWRkVG8obWFwXzU0ZGNiYjNkZjBmNDRhM2Q5NDE2OTI1MDczMGJhMDdlKTsKICAgICAgICAgICAgCiAgICAKICAgICAgICAgICAgdmFyIHBvcHVwX2Q0MWEwZGM2ODY1MTRmY2E4ZDcwNWRlMTVmYjQzY2JhID0gTC5wb3B1cCh7bWF4V2lkdGg6ICczMDAnfSk7CgogICAgICAgICAgICAKICAgICAgICAgICAgICAgIHZhciBodG1sXzMwYmM4NTcwYWUwOTRiMjNhYWE0ZGM3NjkyN2MyNWUwID0gJCgnPGRpdiBpZD0iaHRtbF8zMGJjODU3MGFlMDk0YjIzYWFhNGRjNzY5MjdjMjVlMCIgc3R5bGU9IndpZHRoOiAxMDAuMCU7IGhlaWdodDogMTAwLjAlOyI+RWFzdFlvcms8L2Rpdj4nKVswXTsKICAgICAgICAgICAgICAgIHBvcHVwX2Q0MWEwZGM2ODY1MTRmY2E4ZDcwNWRlMTVmYjQzY2JhLnNldENvbnRlbnQoaHRtbF8zMGJjODU3MGFlMDk0YjIzYWFhNGRjNzY5MjdjMjVlMCk7CiAgICAgICAgICAgIAoKICAgICAgICAgICAgbWFya2VyX2VmZmNjMjJmMmE4MjQ0MTFiZThiZmQ5M2VlNjMxMzRmLmJpbmRQb3B1cChwb3B1cF9kNDFhMGRjNjg2NTE0ZmNhOGQ3MDVkZTE1ZmI0M2NiYSk7CgogICAgICAgICAgICAKICAgICAgICAKICAgIAoKICAgICAgICAgICAgdmFyIG1hcmtlcl9iNjVjMTIxZWZiODU0OWZiODk4ZTczMWY5NDA0MGE2OCA9IEwubWFya2VyKAogICAgICAgICAgICAgICAgWzQzLjY3OTU1NzEsLTc5LjM1MjE4OF0sCiAgICAgICAgICAgICAgICB7CiAgICAgICAgICAgICAgICAgICAgaWNvbjogbmV3IEwuSWNvbi5EZWZhdWx0KCkKICAgICAgICAgICAgICAgICAgICB9CiAgICAgICAgICAgICAgICApCiAgICAgICAgICAgICAgICAuYWRkVG8obWFwXzU0ZGNiYjNkZjBmNDRhM2Q5NDE2OTI1MDczMGJhMDdlKTsKICAgICAgICAgICAgCiAgICAKICAgICAgICAgICAgdmFyIHBvcHVwX2ZmYjZhM2FlZjIwNTRhNzU5NTdhNTFmYjExMjY0MmI5ID0gTC5wb3B1cCh7bWF4V2lkdGg6ICczMDAnfSk7CgogICAgICAgICAgICAKICAgICAgICAgICAgICAgIHZhciBodG1sXzQ2YzI3YmZhOTNiNzQ0NmU4ZmZhZTEyZjY5ODMzMjU3ID0gJCgnPGRpdiBpZD0iaHRtbF80NmMyN2JmYTkzYjc0NDZlOGZmYWUxMmY2OTgzMzI1NyIgc3R5bGU9IndpZHRoOiAxMDAuMCU7IGhlaWdodDogMTAwLjAlOyI+RWFzdFRvcm9udG88L2Rpdj4nKVswXTsKICAgICAgICAgICAgICAgIHBvcHVwX2ZmYjZhM2FlZjIwNTRhNzU5NTdhNTFmYjExMjY0MmI5LnNldENvbnRlbnQoaHRtbF80NmMyN2JmYTkzYjc0NDZlOGZmYWUxMmY2OTgzMzI1Nyk7CiAgICAgICAgICAgIAoKICAgICAgICAgICAgbWFya2VyX2I2NWMxMjFlZmI4NTQ5ZmI4OThlNzMxZjk0MDQwYTY4LmJpbmRQb3B1cChwb3B1cF9mZmI2YTNhZWYyMDU0YTc1OTU3YTUxZmIxMTI2NDJiOSk7CgogICAgICAgICAgICAKICAgICAgICAKICAgIAoKICAgICAgICAgICAgdmFyIG1hcmtlcl9iMDRiMGVhNWE3ODM0ZGQ2OGFlZWIyMDc1Y2RlMzIyMCA9IEwubWFya2VyKAogICAgICAgICAgICAgICAgWzQzLjcxMTY5NDgsLTc5LjQxNjkzNTU5OTk5OTk5XSwKICAgICAgICAgICAgICAgIHsKICAgICAgICAgICAgICAgICAgICBpY29uOiBuZXcgTC5JY29uLkRlZmF1bHQoKQogICAgICAgICAgICAgICAgICAgIH0KICAgICAgICAgICAgICAgICkKICAgICAgICAgICAgICAgIC5hZGRUbyhtYXBfNTRkY2JiM2RmMGY0NGEzZDk0MTY5MjUwNzMwYmEwN2UpOwogICAgICAgICAgICAKICAgIAogICAgICAgICAgICB2YXIgcG9wdXBfNjI2NjFjN2NlM2JiNDQ4NjhjOTdmNTcyNTJlZjMyNWIgPSBMLnBvcHVwKHttYXhXaWR0aDogJzMwMCd9KTsKCiAgICAgICAgICAgIAogICAgICAgICAgICAgICAgdmFyIGh0bWxfMGYwNzlhYTI4NjgwNDk5NjgwZDBkYjY2MDhkNDNkYzkgPSAkKCc8ZGl2IGlkPSJodG1sXzBmMDc5YWEyODY4MDQ5OTY4MGQwZGI2NjA4ZDQzZGM5IiBzdHlsZT0id2lkdGg6IDEwMC4wJTsgaGVpZ2h0OiAxMDAuMCU7Ij5DZW50cmFsVG9yb250bzwvZGl2PicpWzBdOwogICAgICAgICAgICAgICAgcG9wdXBfNjI2NjFjN2NlM2JiNDQ4NjhjOTdmNTcyNTJlZjMyNWIuc2V0Q29udGVudChodG1sXzBmMDc5YWEyODY4MDQ5OTY4MGQwZGI2NjA4ZDQzZGM5KTsKICAgICAgICAgICAgCgogICAgICAgICAgICBtYXJrZXJfYjA0YjBlYTVhNzgzNGRkNjhhZWViMjA3NWNkZTMyMjAuYmluZFBvcHVwKHBvcHVwXzYyNjYxYzdjZTNiYjQ0ODY4Yzk3ZjU3MjUyZWYzMjViKTsKCiAgICAgICAgICAgIAogICAgICAgIAogICAgCgogICAgICAgICAgICB2YXIgbWFya2VyX2EwYTZlZDBjNDVkYjRlMDJhMjdlYzYzYWQzYzQzMWE4ID0gTC5tYXJrZXIoCiAgICAgICAgICAgICAgICBbNDMuNzA2ODc2LC03OS41MTgxODg0MDAwMDAwMV0sCiAgICAgICAgICAgICAgICB7CiAgICAgICAgICAgICAgICAgICAgaWNvbjogbmV3IEwuSWNvbi5EZWZhdWx0KCkKICAgICAgICAgICAgICAgICAgICB9CiAgICAgICAgICAgICAgICApCiAgICAgICAgICAgICAgICAuYWRkVG8obWFwXzU0ZGNiYjNkZjBmNDRhM2Q5NDE2OTI1MDczMGJhMDdlKTsKICAgICAgICAgICAgCiAgICAKICAgICAgICAgICAgdmFyIHBvcHVwXzBhNzNlZGE4MTZjMjQzZjM5MWJiN2NjZGRkNGFmMTUwID0gTC5wb3B1cCh7bWF4V2lkdGg6ICczMDAnfSk7CgogICAgICAgICAgICAKICAgICAgICAgICAgICAgIHZhciBodG1sXzM2M2ZjYmYyY2Q1MTRiZmZiMWI3YmViMWMzMGRkYmFlID0gJCgnPGRpdiBpZD0iaHRtbF8zNjNmY2JmMmNkNTE0YmZmYjFiN2JlYjFjMzBkZGJhZSIgc3R5bGU9IndpZHRoOiAxMDAuMCU7IGhlaWdodDogMTAwLjAlOyI+WW9yazwvZGl2PicpWzBdOwogICAgICAgICAgICAgICAgcG9wdXBfMGE3M2VkYTgxNmMyNDNmMzkxYmI3Y2NkZGQ0YWYxNTAuc2V0Q29udGVudChodG1sXzM2M2ZjYmYyY2Q1MTRiZmZiMWI3YmViMWMzMGRkYmFlKTsKICAgICAgICAgICAgCgogICAgICAgICAgICBtYXJrZXJfYTBhNmVkMGM0NWRiNGUwMmEyN2VjNjNhZDNjNDMxYTguYmluZFBvcHVwKHBvcHVwXzBhNzNlZGE4MTZjMjQzZjM5MWJiN2NjZGRkNGFmMTUwKTsKCiAgICAgICAgICAgIAogICAgICAgIAogICAgCgogICAgICAgICAgICB2YXIgbWFya2VyXzU3NDYxNGI4YjlhYzRkNGJhYzc0M2Q5OGU3MDQxOGY1ID0gTC5tYXJrZXIoCiAgICAgICAgICAgICAgICBbNDMuNzc4NTE3NSwtNzkuMzQ2NTU1N10sCiAgICAgICAgICAgICAgICB7CiAgICAgICAgICAgICAgICAgICAgaWNvbjogbmV3IEwuSWNvbi5EZWZhdWx0KCkKICAgICAgICAgICAgICAgICAgICB9CiAgICAgICAgICAgICAgICApCiAgICAgICAgICAgICAgICAuYWRkVG8obWFwXzU0ZGNiYjNkZjBmNDRhM2Q5NDE2OTI1MDczMGJhMDdlKTsKICAgICAgICAgICAgCiAgICAKICAgICAgICAgICAgdmFyIHBvcHVwXzU2ZmQ3ZDVjNTU5ZTRjMGY4OWM5ZmJhM2MwZTBkYWQzID0gTC5wb3B1cCh7bWF4V2lkdGg6ICczMDAnfSk7CgogICAgICAgICAgICAKICAgICAgICAgICAgICAgIHZhciBodG1sX2M4MTk3YmUwYTgyMTRmYTc5ZDgwNGNkMzhmMzU0MmUzID0gJCgnPGRpdiBpZD0iaHRtbF9jODE5N2JlMGE4MjE0ZmE3OWQ4MDRjZDM4ZjM1NDJlMyIgc3R5bGU9IndpZHRoOiAxMDAuMCU7IGhlaWdodDogMTAwLjAlOyI+Tm9ydGhZb3JrPC9kaXY+JylbMF07CiAgICAgICAgICAgICAgICBwb3B1cF81NmZkN2Q1YzU1OWU0YzBmODljOWZiYTNjMGUwZGFkMy5zZXRDb250ZW50KGh0bWxfYzgxOTdiZTBhODIxNGZhNzlkODA0Y2QzOGYzNTQyZTMpOwogICAgICAgICAgICAKCiAgICAgICAgICAgIG1hcmtlcl81NzQ2MTRiOGI5YWM0ZDRiYWM3NDNkOThlNzA0MThmNS5iaW5kUG9wdXAocG9wdXBfNTZmZDdkNWM1NTllNGMwZjg5YzlmYmEzYzBlMGRhZDMpOwoKICAgICAgICAgICAgCiAgICAgICAgCiAgICAKCiAgICAgICAgICAgIHZhciBtYXJrZXJfMTEyYmQ1OThiOWNiNDYwNjk2MTQyMzg1ZDBjYWM2NGQgPSBMLm1hcmtlcigKICAgICAgICAgICAgICAgIFs0My43MjgwMjA1LC03OS4zODg3OTAxXSwKICAgICAgICAgICAgICAgIHsKICAgICAgICAgICAgICAgICAgICBpY29uOiBuZXcgTC5JY29uLkRlZmF1bHQoKQogICAgICAgICAgICAgICAgICAgIH0KICAgICAgICAgICAgICAgICkKICAgICAgICAgICAgICAgIC5hZGRUbyhtYXBfNTRkY2JiM2RmMGY0NGEzZDk0MTY5MjUwNzMwYmEwN2UpOwogICAgICAgICAgICAKICAgIAogICAgICAgICAgICB2YXIgcG9wdXBfZTNkNTgxZjI0MjY1NGMzNmIyYjc1NDQwNGEwOWNiYTIgPSBMLnBvcHVwKHttYXhXaWR0aDogJzMwMCd9KTsKCiAgICAgICAgICAgIAogICAgICAgICAgICAgICAgdmFyIGh0bWxfNzYzNTYzNGU1OTAwNDZiY2E5N2UxZTAwMWE1ZDkxM2IgPSAkKCc8ZGl2IGlkPSJodG1sXzc2MzU2MzRlNTkwMDQ2YmNhOTdlMWUwMDFhNWQ5MTNiIiBzdHlsZT0id2lkdGg6IDEwMC4wJTsgaGVpZ2h0OiAxMDAuMCU7Ij5DZW50cmFsVG9yb250bzwvZGl2PicpWzBdOwogICAgICAgICAgICAgICAgcG9wdXBfZTNkNTgxZjI0MjY1NGMzNmIyYjc1NDQwNGEwOWNiYTIuc2V0Q29udGVudChodG1sXzc2MzU2MzRlNTkwMDQ2YmNhOTdlMWUwMDFhNWQ5MTNiKTsKICAgICAgICAgICAgCgogICAgICAgICAgICBtYXJrZXJfMTEyYmQ1OThiOWNiNDYwNjk2MTQyMzg1ZDBjYWM2NGQuYmluZFBvcHVwKHBvcHVwX2UzZDU4MWYyNDI2NTRjMzZiMmI3NTQ0MDRhMDljYmEyKTsKCiAgICAgICAgICAgIAogICAgICAgIAo8L3NjcmlwdD4=\" style=\"position:absolute;width:100%;height:100%;left:0;top:0;border:none !important;\" allowfullscreen webkitallowfullscreen mozallowfullscreen></iframe></div></div>"
      ],
      "text/plain": [
       "<folium.folium.Map at 0x7ff00b8bc6a0>"
      ]
     },
     "execution_count": 132,
     "metadata": {},
     "output_type": "execute_result"
    }
   ],
   "source": [
    "import pandas as pd\n",
    "import folium\n",
    "\n",
    "#grab a random sample from df\n",
    "subset_of_df = sorted_dataframe.sample(n=50)\n",
    "map_test = folium.Map(location=[subset_of_df['Latitude'].mean(), \n",
    "                                subset_of_df['Longitude'].mean()], \n",
    "                      zoom_start=10)\n",
    "#creating a Marker for each point in df_sample. Each point will get a popup with their zip\n",
    "for row in subset_of_df.itertuples():\n",
    "    map_test.add_child(folium.Marker(location=[row.Latitude ,row.Longitude],\n",
    "           popup=row.Borough))\n",
    "\n",
    "    \n",
    "map_test"
   ]
  },
  {
   "cell_type": "code",
   "execution_count": 133,
   "metadata": {},
   "outputs": [
    {
     "data": {
      "text/html": [
       "<div style=\"width:100%;\"><div style=\"position:relative;width:100%;height:0;padding-bottom:60%;\"><iframe src=\"data:text/html;charset=utf-8;base64,PCFET0NUWVBFIGh0bWw+CjxoZWFkPiAgICAKICAgIDxtZXRhIGh0dHAtZXF1aXY9ImNvbnRlbnQtdHlwZSIgY29udGVudD0idGV4dC9odG1sOyBjaGFyc2V0PVVURi04IiAvPgogICAgPHNjcmlwdD5MX1BSRUZFUl9DQU5WQVMgPSBmYWxzZTsgTF9OT19UT1VDSCA9IGZhbHNlOyBMX0RJU0FCTEVfM0QgPSBmYWxzZTs8L3NjcmlwdD4KICAgIDxzY3JpcHQgc3JjPSJodHRwczovL2Nkbi5qc2RlbGl2ci5uZXQvbnBtL2xlYWZsZXRAMS4yLjAvZGlzdC9sZWFmbGV0LmpzIj48L3NjcmlwdD4KICAgIDxzY3JpcHQgc3JjPSJodHRwczovL2FqYXguZ29vZ2xlYXBpcy5jb20vYWpheC9saWJzL2pxdWVyeS8xLjExLjEvanF1ZXJ5Lm1pbi5qcyI+PC9zY3JpcHQ+CiAgICA8c2NyaXB0IHNyYz0iaHR0cHM6Ly9tYXhjZG4uYm9vdHN0cmFwY2RuLmNvbS9ib290c3RyYXAvMy4yLjAvanMvYm9vdHN0cmFwLm1pbi5qcyI+PC9zY3JpcHQ+CiAgICA8c2NyaXB0IHNyYz0iaHR0cHM6Ly9jZG5qcy5jbG91ZGZsYXJlLmNvbS9hamF4L2xpYnMvTGVhZmxldC5hd2Vzb21lLW1hcmtlcnMvMi4wLjIvbGVhZmxldC5hd2Vzb21lLW1hcmtlcnMuanMiPjwvc2NyaXB0PgogICAgPGxpbmsgcmVsPSJzdHlsZXNoZWV0IiBocmVmPSJodHRwczovL2Nkbi5qc2RlbGl2ci5uZXQvbnBtL2xlYWZsZXRAMS4yLjAvZGlzdC9sZWFmbGV0LmNzcyIvPgogICAgPGxpbmsgcmVsPSJzdHlsZXNoZWV0IiBocmVmPSJodHRwczovL21heGNkbi5ib290c3RyYXBjZG4uY29tL2Jvb3RzdHJhcC8zLjIuMC9jc3MvYm9vdHN0cmFwLm1pbi5jc3MiLz4KICAgIDxsaW5rIHJlbD0ic3R5bGVzaGVldCIgaHJlZj0iaHR0cHM6Ly9tYXhjZG4uYm9vdHN0cmFwY2RuLmNvbS9ib290c3RyYXAvMy4yLjAvY3NzL2Jvb3RzdHJhcC10aGVtZS5taW4uY3NzIi8+CiAgICA8bGluayByZWw9InN0eWxlc2hlZXQiIGhyZWY9Imh0dHBzOi8vbWF4Y2RuLmJvb3RzdHJhcGNkbi5jb20vZm9udC1hd2Vzb21lLzQuNi4zL2Nzcy9mb250LWF3ZXNvbWUubWluLmNzcyIvPgogICAgPGxpbmsgcmVsPSJzdHlsZXNoZWV0IiBocmVmPSJodHRwczovL2NkbmpzLmNsb3VkZmxhcmUuY29tL2FqYXgvbGlicy9MZWFmbGV0LmF3ZXNvbWUtbWFya2Vycy8yLjAuMi9sZWFmbGV0LmF3ZXNvbWUtbWFya2Vycy5jc3MiLz4KICAgIDxsaW5rIHJlbD0ic3R5bGVzaGVldCIgaHJlZj0iaHR0cHM6Ly9yYXdnaXQuY29tL3B5dGhvbi12aXN1YWxpemF0aW9uL2ZvbGl1bS9tYXN0ZXIvZm9saXVtL3RlbXBsYXRlcy9sZWFmbGV0LmF3ZXNvbWUucm90YXRlLmNzcyIvPgogICAgPHN0eWxlPmh0bWwsIGJvZHkge3dpZHRoOiAxMDAlO2hlaWdodDogMTAwJTttYXJnaW46IDA7cGFkZGluZzogMDt9PC9zdHlsZT4KICAgIDxzdHlsZT4jbWFwIHtwb3NpdGlvbjphYnNvbHV0ZTt0b3A6MDtib3R0b206MDtyaWdodDowO2xlZnQ6MDt9PC9zdHlsZT4KICAgIAogICAgICAgICAgICA8c3R5bGU+ICNtYXBfYTE3M2NiYzg1YWJjNDhiMjg0NGQwZDk3OWMyZWJkMTkgewogICAgICAgICAgICAgICAgcG9zaXRpb24gOiByZWxhdGl2ZTsKICAgICAgICAgICAgICAgIHdpZHRoIDogMTAwLjAlOwogICAgICAgICAgICAgICAgaGVpZ2h0OiAxMDAuMCU7CiAgICAgICAgICAgICAgICBsZWZ0OiAwLjAlOwogICAgICAgICAgICAgICAgdG9wOiAwLjAlOwogICAgICAgICAgICAgICAgfQogICAgICAgICAgICA8L3N0eWxlPgogICAgICAgIAogICAgPHNjcmlwdCBzcmM9Imh0dHBzOi8vY2RuanMuY2xvdWRmbGFyZS5jb20vYWpheC9saWJzL2xlYWZsZXQubWFya2VyY2x1c3Rlci8xLjEuMC9sZWFmbGV0Lm1hcmtlcmNsdXN0ZXIuanMiPjwvc2NyaXB0PgogICAgPGxpbmsgcmVsPSJzdHlsZXNoZWV0IiBocmVmPSJodHRwczovL2NkbmpzLmNsb3VkZmxhcmUuY29tL2FqYXgvbGlicy9sZWFmbGV0Lm1hcmtlcmNsdXN0ZXIvMS4xLjAvTWFya2VyQ2x1c3Rlci5jc3MiLz4KICAgIDxsaW5rIHJlbD0ic3R5bGVzaGVldCIgaHJlZj0iaHR0cHM6Ly9jZG5qcy5jbG91ZGZsYXJlLmNvbS9hamF4L2xpYnMvbGVhZmxldC5tYXJrZXJjbHVzdGVyLzEuMS4wL01hcmtlckNsdXN0ZXIuRGVmYXVsdC5jc3MiLz4KPC9oZWFkPgo8Ym9keT4gICAgCiAgICAKICAgICAgICAgICAgPGRpdiBjbGFzcz0iZm9saXVtLW1hcCIgaWQ9Im1hcF9hMTczY2JjODVhYmM0OGIyODQ0ZDBkOTc5YzJlYmQxOSIgPjwvZGl2PgogICAgICAgIAo8L2JvZHk+CjxzY3JpcHQ+ICAgIAogICAgCgogICAgICAgICAgICAKICAgICAgICAgICAgICAgIHZhciBib3VuZHMgPSBudWxsOwogICAgICAgICAgICAKCiAgICAgICAgICAgIHZhciBtYXBfYTE3M2NiYzg1YWJjNDhiMjg0NGQwZDk3OWMyZWJkMTkgPSBMLm1hcCgKICAgICAgICAgICAgICAgICAgICAgICAgICAgICAgICAgICdtYXBfYTE3M2NiYzg1YWJjNDhiMjg0NGQwZDk3OWMyZWJkMTknLAogICAgICAgICAgICAgICAgICAgICAgICAgICAgICAgICAge2NlbnRlcjogWzQzLjcwNTQ2MjUxNiwtNzkuNDAwMjgzMzI4XSwKICAgICAgICAgICAgICAgICAgICAgICAgICAgICAgICAgIHpvb206IDEwLAogICAgICAgICAgICAgICAgICAgICAgICAgICAgICAgICAgbWF4Qm91bmRzOiBib3VuZHMsCiAgICAgICAgICAgICAgICAgICAgICAgICAgICAgICAgICBsYXllcnM6IFtdLAogICAgICAgICAgICAgICAgICAgICAgICAgICAgICAgICAgd29ybGRDb3B5SnVtcDogZmFsc2UsCiAgICAgICAgICAgICAgICAgICAgICAgICAgICAgICAgICBjcnM6IEwuQ1JTLkVQU0czODU3CiAgICAgICAgICAgICAgICAgICAgICAgICAgICAgICAgIH0pOwogICAgICAgICAgICAKICAgICAgICAKICAgIAogICAgICAgICAgICB2YXIgdGlsZV9sYXllcl9lNGY1OTY1M2E4NzQ0OTFkYjVhZjAwODBkZmFiNGEzOSA9IEwudGlsZUxheWVyKAogICAgICAgICAgICAgICAgJ2h0dHBzOi8ve3N9LnRpbGUub3BlbnN0cmVldG1hcC5vcmcve3p9L3t4fS97eX0ucG5nJywKICAgICAgICAgICAgICAgIHsKICAiYXR0cmlidXRpb24iOiBudWxsLAogICJkZXRlY3RSZXRpbmEiOiBmYWxzZSwKICAibWF4Wm9vbSI6IDE4LAogICJtaW5ab29tIjogMSwKICAibm9XcmFwIjogZmFsc2UsCiAgInN1YmRvbWFpbnMiOiAiYWJjIgp9CiAgICAgICAgICAgICAgICApLmFkZFRvKG1hcF9hMTczY2JjODVhYmM0OGIyODQ0ZDBkOTc5YzJlYmQxOSk7CiAgICAgICAgCiAgICAKICAgICAgICAgICAgdmFyIG1hcmtlcl9jbHVzdGVyXzQ4ZTNmNmE3YTAwNDQ1ZmY5ZjliZjA1MDIwNjI4NjYyID0gTC5tYXJrZXJDbHVzdGVyR3JvdXAoewogICAgICAgICAgICAgICAgCiAgICAgICAgICAgIH0pOwogICAgICAgICAgICBtYXBfYTE3M2NiYzg1YWJjNDhiMjg0NGQwZDk3OWMyZWJkMTkuYWRkTGF5ZXIobWFya2VyX2NsdXN0ZXJfNDhlM2Y2YTdhMDA0NDVmZjlmOWJmMDUwMjA2Mjg2NjIpOwogICAgICAgICAgICAKICAgIAoKICAgICAgICAgICAgdmFyIG1hcmtlcl81ZGQxYzZlZTliOWU0MGE3YTA4NTY0MzUwYWQ2MmZhZSA9IEwubWFya2VyKAogICAgICAgICAgICAgICAgWzQzLjY5Njk0NzYsLTc5LjQxMTMwNzIwMDAwMDAxXSwKICAgICAgICAgICAgICAgIHsKICAgICAgICAgICAgICAgICAgICBpY29uOiBuZXcgTC5JY29uLkRlZmF1bHQoKQogICAgICAgICAgICAgICAgICAgIH0KICAgICAgICAgICAgICAgICkKICAgICAgICAgICAgICAgIC5hZGRUbyhtYXJrZXJfY2x1c3Rlcl80OGUzZjZhN2EwMDQ0NWZmOWY5YmYwNTAyMDYyODY2Mik7CiAgICAgICAgICAgIAogICAgCiAgICAgICAgICAgIHZhciBwb3B1cF9mYjg1OWZhNWUxMGI0OTFmOWQwMmQyZjQ4ZDEwNTdiYSA9IEwucG9wdXAoe21heFdpZHRoOiAnMzAwJ30pOwoKICAgICAgICAgICAgCiAgICAgICAgICAgICAgICB2YXIgaHRtbF9iMmRjMmE0ZDg5NzQ0MDJmYTlkMTNkZGE5Y2QzNWZlMSA9ICQoJzxkaXYgaWQ9Imh0bWxfYjJkYzJhNGQ4OTc0NDAyZmE5ZDEzZGRhOWNkMzVmZTEiIHN0eWxlPSJ3aWR0aDogMTAwLjAlOyBoZWlnaHQ6IDEwMC4wJTsiPkNlbnRyYWxUb3JvbnRvPC9kaXY+JylbMF07CiAgICAgICAgICAgICAgICBwb3B1cF9mYjg1OWZhNWUxMGI0OTFmOWQwMmQyZjQ4ZDEwNTdiYS5zZXRDb250ZW50KGh0bWxfYjJkYzJhNGQ4OTc0NDAyZmE5ZDEzZGRhOWNkMzVmZTEpOwogICAgICAgICAgICAKCiAgICAgICAgICAgIG1hcmtlcl81ZGQxYzZlZTliOWU0MGE3YTA4NTY0MzUwYWQ2MmZhZS5iaW5kUG9wdXAocG9wdXBfZmI4NTlmYTVlMTBiNDkxZjlkMDJkMmY0OGQxMDU3YmEpOwoKICAgICAgICAgICAgCiAgICAgICAgCiAgICAKCiAgICAgICAgICAgIHZhciBtYXJrZXJfN2MzMTZjNzAzM2RkNDA3ZmFmZjU1OTk0YmIyZGI1ZDAgPSBMLm1hcmtlcigKICAgICAgICAgICAgICAgIFs0My42ODUzNDcsLTc5LjMzODEwNjVdLAogICAgICAgICAgICAgICAgewogICAgICAgICAgICAgICAgICAgIGljb246IG5ldyBMLkljb24uRGVmYXVsdCgpCiAgICAgICAgICAgICAgICAgICAgfQogICAgICAgICAgICAgICAgKQogICAgICAgICAgICAgICAgLmFkZFRvKG1hcmtlcl9jbHVzdGVyXzQ4ZTNmNmE3YTAwNDQ1ZmY5ZjliZjA1MDIwNjI4NjYyKTsKICAgICAgICAgICAgCiAgICAKICAgICAgICAgICAgdmFyIHBvcHVwXzNhNGJhNGM4ZjcyZjQ4MjVhMDhlM2MxMjlkNDA3YWE5ID0gTC5wb3B1cCh7bWF4V2lkdGg6ICczMDAnfSk7CgogICAgICAgICAgICAKICAgICAgICAgICAgICAgIHZhciBodG1sX2I1MTE3ZjhkMDQ0MzQxMDI5MWM1NzJkNTFmYThhMmY4ID0gJCgnPGRpdiBpZD0iaHRtbF9iNTExN2Y4ZDA0NDM0MTAyOTFjNTcyZDUxZmE4YTJmOCIgc3R5bGU9IndpZHRoOiAxMDAuMCU7IGhlaWdodDogMTAwLjAlOyI+RWFzdFlvcms8L2Rpdj4nKVswXTsKICAgICAgICAgICAgICAgIHBvcHVwXzNhNGJhNGM4ZjcyZjQ4MjVhMDhlM2MxMjlkNDA3YWE5LnNldENvbnRlbnQoaHRtbF9iNTExN2Y4ZDA0NDM0MTAyOTFjNTcyZDUxZmE4YTJmOCk7CiAgICAgICAgICAgIAoKICAgICAgICAgICAgbWFya2VyXzdjMzE2YzcwMzNkZDQwN2ZhZmY1NTk5NGJiMmRiNWQwLmJpbmRQb3B1cChwb3B1cF8zYTRiYTRjOGY3MmY0ODI1YTA4ZTNjMTI5ZDQwN2FhOSk7CgogICAgICAgICAgICAKICAgICAgICAKICAgIAoKICAgICAgICAgICAgdmFyIG1hcmtlcl9hNjlhYTgxZTZkNDM0OTgwYmFmMGE1OWRjMTFjNTNmZCA9IEwubWFya2VyKAogICAgICAgICAgICAgICAgWzQzLjc2MzU3MjYsLTc5LjE4ODcxMTVdLAogICAgICAgICAgICAgICAgewogICAgICAgICAgICAgICAgICAgIGljb246IG5ldyBMLkljb24uRGVmYXVsdCgpCiAgICAgICAgICAgICAgICAgICAgfQogICAgICAgICAgICAgICAgKQogICAgICAgICAgICAgICAgLmFkZFRvKG1hcmtlcl9jbHVzdGVyXzQ4ZTNmNmE3YTAwNDQ1ZmY5ZjliZjA1MDIwNjI4NjYyKTsKICAgICAgICAgICAgCiAgICAKICAgICAgICAgICAgdmFyIHBvcHVwXzFiNjE3ODQwNjZiNDQzN2NiZTNiZTE2MjA3ZTgxZWM1ID0gTC5wb3B1cCh7bWF4V2lkdGg6ICczMDAnfSk7CgogICAgICAgICAgICAKICAgICAgICAgICAgICAgIHZhciBodG1sXzRjMjNjZTUzZmE0OTQ4ZTI4Yjk3ZWQ5OGE2ZTZjMmNjID0gJCgnPGRpdiBpZD0iaHRtbF80YzIzY2U1M2ZhNDk0OGUyOGI5N2VkOThhNmU2YzJjYyIgc3R5bGU9IndpZHRoOiAxMDAuMCU7IGhlaWdodDogMTAwLjAlOyI+U2NhcmJvcm91Z2g8L2Rpdj4nKVswXTsKICAgICAgICAgICAgICAgIHBvcHVwXzFiNjE3ODQwNjZiNDQzN2NiZTNiZTE2MjA3ZTgxZWM1LnNldENvbnRlbnQoaHRtbF80YzIzY2U1M2ZhNDk0OGUyOGI5N2VkOThhNmU2YzJjYyk7CiAgICAgICAgICAgIAoKICAgICAgICAgICAgbWFya2VyX2E2OWFhODFlNmQ0MzQ5ODBiYWYwYTU5ZGMxMWM1M2ZkLmJpbmRQb3B1cChwb3B1cF8xYjYxNzg0MDY2YjQ0MzdjYmUzYmUxNjIwN2U4MWVjNSk7CgogICAgICAgICAgICAKICAgICAgICAKICAgIAoKICAgICAgICAgICAgdmFyIG1hcmtlcl85YmEyZDlhZTgxNmU0MmU4YmYyZmZmNmM4NmE0Yzk0MyA9IEwubWFya2VyKAogICAgICAgICAgICAgICAgWzQzLjc1MDA3MTUwMDAwMDAwNCwtNzkuMjk1ODQ5MV0sCiAgICAgICAgICAgICAgICB7CiAgICAgICAgICAgICAgICAgICAgaWNvbjogbmV3IEwuSWNvbi5EZWZhdWx0KCkKICAgICAgICAgICAgICAgICAgICB9CiAgICAgICAgICAgICAgICApCiAgICAgICAgICAgICAgICAuYWRkVG8obWFya2VyX2NsdXN0ZXJfNDhlM2Y2YTdhMDA0NDVmZjlmOWJmMDUwMjA2Mjg2NjIpOwogICAgICAgICAgICAKICAgIAogICAgICAgICAgICB2YXIgcG9wdXBfNGFhMTZhNDA2MjIxNDAxNGI0ODQyYjY5NWYzMDY2NDggPSBMLnBvcHVwKHttYXhXaWR0aDogJzMwMCd9KTsKCiAgICAgICAgICAgIAogICAgICAgICAgICAgICAgdmFyIGh0bWxfYzBmMjcyZjgzNTRmNDA0MmJlZjFlYmViYTEwODgzNTIgPSAkKCc8ZGl2IGlkPSJodG1sX2MwZjI3MmY4MzU0ZjQwNDJiZWYxZWJlYmExMDg4MzUyIiBzdHlsZT0id2lkdGg6IDEwMC4wJTsgaGVpZ2h0OiAxMDAuMCU7Ij5TY2FyYm9yb3VnaDwvZGl2PicpWzBdOwogICAgICAgICAgICAgICAgcG9wdXBfNGFhMTZhNDA2MjIxNDAxNGI0ODQyYjY5NWYzMDY2NDguc2V0Q29udGVudChodG1sX2MwZjI3MmY4MzU0ZjQwNDJiZWYxZWJlYmExMDg4MzUyKTsKICAgICAgICAgICAgCgogICAgICAgICAgICBtYXJrZXJfOWJhMmQ5YWU4MTZlNDJlOGJmMmZmZjZjODZhNGM5NDMuYmluZFBvcHVwKHBvcHVwXzRhYTE2YTQwNjIyMTQwMTRiNDg0MmI2OTVmMzA2NjQ4KTsKCiAgICAgICAgICAgIAogICAgICAgIAogICAgCgogICAgICAgICAgICB2YXIgbWFya2VyXzQzODAxNDRjNjNiYTQxMTg5MzNkMTBhZDA1Yzk4YTJkID0gTC5tYXJrZXIoCiAgICAgICAgICAgICAgICBbNDMuNzI4NDk2NCwtNzkuNDk1Njk3NDAwMDAwMDFdLAogICAgICAgICAgICAgICAgewogICAgICAgICAgICAgICAgICAgIGljb246IG5ldyBMLkljb24uRGVmYXVsdCgpCiAgICAgICAgICAgICAgICAgICAgfQogICAgICAgICAgICAgICAgKQogICAgICAgICAgICAgICAgLmFkZFRvKG1hcmtlcl9jbHVzdGVyXzQ4ZTNmNmE3YTAwNDQ1ZmY5ZjliZjA1MDIwNjI4NjYyKTsKICAgICAgICAgICAgCiAgICAKICAgICAgICAgICAgdmFyIHBvcHVwXzQ0MGE0ZGIwMzFkYzQ0OTc4ZjdjNTdiYjkzMDU3MDg4ID0gTC5wb3B1cCh7bWF4V2lkdGg6ICczMDAnfSk7CgogICAgICAgICAgICAKICAgICAgICAgICAgICAgIHZhciBodG1sX2E5NzgzNTI1MmZmNzRhODM5YWYwMDQ5Yjk5MGQyYWRkID0gJCgnPGRpdiBpZD0iaHRtbF9hOTc4MzUyNTJmZjc0YTgzOWFmMDA0OWI5OTBkMmFkZCIgc3R5bGU9IndpZHRoOiAxMDAuMCU7IGhlaWdodDogMTAwLjAlOyI+Tm9ydGhZb3JrPC9kaXY+JylbMF07CiAgICAgICAgICAgICAgICBwb3B1cF80NDBhNGRiMDMxZGM0NDk3OGY3YzU3YmI5MzA1NzA4OC5zZXRDb250ZW50KGh0bWxfYTk3ODM1MjUyZmY3NGE4MzlhZjAwNDliOTkwZDJhZGQpOwogICAgICAgICAgICAKCiAgICAgICAgICAgIG1hcmtlcl80MzgwMTQ0YzYzYmE0MTE4OTMzZDEwYWQwNWM5OGEyZC5iaW5kUG9wdXAocG9wdXBfNDQwYTRkYjAzMWRjNDQ5NzhmN2M1N2JiOTMwNTcwODgpOwoKICAgICAgICAgICAgCiAgICAgICAgCiAgICAKCiAgICAgICAgICAgIHZhciBtYXJrZXJfZmEzZjRlNzk3YzRlNGI3ODk0YjIwOTIyNWIzYjUxODggPSBMLm1hcmtlcigKICAgICAgICAgICAgICAgIFs0My42MDU2NDY2LC03OS41MDEzMjA3MDAwMDAwMV0sCiAgICAgICAgICAgICAgICB7CiAgICAgICAgICAgICAgICAgICAgaWNvbjogbmV3IEwuSWNvbi5EZWZhdWx0KCkKICAgICAgICAgICAgICAgICAgICB9CiAgICAgICAgICAgICAgICApCiAgICAgICAgICAgICAgICAuYWRkVG8obWFya2VyX2NsdXN0ZXJfNDhlM2Y2YTdhMDA0NDVmZjlmOWJmMDUwMjA2Mjg2NjIpOwogICAgICAgICAgICAKICAgIAogICAgICAgICAgICB2YXIgcG9wdXBfYjgxNGVlZTRmZDhmNGIzZTg3MDQyNGM2ZmYyN2FjOTcgPSBMLnBvcHVwKHttYXhXaWR0aDogJzMwMCd9KTsKCiAgICAgICAgICAgIAogICAgICAgICAgICAgICAgdmFyIGh0bWxfZGNmNzIzZWQ0NGQyNDJhMGFkNDkwZjdkOGU2Zjc1ZjQgPSAkKCc8ZGl2IGlkPSJodG1sX2RjZjcyM2VkNDRkMjQyYTBhZDQ5MGY3ZDhlNmY3NWY0IiBzdHlsZT0id2lkdGg6IDEwMC4wJTsgaGVpZ2h0OiAxMDAuMCU7Ij5FdG9iaWNva2U8L2Rpdj4nKVswXTsKICAgICAgICAgICAgICAgIHBvcHVwX2I4MTRlZWU0ZmQ4ZjRiM2U4NzA0MjRjNmZmMjdhYzk3LnNldENvbnRlbnQoaHRtbF9kY2Y3MjNlZDQ0ZDI0MmEwYWQ0OTBmN2Q4ZTZmNzVmNCk7CiAgICAgICAgICAgIAoKICAgICAgICAgICAgbWFya2VyX2ZhM2Y0ZTc5N2M0ZTRiNzg5NGIyMDkyMjViM2I1MTg4LmJpbmRQb3B1cChwb3B1cF9iODE0ZWVlNGZkOGY0YjNlODcwNDI0YzZmZjI3YWM5Nyk7CgogICAgICAgICAgICAKICAgICAgICAKICAgIAoKICAgICAgICAgICAgdmFyIG1hcmtlcl80Zjk2ZmE1MmJhZmY0ZmZiODNhMzk3ZmZiN2IyNzQ1YiA9IEwubWFya2VyKAogICAgICAgICAgICAgICAgWzQzLjYyODg0MDgsLTc5LjUyMDk5OTQwMDAwMDAxXSwKICAgICAgICAgICAgICAgIHsKICAgICAgICAgICAgICAgICAgICBpY29uOiBuZXcgTC5JY29uLkRlZmF1bHQoKQogICAgICAgICAgICAgICAgICAgIH0KICAgICAgICAgICAgICAgICkKICAgICAgICAgICAgICAgIC5hZGRUbyhtYXJrZXJfY2x1c3Rlcl80OGUzZjZhN2EwMDQ0NWZmOWY5YmYwNTAyMDYyODY2Mik7CiAgICAgICAgICAgIAogICAgCiAgICAgICAgICAgIHZhciBwb3B1cF81NjU0ODBmZjI3ZWM0ZGFjYjgxMzkzYzdkN2IzMjE0MCA9IEwucG9wdXAoe21heFdpZHRoOiAnMzAwJ30pOwoKICAgICAgICAgICAgCiAgICAgICAgICAgICAgICB2YXIgaHRtbF83Yzc5ZjJmYzZiNjc0ZWI1ODg1Nzg1MTgwNTFmNmNlMyA9ICQoJzxkaXYgaWQ9Imh0bWxfN2M3OWYyZmM2YjY3NGViNTg4NTc4NTE4MDUxZjZjZTMiIHN0eWxlPSJ3aWR0aDogMTAwLjAlOyBoZWlnaHQ6IDEwMC4wJTsiPkV0b2JpY29rZTwvZGl2PicpWzBdOwogICAgICAgICAgICAgICAgcG9wdXBfNTY1NDgwZmYyN2VjNGRhY2I4MTM5M2M3ZDdiMzIxNDAuc2V0Q29udGVudChodG1sXzdjNzlmMmZjNmI2NzRlYjU4ODU3ODUxODA1MWY2Y2UzKTsKICAgICAgICAgICAgCgogICAgICAgICAgICBtYXJrZXJfNGY5NmZhNTJiYWZmNGZmYjgzYTM5N2ZmYjdiMjc0NWIuYmluZFBvcHVwKHBvcHVwXzU2NTQ4MGZmMjdlYzRkYWNiODEzOTNjN2Q3YjMyMTQwKTsKCiAgICAgICAgICAgIAogICAgICAgIAogICAgCgogICAgICAgICAgICB2YXIgbWFya2VyX2Q3ZDZhYWI2NjZjODRiMDE4ZTc1YzJiYWU2ZjlmZGM3ID0gTC5tYXJrZXIoCiAgICAgICAgICAgICAgICBbNDMuNzg0NTM1MSwtNzkuMTYwNDk3MDk5OTk5OTldLAogICAgICAgICAgICAgICAgewogICAgICAgICAgICAgICAgICAgIGljb246IG5ldyBMLkljb24uRGVmYXVsdCgpCiAgICAgICAgICAgICAgICAgICAgfQogICAgICAgICAgICAgICAgKQogICAgICAgICAgICAgICAgLmFkZFRvKG1hcmtlcl9jbHVzdGVyXzQ4ZTNmNmE3YTAwNDQ1ZmY5ZjliZjA1MDIwNjI4NjYyKTsKICAgICAgICAgICAgCiAgICAKICAgICAgICAgICAgdmFyIHBvcHVwXzdmYmNkM2MzYzE2MDQxY2U4MWZhMmI2ZWJiNTQ0MjdkID0gTC5wb3B1cCh7bWF4V2lkdGg6ICczMDAnfSk7CgogICAgICAgICAgICAKICAgICAgICAgICAgICAgIHZhciBodG1sXzNhMjA0OGVjM2JmODQzNDNiNDUyZTU2NTM0YWI1MTNjID0gJCgnPGRpdiBpZD0iaHRtbF8zYTIwNDhlYzNiZjg0MzQzYjQ1MmU1NjUzNGFiNTEzYyIgc3R5bGU9IndpZHRoOiAxMDAuMCU7IGhlaWdodDogMTAwLjAlOyI+U2NhcmJvcm91Z2g8L2Rpdj4nKVswXTsKICAgICAgICAgICAgICAgIHBvcHVwXzdmYmNkM2MzYzE2MDQxY2U4MWZhMmI2ZWJiNTQ0MjdkLnNldENvbnRlbnQoaHRtbF8zYTIwNDhlYzNiZjg0MzQzYjQ1MmU1NjUzNGFiNTEzYyk7CiAgICAgICAgICAgIAoKICAgICAgICAgICAgbWFya2VyX2Q3ZDZhYWI2NjZjODRiMDE4ZTc1YzJiYWU2ZjlmZGM3LmJpbmRQb3B1cChwb3B1cF83ZmJjZDNjM2MxNjA0MWNlODFmYTJiNmViYjU0NDI3ZCk7CgogICAgICAgICAgICAKICAgICAgICAKICAgIAoKICAgICAgICAgICAgdmFyIG1hcmtlcl9mNTJhNWU4NDcwODY0ZTI5Yjk0M2M4NGY0Njc2YTRjYSA9IEwubWFya2VyKAogICAgICAgICAgICAgICAgWzQzLjcwOTU3NywtNzkuNDQ1MDcyNTk5OTk5OTldLAogICAgICAgICAgICAgICAgewogICAgICAgICAgICAgICAgICAgIGljb246IG5ldyBMLkljb24uRGVmYXVsdCgpCiAgICAgICAgICAgICAgICAgICAgfQogICAgICAgICAgICAgICAgKQogICAgICAgICAgICAgICAgLmFkZFRvKG1hcmtlcl9jbHVzdGVyXzQ4ZTNmNmE3YTAwNDQ1ZmY5ZjliZjA1MDIwNjI4NjYyKTsKICAgICAgICAgICAgCiAgICAKICAgICAgICAgICAgdmFyIHBvcHVwX2MxZmUwY2M5MTlhYzRjZGE4NzRlMjRhYTQxOGVjMTRhID0gTC5wb3B1cCh7bWF4V2lkdGg6ICczMDAnfSk7CgogICAgICAgICAgICAKICAgICAgICAgICAgICAgIHZhciBodG1sXzRjOWJjZjk5MWQyOTRmNzVhZThhZjU0OTc5YWJjYjZmID0gJCgnPGRpdiBpZD0iaHRtbF80YzliY2Y5OTFkMjk0Zjc1YWU4YWY1NDk3OWFiY2I2ZiIgc3R5bGU9IndpZHRoOiAxMDAuMCU7IGhlaWdodDogMTAwLjAlOyI+Tm9ydGhZb3JrPC9kaXY+JylbMF07CiAgICAgICAgICAgICAgICBwb3B1cF9jMWZlMGNjOTE5YWM0Y2RhODc0ZTI0YWE0MThlYzE0YS5zZXRDb250ZW50KGh0bWxfNGM5YmNmOTkxZDI5NGY3NWFlOGFmNTQ5NzlhYmNiNmYpOwogICAgICAgICAgICAKCiAgICAgICAgICAgIG1hcmtlcl9mNTJhNWU4NDcwODY0ZTI5Yjk0M2M4NGY0Njc2YTRjYS5iaW5kUG9wdXAocG9wdXBfYzFmZTBjYzkxOWFjNGNkYTg3NGUyNGFhNDE4ZWMxNGEpOwoKICAgICAgICAgICAgCiAgICAgICAgCiAgICAKCiAgICAgICAgICAgIHZhciBtYXJrZXJfOTY0YmJmN2M2MmM4NDAyYjhkNTllNzhjN2YzMTMzMzEgPSBMLm1hcmtlcigKICAgICAgICAgICAgICAgIFs0My42MzY4NDcyLC03OS40MjgxOTE0MDAwMDAwMl0sCiAgICAgICAgICAgICAgICB7CiAgICAgICAgICAgICAgICAgICAgaWNvbjogbmV3IEwuSWNvbi5EZWZhdWx0KCkKICAgICAgICAgICAgICAgICAgICB9CiAgICAgICAgICAgICAgICApCiAgICAgICAgICAgICAgICAuYWRkVG8obWFya2VyX2NsdXN0ZXJfNDhlM2Y2YTdhMDA0NDVmZjlmOWJmMDUwMjA2Mjg2NjIpOwogICAgICAgICAgICAKICAgIAogICAgICAgICAgICB2YXIgcG9wdXBfODBlOGQxMzY2ODYwNDZhYWIzNTZhMzU3NzNhYzRkYzUgPSBMLnBvcHVwKHttYXhXaWR0aDogJzMwMCd9KTsKCiAgICAgICAgICAgIAogICAgICAgICAgICAgICAgdmFyIGh0bWxfM2IxNjRhMjgzMTBlNDRkNzhlY2E0NzZmODM0NzUwOTQgPSAkKCc8ZGl2IGlkPSJodG1sXzNiMTY0YTI4MzEwZTQ0ZDc4ZWNhNDc2ZjgzNDc1MDk0IiBzdHlsZT0id2lkdGg6IDEwMC4wJTsgaGVpZ2h0OiAxMDAuMCU7Ij5XZXN0VG9yb250bzwvZGl2PicpWzBdOwogICAgICAgICAgICAgICAgcG9wdXBfODBlOGQxMzY2ODYwNDZhYWIzNTZhMzU3NzNhYzRkYzUuc2V0Q29udGVudChodG1sXzNiMTY0YTI4MzEwZTQ0ZDc4ZWNhNDc2ZjgzNDc1MDk0KTsKICAgICAgICAgICAgCgogICAgICAgICAgICBtYXJrZXJfOTY0YmJmN2M2MmM4NDAyYjhkNTllNzhjN2YzMTMzMzEuYmluZFBvcHVwKHBvcHVwXzgwZThkMTM2Njg2MDQ2YWFiMzU2YTM1NzczYWM0ZGM1KTsKCiAgICAgICAgICAgIAogICAgICAgIAogICAgCgogICAgICAgICAgICB2YXIgbWFya2VyXzQ2NTE1NDg0OTQ1ZjRmMTQ5NDZhYTJiZDVmM2M4M2FiID0gTC5tYXJrZXIoCiAgICAgICAgICAgICAgICBbNDMuNjg2NDEyMjk5OTk5OTksLTc5LjQwMDA0OTNdLAogICAgICAgICAgICAgICAgewogICAgICAgICAgICAgICAgICAgIGljb246IG5ldyBMLkljb24uRGVmYXVsdCgpCiAgICAgICAgICAgICAgICAgICAgfQogICAgICAgICAgICAgICAgKQogICAgICAgICAgICAgICAgLmFkZFRvKG1hcmtlcl9jbHVzdGVyXzQ4ZTNmNmE3YTAwNDQ1ZmY5ZjliZjA1MDIwNjI4NjYyKTsKICAgICAgICAgICAgCiAgICAKICAgICAgICAgICAgdmFyIHBvcHVwXzdmZmVlZDZiMmI4YzQ5NWJhM2RkYjdkNTdhNWU2MWZiID0gTC5wb3B1cCh7bWF4V2lkdGg6ICczMDAnfSk7CgogICAgICAgICAgICAKICAgICAgICAgICAgICAgIHZhciBodG1sXzBhNGNkNzE2NGVmYzQ1NTQ4ZGI4ZTgxMDFkZDU3MzkzID0gJCgnPGRpdiBpZD0iaHRtbF8wYTRjZDcxNjRlZmM0NTU0OGRiOGU4MTAxZGQ1NzM5MyIgc3R5bGU9IndpZHRoOiAxMDAuMCU7IGhlaWdodDogMTAwLjAlOyI+Q2VudHJhbFRvcm9udG88L2Rpdj4nKVswXTsKICAgICAgICAgICAgICAgIHBvcHVwXzdmZmVlZDZiMmI4YzQ5NWJhM2RkYjdkNTdhNWU2MWZiLnNldENvbnRlbnQoaHRtbF8wYTRjZDcxNjRlZmM0NTU0OGRiOGU4MTAxZGQ1NzM5Myk7CiAgICAgICAgICAgIAoKICAgICAgICAgICAgbWFya2VyXzQ2NTE1NDg0OTQ1ZjRmMTQ5NDZhYTJiZDVmM2M4M2FiLmJpbmRQb3B1cChwb3B1cF83ZmZlZWQ2YjJiOGM0OTViYTNkZGI3ZDU3YTVlNjFmYik7CgogICAgICAgICAgICAKICAgICAgICAKICAgIAoKICAgICAgICAgICAgdmFyIG1hcmtlcl85NTdjODYzYzU4MzI0MjIwYjVhYmE0MzBlN2E0NzY1MiA9IEwubWFya2VyKAogICAgICAgICAgICAgICAgWzQzLjY2Mjc0MzksLTc5LjMyMTU1OF0sCiAgICAgICAgICAgICAgICB7CiAgICAgICAgICAgICAgICAgICAgaWNvbjogbmV3IEwuSWNvbi5EZWZhdWx0KCkKICAgICAgICAgICAgICAgICAgICB9CiAgICAgICAgICAgICAgICApCiAgICAgICAgICAgICAgICAuYWRkVG8obWFya2VyX2NsdXN0ZXJfNDhlM2Y2YTdhMDA0NDVmZjlmOWJmMDUwMjA2Mjg2NjIpOwogICAgICAgICAgICAKICAgIAogICAgICAgICAgICB2YXIgcG9wdXBfOTc4YjJlNTc1MmM2NDI4MTgzYjdmZjM0ZWY4Njk1YjMgPSBMLnBvcHVwKHttYXhXaWR0aDogJzMwMCd9KTsKCiAgICAgICAgICAgIAogICAgICAgICAgICAgICAgdmFyIGh0bWxfZjI1ZGU0ZDM5NGYzNDRhYWJkMWZhZjViNmQ4Nzg5MDcgPSAkKCc8ZGl2IGlkPSJodG1sX2YyNWRlNGQzOTRmMzQ0YWFiZDFmYWY1YjZkODc4OTA3IiBzdHlsZT0id2lkdGg6IDEwMC4wJTsgaGVpZ2h0OiAxMDAuMCU7Ij5FYXN0VG9yb250bzwvZGl2PicpWzBdOwogICAgICAgICAgICAgICAgcG9wdXBfOTc4YjJlNTc1MmM2NDI4MTgzYjdmZjM0ZWY4Njk1YjMuc2V0Q29udGVudChodG1sX2YyNWRlNGQzOTRmMzQ0YWFiZDFmYWY1YjZkODc4OTA3KTsKICAgICAgICAgICAgCgogICAgICAgICAgICBtYXJrZXJfOTU3Yzg2M2M1ODMyNDIyMGI1YWJhNDMwZTdhNDc2NTIuYmluZFBvcHVwKHBvcHVwXzk3OGIyZTU3NTJjNjQyODE4M2I3ZmYzNGVmODY5NWIzKTsKCiAgICAgICAgICAgIAogICAgICAgIAogICAgCgogICAgICAgICAgICB2YXIgbWFya2VyXzk2OWNkNDljODIxMDQ5YzZhMDFiOTE2OGM0Njc3YmFkID0gTC5tYXJrZXIoCiAgICAgICAgICAgICAgICBbNDMuNjAyNDEzNzAwMDAwMDEsLTc5LjU0MzQ4NDA5OTk5OTk5XSwKICAgICAgICAgICAgICAgIHsKICAgICAgICAgICAgICAgICAgICBpY29uOiBuZXcgTC5JY29uLkRlZmF1bHQoKQogICAgICAgICAgICAgICAgICAgIH0KICAgICAgICAgICAgICAgICkKICAgICAgICAgICAgICAgIC5hZGRUbyhtYXJrZXJfY2x1c3Rlcl80OGUzZjZhN2EwMDQ0NWZmOWY5YmYwNTAyMDYyODY2Mik7CiAgICAgICAgICAgIAogICAgCiAgICAgICAgICAgIHZhciBwb3B1cF82M2FhMDY2N2NiOTI0ZGZjYjhlY2ZkM2IwMGM5OWQyYyA9IEwucG9wdXAoe21heFdpZHRoOiAnMzAwJ30pOwoKICAgICAgICAgICAgCiAgICAgICAgICAgICAgICB2YXIgaHRtbF9hNzkzNmYyNTBlMWI0YTFhOGNmYWVkMTMzNzliZjBlYyA9ICQoJzxkaXYgaWQ9Imh0bWxfYTc5MzZmMjUwZTFiNGExYThjZmFlZDEzMzc5YmYwZWMiIHN0eWxlPSJ3aWR0aDogMTAwLjAlOyBoZWlnaHQ6IDEwMC4wJTsiPkV0b2JpY29rZTwvZGl2PicpWzBdOwogICAgICAgICAgICAgICAgcG9wdXBfNjNhYTA2NjdjYjkyNGRmY2I4ZWNmZDNiMDBjOTlkMmMuc2V0Q29udGVudChodG1sX2E3OTM2ZjI1MGUxYjRhMWE4Y2ZhZWQxMzM3OWJmMGVjKTsKICAgICAgICAgICAgCgogICAgICAgICAgICBtYXJrZXJfOTY5Y2Q0OWM4MjEwNDljNmEwMWI5MTY4YzQ2NzdiYWQuYmluZFBvcHVwKHBvcHVwXzYzYWEwNjY3Y2I5MjRkZmNiOGVjZmQzYjAwYzk5ZDJjKTsKCiAgICAgICAgICAgIAogICAgICAgIAogICAgCgogICAgICAgICAgICB2YXIgbWFya2VyXzRkNDEwM2ZiNmJlNDQ5ODlhYTNlY2Y3NDM4ZjE2ODA1ID0gTC5tYXJrZXIoCiAgICAgICAgICAgICAgICBbNDMuODE1MjUyMiwtNzkuMjg0NTc3Ml0sCiAgICAgICAgICAgICAgICB7CiAgICAgICAgICAgICAgICAgICAgaWNvbjogbmV3IEwuSWNvbi5EZWZhdWx0KCkKICAgICAgICAgICAgICAgICAgICB9CiAgICAgICAgICAgICAgICApCiAgICAgICAgICAgICAgICAuYWRkVG8obWFya2VyX2NsdXN0ZXJfNDhlM2Y2YTdhMDA0NDVmZjlmOWJmMDUwMjA2Mjg2NjIpOwogICAgICAgICAgICAKICAgIAogICAgICAgICAgICB2YXIgcG9wdXBfYjA2OTQxMWZhMGIwNGNjZjllOWEyNWVkNmMzYWQwZmQgPSBMLnBvcHVwKHttYXhXaWR0aDogJzMwMCd9KTsKCiAgICAgICAgICAgIAogICAgICAgICAgICAgICAgdmFyIGh0bWxfNmYzYzU3YTY5NzA4NDAyYzk1ZDUyMzdjZTIwNDk3NWMgPSAkKCc8ZGl2IGlkPSJodG1sXzZmM2M1N2E2OTcwODQwMmM5NWQ1MjM3Y2UyMDQ5NzVjIiBzdHlsZT0id2lkdGg6IDEwMC4wJTsgaGVpZ2h0OiAxMDAuMCU7Ij5TY2FyYm9yb3VnaDwvZGl2PicpWzBdOwogICAgICAgICAgICAgICAgcG9wdXBfYjA2OTQxMWZhMGIwNGNjZjllOWEyNWVkNmMzYWQwZmQuc2V0Q29udGVudChodG1sXzZmM2M1N2E2OTcwODQwMmM5NWQ1MjM3Y2UyMDQ5NzVjKTsKICAgICAgICAgICAgCgogICAgICAgICAgICBtYXJrZXJfNGQ0MTAzZmI2YmU0NDk4OWFhM2VjZjc0MzhmMTY4MDUuYmluZFBvcHVwKHBvcHVwX2IwNjk0MTFmYTBiMDRjY2Y5ZTlhMjVlZDZjM2FkMGZkKTsKCiAgICAgICAgICAgIAogICAgICAgIAogICAgCgogICAgICAgICAgICB2YXIgbWFya2VyXzI2MzRkNTFlMzMyYzQ2ODFhYWQ0MDdjODYzMGZlMTBkID0gTC5tYXJrZXIoCiAgICAgICAgICAgICAgICBbNDMuNjQ3OTI2NzAwMDAwMDA2LC03OS40MTk3NDk3XSwKICAgICAgICAgICAgICAgIHsKICAgICAgICAgICAgICAgICAgICBpY29uOiBuZXcgTC5JY29uLkRlZmF1bHQoKQogICAgICAgICAgICAgICAgICAgIH0KICAgICAgICAgICAgICAgICkKICAgICAgICAgICAgICAgIC5hZGRUbyhtYXJrZXJfY2x1c3Rlcl80OGUzZjZhN2EwMDQ0NWZmOWY5YmYwNTAyMDYyODY2Mik7CiAgICAgICAgICAgIAogICAgCiAgICAgICAgICAgIHZhciBwb3B1cF83NTk0ZjQyMzU4ZDA0ZTA4YTE5ZjRmYTM2ZTVkOTg0MCA9IEwucG9wdXAoe21heFdpZHRoOiAnMzAwJ30pOwoKICAgICAgICAgICAgCiAgICAgICAgICAgICAgICB2YXIgaHRtbF9jNWRjYzg1NTlhYzM0ZTdmOTYzYTU3MDlkOTY0ODE4NiA9ICQoJzxkaXYgaWQ9Imh0bWxfYzVkY2M4NTU5YWMzNGU3Zjk2M2E1NzA5ZDk2NDgxODYiIHN0eWxlPSJ3aWR0aDogMTAwLjAlOyBoZWlnaHQ6IDEwMC4wJTsiPldlc3RUb3JvbnRvPC9kaXY+JylbMF07CiAgICAgICAgICAgICAgICBwb3B1cF83NTk0ZjQyMzU4ZDA0ZTA4YTE5ZjRmYTM2ZTVkOTg0MC5zZXRDb250ZW50KGh0bWxfYzVkY2M4NTU5YWMzNGU3Zjk2M2E1NzA5ZDk2NDgxODYpOwogICAgICAgICAgICAKCiAgICAgICAgICAgIG1hcmtlcl8yNjM0ZDUxZTMzMmM0NjgxYWFkNDA3Yzg2MzBmZTEwZC5iaW5kUG9wdXAocG9wdXBfNzU5NGY0MjM1OGQwNGUwOGExOWY0ZmEzNmU1ZDk4NDApOwoKICAgICAgICAgICAgCiAgICAgICAgCiAgICAKCiAgICAgICAgICAgIHZhciBtYXJrZXJfZTJmMjc2YzQ4MTMwNGMzYmE0N2NkNDFkZWIwOGE5NDUgPSBMLm1hcmtlcigKICAgICAgICAgICAgICAgIFs0My42Nzk1NjI2LC03OS4zNzc1Mjk0MDAwMDAwMV0sCiAgICAgICAgICAgICAgICB7CiAgICAgICAgICAgICAgICAgICAgaWNvbjogbmV3IEwuSWNvbi5EZWZhdWx0KCkKICAgICAgICAgICAgICAgICAgICB9CiAgICAgICAgICAgICAgICApCiAgICAgICAgICAgICAgICAuYWRkVG8obWFya2VyX2NsdXN0ZXJfNDhlM2Y2YTdhMDA0NDVmZjlmOWJmMDUwMjA2Mjg2NjIpOwogICAgICAgICAgICAKICAgIAogICAgICAgICAgICB2YXIgcG9wdXBfNTkxY2Q2Y2Q2YzBiNGRiM2E5ZWUyNmNlYzNkNzJlYzAgPSBMLnBvcHVwKHttYXhXaWR0aDogJzMwMCd9KTsKCiAgICAgICAgICAgIAogICAgICAgICAgICAgICAgdmFyIGh0bWxfNjM4NzhmNjI1OWFjNDA2YTkyMzlhYzI5YmNlMDYzYjcgPSAkKCc8ZGl2IGlkPSJodG1sXzYzODc4ZjYyNTlhYzQwNmE5MjM5YWMyOWJjZTA2M2I3IiBzdHlsZT0id2lkdGg6IDEwMC4wJTsgaGVpZ2h0OiAxMDAuMCU7Ij5Eb3dudG93blRvcm9udG88L2Rpdj4nKVswXTsKICAgICAgICAgICAgICAgIHBvcHVwXzU5MWNkNmNkNmMwYjRkYjNhOWVlMjZjZWMzZDcyZWMwLnNldENvbnRlbnQoaHRtbF82Mzg3OGY2MjU5YWM0MDZhOTIzOWFjMjliY2UwNjNiNyk7CiAgICAgICAgICAgIAoKICAgICAgICAgICAgbWFya2VyX2UyZjI3NmM0ODEzMDRjM2JhNDdjZDQxZGViMDhhOTQ1LmJpbmRQb3B1cChwb3B1cF81OTFjZDZjZDZjMGI0ZGIzYTllZTI2Y2VjM2Q3MmVjMCk7CgogICAgICAgICAgICAKICAgICAgICAKICAgIAoKICAgICAgICAgICAgdmFyIG1hcmtlcl9jZTY0Y2ZjZDMzNTM0NmNiODRjZjIxN2I4MWI3ZTNlYyA9IEwubWFya2VyKAogICAgICAgICAgICAgICAgWzQzLjc5NDIwMDMsLTc5LjI2MjAyOTQwMDAwMDAyXSwKICAgICAgICAgICAgICAgIHsKICAgICAgICAgICAgICAgICAgICBpY29uOiBuZXcgTC5JY29uLkRlZmF1bHQoKQogICAgICAgICAgICAgICAgICAgIH0KICAgICAgICAgICAgICAgICkKICAgICAgICAgICAgICAgIC5hZGRUbyhtYXJrZXJfY2x1c3Rlcl80OGUzZjZhN2EwMDQ0NWZmOWY5YmYwNTAyMDYyODY2Mik7CiAgICAgICAgICAgIAogICAgCiAgICAgICAgICAgIHZhciBwb3B1cF80Njg4NzU2OGI2YmM0YTM4OWIyM2RhNWFmYmRkNDE3MiA9IEwucG9wdXAoe21heFdpZHRoOiAnMzAwJ30pOwoKICAgICAgICAgICAgCiAgICAgICAgICAgICAgICB2YXIgaHRtbF9iZGFjMzY4ODQ4Nzk0MzE2YThkOTA3YTk3MWUwMWU1MyA9ICQoJzxkaXYgaWQ9Imh0bWxfYmRhYzM2ODg0ODc5NDMxNmE4ZDkwN2E5NzFlMDFlNTMiIHN0eWxlPSJ3aWR0aDogMTAwLjAlOyBoZWlnaHQ6IDEwMC4wJTsiPlNjYXJib3JvdWdoPC9kaXY+JylbMF07CiAgICAgICAgICAgICAgICBwb3B1cF80Njg4NzU2OGI2YmM0YTM4OWIyM2RhNWFmYmRkNDE3Mi5zZXRDb250ZW50KGh0bWxfYmRhYzM2ODg0ODc5NDMxNmE4ZDkwN2E5NzFlMDFlNTMpOwogICAgICAgICAgICAKCiAgICAgICAgICAgIG1hcmtlcl9jZTY0Y2ZjZDMzNTM0NmNiODRjZjIxN2I4MWI3ZTNlYy5iaW5kUG9wdXAocG9wdXBfNDY4ODc1NjhiNmJjNGEzODliMjNkYTVhZmJkZDQxNzIpOwoKICAgICAgICAgICAgCiAgICAgICAgCiAgICAKCiAgICAgICAgICAgIHZhciBtYXJrZXJfODdlYzMyYmEyN2Y2NDZiOGI1ZWVjYjZkYmJhYTZhY2EgPSBMLm1hcmtlcigKICAgICAgICAgICAgICAgIFs0My43NDQ3MzQyLC03OS4yMzk0NzYwOTk5OTk5OV0sCiAgICAgICAgICAgICAgICB7CiAgICAgICAgICAgICAgICAgICAgaWNvbjogbmV3IEwuSWNvbi5EZWZhdWx0KCkKICAgICAgICAgICAgICAgICAgICB9CiAgICAgICAgICAgICAgICApCiAgICAgICAgICAgICAgICAuYWRkVG8obWFya2VyX2NsdXN0ZXJfNDhlM2Y2YTdhMDA0NDVmZjlmOWJmMDUwMjA2Mjg2NjIpOwogICAgICAgICAgICAKICAgIAogICAgICAgICAgICB2YXIgcG9wdXBfZTFjOGY1NDIxMmU5NGNhZmFhYjRjOGNmNTVkOTc2MjkgPSBMLnBvcHVwKHttYXhXaWR0aDogJzMwMCd9KTsKCiAgICAgICAgICAgIAogICAgICAgICAgICAgICAgdmFyIGh0bWxfMTQxNjYwMjgyNmMzNGIwNmJhYzE4NzhjODEyNmVjODkgPSAkKCc8ZGl2IGlkPSJodG1sXzE0MTY2MDI4MjZjMzRiMDZiYWMxODc4YzgxMjZlYzg5IiBzdHlsZT0id2lkdGg6IDEwMC4wJTsgaGVpZ2h0OiAxMDAuMCU7Ij5TY2FyYm9yb3VnaDwvZGl2PicpWzBdOwogICAgICAgICAgICAgICAgcG9wdXBfZTFjOGY1NDIxMmU5NGNhZmFhYjRjOGNmNTVkOTc2Mjkuc2V0Q29udGVudChodG1sXzE0MTY2MDI4MjZjMzRiMDZiYWMxODc4YzgxMjZlYzg5KTsKICAgICAgICAgICAgCgogICAgICAgICAgICBtYXJrZXJfODdlYzMyYmEyN2Y2NDZiOGI1ZWVjYjZkYmJhYTZhY2EuYmluZFBvcHVwKHBvcHVwX2UxYzhmNTQyMTJlOTRjYWZhYWI0YzhjZjU1ZDk3NjI5KTsKCiAgICAgICAgICAgIAogICAgICAgIAogICAgCgogICAgICAgICAgICB2YXIgbWFya2VyX2IxMTgwZTIxZmE5NTQ1Njk5N2JhMTBlZTIwYmNjNGZlID0gTC5tYXJrZXIoCiAgICAgICAgICAgICAgICBbNDMuNjg5NTc0MywtNzkuMzgzMTU5OTAwMDAwMDFdLAogICAgICAgICAgICAgICAgewogICAgICAgICAgICAgICAgICAgIGljb246IG5ldyBMLkljb24uRGVmYXVsdCgpCiAgICAgICAgICAgICAgICAgICAgfQogICAgICAgICAgICAgICAgKQogICAgICAgICAgICAgICAgLmFkZFRvKG1hcmtlcl9jbHVzdGVyXzQ4ZTNmNmE3YTAwNDQ1ZmY5ZjliZjA1MDIwNjI4NjYyKTsKICAgICAgICAgICAgCiAgICAKICAgICAgICAgICAgdmFyIHBvcHVwXzUxNDMzZjZhMjc1MjQ2MjRiNmQ0MjUyOWQxMzZkNmQ1ID0gTC5wb3B1cCh7bWF4V2lkdGg6ICczMDAnfSk7CgogICAgICAgICAgICAKICAgICAgICAgICAgICAgIHZhciBodG1sX2JlZDJhMGJmMDkxZTQyNmJiZDZmMjBmNzYzOGQzMDM1ID0gJCgnPGRpdiBpZD0iaHRtbF9iZWQyYTBiZjA5MWU0MjZiYmQ2ZjIwZjc2MzhkMzAzNSIgc3R5bGU9IndpZHRoOiAxMDAuMCU7IGhlaWdodDogMTAwLjAlOyI+Q2VudHJhbFRvcm9udG88L2Rpdj4nKVswXTsKICAgICAgICAgICAgICAgIHBvcHVwXzUxNDMzZjZhMjc1MjQ2MjRiNmQ0MjUyOWQxMzZkNmQ1LnNldENvbnRlbnQoaHRtbF9iZWQyYTBiZjA5MWU0MjZiYmQ2ZjIwZjc2MzhkMzAzNSk7CiAgICAgICAgICAgIAoKICAgICAgICAgICAgbWFya2VyX2IxMTgwZTIxZmE5NTQ1Njk5N2JhMTBlZTIwYmNjNGZlLmJpbmRQb3B1cChwb3B1cF81MTQzM2Y2YTI3NTI0NjI0YjZkNDI1MjlkMTM2ZDZkNSk7CgogICAgICAgICAgICAKICAgICAgICAKICAgIAoKICAgICAgICAgICAgdmFyIG1hcmtlcl9kYjBlZGY3NTkxODA0NmZjYmQ0OTAyZmQzYzk3MTA0YyA9IEwubWFya2VyKAogICAgICAgICAgICAgICAgWzQzLjY1NzE2MTgsLTc5LjM3ODkzNzA5OTk5OTk5XSwKICAgICAgICAgICAgICAgIHsKICAgICAgICAgICAgICAgICAgICBpY29uOiBuZXcgTC5JY29uLkRlZmF1bHQoKQogICAgICAgICAgICAgICAgICAgIH0KICAgICAgICAgICAgICAgICkKICAgICAgICAgICAgICAgIC5hZGRUbyhtYXJrZXJfY2x1c3Rlcl80OGUzZjZhN2EwMDQ0NWZmOWY5YmYwNTAyMDYyODY2Mik7CiAgICAgICAgICAgIAogICAgCiAgICAgICAgICAgIHZhciBwb3B1cF84MzNkZDIxZDc4ZDY0OTBmOGYxOTk2MDE3NzM1OTVkMCA9IEwucG9wdXAoe21heFdpZHRoOiAnMzAwJ30pOwoKICAgICAgICAgICAgCiAgICAgICAgICAgICAgICB2YXIgaHRtbF80OWZlMzE5MWY4NzI0MzRlOGMwOGE2ODAxNzhmMzYwOCA9ICQoJzxkaXYgaWQ9Imh0bWxfNDlmZTMxOTFmODcyNDM0ZThjMDhhNjgwMTc4ZjM2MDgiIHN0eWxlPSJ3aWR0aDogMTAwLjAlOyBoZWlnaHQ6IDEwMC4wJTsiPkRvd250b3duVG9yb250bzwvZGl2PicpWzBdOwogICAgICAgICAgICAgICAgcG9wdXBfODMzZGQyMWQ3OGQ2NDkwZjhmMTk5NjAxNzczNTk1ZDAuc2V0Q29udGVudChodG1sXzQ5ZmUzMTkxZjg3MjQzNGU4YzA4YTY4MDE3OGYzNjA4KTsKICAgICAgICAgICAgCgogICAgICAgICAgICBtYXJrZXJfZGIwZWRmNzU5MTgwNDZmY2JkNDkwMmZkM2M5NzEwNGMuYmluZFBvcHVwKHBvcHVwXzgzM2RkMjFkNzhkNjQ5MGY4ZjE5OTYwMTc3MzU5NWQwKTsKCiAgICAgICAgICAgIAogICAgICAgIAogICAgCgogICAgICAgICAgICB2YXIgbWFya2VyXzM3NzU1OGM5OTk1MjQ2Mjc4Y2JjMWMwNTAxNzc1MDMyID0gTC5tYXJrZXIoCiAgICAgICAgICAgICAgICBbNDMuNzQ1OTA1Nzk5OTk5OTk2LC03OS4zNTIxODhdLAogICAgICAgICAgICAgICAgewogICAgICAgICAgICAgICAgICAgIGljb246IG5ldyBMLkljb24uRGVmYXVsdCgpCiAgICAgICAgICAgICAgICAgICAgfQogICAgICAgICAgICAgICAgKQogICAgICAgICAgICAgICAgLmFkZFRvKG1hcmtlcl9jbHVzdGVyXzQ4ZTNmNmE3YTAwNDQ1ZmY5ZjliZjA1MDIwNjI4NjYyKTsKICAgICAgICAgICAgCiAgICAKICAgICAgICAgICAgdmFyIHBvcHVwXzg4ZmI5YmE0YTZkNTRkOWNiNTg4OTM5OTkyYTk3ZTZhID0gTC5wb3B1cCh7bWF4V2lkdGg6ICczMDAnfSk7CgogICAgICAgICAgICAKICAgICAgICAgICAgICAgIHZhciBodG1sX2M2ZWRjYTU0OGExZDQ5N2M4NjU3ZjUyZjJkODg3M2VhID0gJCgnPGRpdiBpZD0iaHRtbF9jNmVkY2E1NDhhMWQ0OTdjODY1N2Y1MmYyZDg4NzNlYSIgc3R5bGU9IndpZHRoOiAxMDAuMCU7IGhlaWdodDogMTAwLjAlOyI+Tm9ydGhZb3JrPC9kaXY+JylbMF07CiAgICAgICAgICAgICAgICBwb3B1cF84OGZiOWJhNGE2ZDU0ZDljYjU4ODkzOTk5MmE5N2U2YS5zZXRDb250ZW50KGh0bWxfYzZlZGNhNTQ4YTFkNDk3Yzg2NTdmNTJmMmQ4ODczZWEpOwogICAgICAgICAgICAKCiAgICAgICAgICAgIG1hcmtlcl8zNzc1NThjOTk5NTI0NjI3OGNiYzFjMDUwMTc3NTAzMi5iaW5kUG9wdXAocG9wdXBfODhmYjliYTRhNmQ1NGQ5Y2I1ODg5Mzk5OTJhOTdlNmEpOwoKICAgICAgICAgICAgCiAgICAgICAgCiAgICAKCiAgICAgICAgICAgIHZhciBtYXJrZXJfMmIxNWU5ZDRkMmRmNGFmMGJiZTM4NWJmZDJjYzRjNmEgPSBMLm1hcmtlcigKICAgICAgICAgICAgICAgIFs0My43NzMxMzYsLTc5LjIzOTQ3NjA5OTk5OTk5XSwKICAgICAgICAgICAgICAgIHsKICAgICAgICAgICAgICAgICAgICBpY29uOiBuZXcgTC5JY29uLkRlZmF1bHQoKQogICAgICAgICAgICAgICAgICAgIH0KICAgICAgICAgICAgICAgICkKICAgICAgICAgICAgICAgIC5hZGRUbyhtYXJrZXJfY2x1c3Rlcl80OGUzZjZhN2EwMDQ0NWZmOWY5YmYwNTAyMDYyODY2Mik7CiAgICAgICAgICAgIAogICAgCiAgICAgICAgICAgIHZhciBwb3B1cF85N2U0ZWM1MGYyZjI0MTY0OTU5MTYzMmU1Zjc2ODIyMSA9IEwucG9wdXAoe21heFdpZHRoOiAnMzAwJ30pOwoKICAgICAgICAgICAgCiAgICAgICAgICAgICAgICB2YXIgaHRtbF81NTk0YzM4YjJlOTg0YjU0YTFmMmFjYjhmZDgzZGUxNyA9ICQoJzxkaXYgaWQ9Imh0bWxfNTU5NGMzOGIyZTk4NGI1NGExZjJhY2I4ZmQ4M2RlMTciIHN0eWxlPSJ3aWR0aDogMTAwLjAlOyBoZWlnaHQ6IDEwMC4wJTsiPlNjYXJib3JvdWdoPC9kaXY+JylbMF07CiAgICAgICAgICAgICAgICBwb3B1cF85N2U0ZWM1MGYyZjI0MTY0OTU5MTYzMmU1Zjc2ODIyMS5zZXRDb250ZW50KGh0bWxfNTU5NGMzOGIyZTk4NGI1NGExZjJhY2I4ZmQ4M2RlMTcpOwogICAgICAgICAgICAKCiAgICAgICAgICAgIG1hcmtlcl8yYjE1ZTlkNGQyZGY0YWYwYmJlMzg1YmZkMmNjNGM2YS5iaW5kUG9wdXAocG9wdXBfOTdlNGVjNTBmMmYyNDE2NDk1OTE2MzJlNWY3NjgyMjEpOwoKICAgICAgICAgICAgCiAgICAgICAgCiAgICAKCiAgICAgICAgICAgIHZhciBtYXJrZXJfM2QxNzRkMDYwMjgyNDNjZDg5Zjg4ZGRjMmRjNjQ2ZGEgPSBMLm1hcmtlcigKICAgICAgICAgICAgICAgIFs0My43NTQzMjgzLC03OS40NDIyNTkzXSwKICAgICAgICAgICAgICAgIHsKICAgICAgICAgICAgICAgICAgICBpY29uOiBuZXcgTC5JY29uLkRlZmF1bHQoKQogICAgICAgICAgICAgICAgICAgIH0KICAgICAgICAgICAgICAgICkKICAgICAgICAgICAgICAgIC5hZGRUbyhtYXJrZXJfY2x1c3Rlcl80OGUzZjZhN2EwMDQ0NWZmOWY5YmYwNTAyMDYyODY2Mik7CiAgICAgICAgICAgIAogICAgCiAgICAgICAgICAgIHZhciBwb3B1cF9hNzZiZjY2YjgyZjY0M2MyOTNiMTFlYjlhYzE3N2NjOSA9IEwucG9wdXAoe21heFdpZHRoOiAnMzAwJ30pOwoKICAgICAgICAgICAgCiAgICAgICAgICAgICAgICB2YXIgaHRtbF81N2Y2ZTZmYTgyYTY0Yjc1YTFlYjdjODMxZDg4MmI4YiA9ICQoJzxkaXYgaWQ9Imh0bWxfNTdmNmU2ZmE4MmE2NGI3NWExZWI3YzgzMWQ4ODJiOGIiIHN0eWxlPSJ3aWR0aDogMTAwLjAlOyBoZWlnaHQ6IDEwMC4wJTsiPk5vcnRoWW9yazwvZGl2PicpWzBdOwogICAgICAgICAgICAgICAgcG9wdXBfYTc2YmY2NmI4MmY2NDNjMjkzYjExZWI5YWMxNzdjYzkuc2V0Q29udGVudChodG1sXzU3ZjZlNmZhODJhNjRiNzVhMWViN2M4MzFkODgyYjhiKTsKICAgICAgICAgICAgCgogICAgICAgICAgICBtYXJrZXJfM2QxNzRkMDYwMjgyNDNjZDg5Zjg4ZGRjMmRjNjQ2ZGEuYmluZFBvcHVwKHBvcHVwX2E3NmJmNjZiODJmNjQzYzI5M2IxMWViOWFjMTc3Y2M5KTsKCiAgICAgICAgICAgIAogICAgICAgIAogICAgCgogICAgICAgICAgICB2YXIgbWFya2VyX2Y5OGQ5OTYzMDFlNjQ4MTE5Yjc0NjIxNjMzODY2ZjlhID0gTC5tYXJrZXIoCiAgICAgICAgICAgICAgICBbNDMuNjk1MzQzOTAwMDAwMDA1LC03OS4zMTgzODg3XSwKICAgICAgICAgICAgICAgIHsKICAgICAgICAgICAgICAgICAgICBpY29uOiBuZXcgTC5JY29uLkRlZmF1bHQoKQogICAgICAgICAgICAgICAgICAgIH0KICAgICAgICAgICAgICAgICkKICAgICAgICAgICAgICAgIC5hZGRUbyhtYXJrZXJfY2x1c3Rlcl80OGUzZjZhN2EwMDQ0NWZmOWY5YmYwNTAyMDYyODY2Mik7CiAgICAgICAgICAgIAogICAgCiAgICAgICAgICAgIHZhciBwb3B1cF84ODI0ODRkNmRjNDM0NDA1OWMzNjY5MjU2MGQ5MTY2YiA9IEwucG9wdXAoe21heFdpZHRoOiAnMzAwJ30pOwoKICAgICAgICAgICAgCiAgICAgICAgICAgICAgICB2YXIgaHRtbF8wMTQyOTA5NDM1Nzk0YmMxYTVkOTE5NTcyYzJhMDE2NSA9ICQoJzxkaXYgaWQ9Imh0bWxfMDE0MjkwOTQzNTc5NGJjMWE1ZDkxOTU3MmMyYTAxNjUiIHN0eWxlPSJ3aWR0aDogMTAwLjAlOyBoZWlnaHQ6IDEwMC4wJTsiPkVhc3RZb3JrPC9kaXY+JylbMF07CiAgICAgICAgICAgICAgICBwb3B1cF84ODI0ODRkNmRjNDM0NDA1OWMzNjY5MjU2MGQ5MTY2Yi5zZXRDb250ZW50KGh0bWxfMDE0MjkwOTQzNTc5NGJjMWE1ZDkxOTU3MmMyYTAxNjUpOwogICAgICAgICAgICAKCiAgICAgICAgICAgIG1hcmtlcl9mOThkOTk2MzAxZTY0ODExOWI3NDYyMTYzMzg2NmY5YS5iaW5kUG9wdXAocG9wdXBfODgyNDg0ZDZkYzQzNDQwNTljMzY2OTI1NjBkOTE2NmIpOwoKICAgICAgICAgICAgCiAgICAgICAgCiAgICAKCiAgICAgICAgICAgIHZhciBtYXJrZXJfOGRjZjRhYjdmYjcxNGE4NWJhMjZjZGNlMzFjMGExNjEgPSBMLm1hcmtlcigKICAgICAgICAgICAgICAgIFs0My43MjU4ODIyOTk5OTk5OTUsLTc5LjMxNTU3MTU5OTk5OTk4XSwKICAgICAgICAgICAgICAgIHsKICAgICAgICAgICAgICAgICAgICBpY29uOiBuZXcgTC5JY29uLkRlZmF1bHQoKQogICAgICAgICAgICAgICAgICAgIH0KICAgICAgICAgICAgICAgICkKICAgICAgICAgICAgICAgIC5hZGRUbyhtYXJrZXJfY2x1c3Rlcl80OGUzZjZhN2EwMDQ0NWZmOWY5YmYwNTAyMDYyODY2Mik7CiAgICAgICAgICAgIAogICAgCiAgICAgICAgICAgIHZhciBwb3B1cF9iODNiMGIwZDc2MWI0OWQ1Yjg2NWZkNDQ0YjdiZTE5OSA9IEwucG9wdXAoe21heFdpZHRoOiAnMzAwJ30pOwoKICAgICAgICAgICAgCiAgICAgICAgICAgICAgICB2YXIgaHRtbF84M2JkMWVjNmM2NTM0OThhYTQ5MmVmMGFiZTdkNWIwMyA9ICQoJzxkaXYgaWQ9Imh0bWxfODNiZDFlYzZjNjUzNDk4YWE0OTJlZjBhYmU3ZDViMDMiIHN0eWxlPSJ3aWR0aDogMTAwLjAlOyBoZWlnaHQ6IDEwMC4wJTsiPk5vcnRoWW9yazwvZGl2PicpWzBdOwogICAgICAgICAgICAgICAgcG9wdXBfYjgzYjBiMGQ3NjFiNDlkNWI4NjVmZDQ0NGI3YmUxOTkuc2V0Q29udGVudChodG1sXzgzYmQxZWM2YzY1MzQ5OGFhNDkyZWYwYWJlN2Q1YjAzKTsKICAgICAgICAgICAgCgogICAgICAgICAgICBtYXJrZXJfOGRjZjRhYjdmYjcxNGE4NWJhMjZjZGNlMzFjMGExNjEuYmluZFBvcHVwKHBvcHVwX2I4M2IwYjBkNzYxYjQ5ZDViODY1ZmQ0NDRiN2JlMTk5KTsKCiAgICAgICAgICAgIAogICAgICAgIAogICAgCgogICAgICAgICAgICB2YXIgbWFya2VyXzBjNmZlN2RlNGEzMjRlYTJhODc0ODllY2QxNzQ0YTYwID0gTC5tYXJrZXIoCiAgICAgICAgICAgICAgICBbNDMuNzE1MzgzNCwtNzkuNDA1Njc4NDAwMDAwMDFdLAogICAgICAgICAgICAgICAgewogICAgICAgICAgICAgICAgICAgIGljb246IG5ldyBMLkljb24uRGVmYXVsdCgpCiAgICAgICAgICAgICAgICAgICAgfQogICAgICAgICAgICAgICAgKQogICAgICAgICAgICAgICAgLmFkZFRvKG1hcmtlcl9jbHVzdGVyXzQ4ZTNmNmE3YTAwNDQ1ZmY5ZjliZjA1MDIwNjI4NjYyKTsKICAgICAgICAgICAgCiAgICAKICAgICAgICAgICAgdmFyIHBvcHVwXzc4NGEyZGIxOWQ4ODQzYmY4NmE4ODNmN2Q0MTAxNzFhID0gTC5wb3B1cCh7bWF4V2lkdGg6ICczMDAnfSk7CgogICAgICAgICAgICAKICAgICAgICAgICAgICAgIHZhciBodG1sXzJiNWI1OGYxNjU4MTRjZWY5MjFiMjhmM2UzMzM0NTA4ID0gJCgnPGRpdiBpZD0iaHRtbF8yYjViNThmMTY1ODE0Y2VmOTIxYjI4ZjNlMzMzNDUwOCIgc3R5bGU9IndpZHRoOiAxMDAuMCU7IGhlaWdodDogMTAwLjAlOyI+Q2VudHJhbFRvcm9udG88L2Rpdj4nKVswXTsKICAgICAgICAgICAgICAgIHBvcHVwXzc4NGEyZGIxOWQ4ODQzYmY4NmE4ODNmN2Q0MTAxNzFhLnNldENvbnRlbnQoaHRtbF8yYjViNThmMTY1ODE0Y2VmOTIxYjI4ZjNlMzMzNDUwOCk7CiAgICAgICAgICAgIAoKICAgICAgICAgICAgbWFya2VyXzBjNmZlN2RlNGEzMjRlYTJhODc0ODllY2QxNzQ0YTYwLmJpbmRQb3B1cChwb3B1cF83ODRhMmRiMTlkODg0M2JmODZhODgzZjdkNDEwMTcxYSk7CgogICAgICAgICAgICAKICAgICAgICAKICAgIAoKICAgICAgICAgICAgdmFyIG1hcmtlcl8zNGI3MGY5M2JmNTY0MjI1YTY2NWM2MWFiNzI4MTEzMiA9IEwubWFya2VyKAogICAgICAgICAgICAgICAgWzQzLjY3MjcwOTcsLTc5LjQwNTY3ODQwMDAwMDAxXSwKICAgICAgICAgICAgICAgIHsKICAgICAgICAgICAgICAgICAgICBpY29uOiBuZXcgTC5JY29uLkRlZmF1bHQoKQogICAgICAgICAgICAgICAgICAgIH0KICAgICAgICAgICAgICAgICkKICAgICAgICAgICAgICAgIC5hZGRUbyhtYXJrZXJfY2x1c3Rlcl80OGUzZjZhN2EwMDQ0NWZmOWY5YmYwNTAyMDYyODY2Mik7CiAgICAgICAgICAgIAogICAgCiAgICAgICAgICAgIHZhciBwb3B1cF8yYmExZWI2ZjQzNjM0MzU4YTdjZTBmMjI4MmUxNzFkZCA9IEwucG9wdXAoe21heFdpZHRoOiAnMzAwJ30pOwoKICAgICAgICAgICAgCiAgICAgICAgICAgICAgICB2YXIgaHRtbF9mMzU4ZTIyM2Y5ODc0MmZhOWIzYWIxMTA0NWIzMzI5ZSA9ICQoJzxkaXYgaWQ9Imh0bWxfZjM1OGUyMjNmOTg3NDJmYTliM2FiMTEwNDViMzMyOWUiIHN0eWxlPSJ3aWR0aDogMTAwLjAlOyBoZWlnaHQ6IDEwMC4wJTsiPkNlbnRyYWxUb3JvbnRvPC9kaXY+JylbMF07CiAgICAgICAgICAgICAgICBwb3B1cF8yYmExZWI2ZjQzNjM0MzU4YTdjZTBmMjI4MmUxNzFkZC5zZXRDb250ZW50KGh0bWxfZjM1OGUyMjNmOTg3NDJmYTliM2FiMTEwNDViMzMyOWUpOwogICAgICAgICAgICAKCiAgICAgICAgICAgIG1hcmtlcl8zNGI3MGY5M2JmNTY0MjI1YTY2NWM2MWFiNzI4MTEzMi5iaW5kUG9wdXAocG9wdXBfMmJhMWViNmY0MzYzNDM1OGE3Y2UwZjIyODJlMTcxZGQpOwoKICAgICAgICAgICAgCiAgICAgICAgCiAgICAKCiAgICAgICAgICAgIHZhciBtYXJrZXJfMTUzOWU5ZWY1ZDg1NDlkZTgzMjc3MTA3YTM1NTYwMjQgPSBMLm1hcmtlcigKICAgICAgICAgICAgICAgIFs0My43MTM3NTYyMDAwMDAwMDYsLTc5LjQ5MDA3MzhdLAogICAgICAgICAgICAgICAgewogICAgICAgICAgICAgICAgICAgIGljb246IG5ldyBMLkljb24uRGVmYXVsdCgpCiAgICAgICAgICAgICAgICAgICAgfQogICAgICAgICAgICAgICAgKQogICAgICAgICAgICAgICAgLmFkZFRvKG1hcmtlcl9jbHVzdGVyXzQ4ZTNmNmE3YTAwNDQ1ZmY5ZjliZjA1MDIwNjI4NjYyKTsKICAgICAgICAgICAgCiAgICAKICAgICAgICAgICAgdmFyIHBvcHVwXzhjYjQ5ZTM5NDViYjQxY2E5Zjk5NDQxZTU2NGUxZDY0ID0gTC5wb3B1cCh7bWF4V2lkdGg6ICczMDAnfSk7CgogICAgICAgICAgICAKICAgICAgICAgICAgICAgIHZhciBodG1sXzdlYmE4NTFiZTJmZTQ2NGI5NWUxMmFhZjA3N2IzM2Y4ID0gJCgnPGRpdiBpZD0iaHRtbF83ZWJhODUxYmUyZmU0NjRiOTVlMTJhYWYwNzdiMzNmOCIgc3R5bGU9IndpZHRoOiAxMDAuMCU7IGhlaWdodDogMTAwLjAlOyI+Tm9ydGhZb3JrPC9kaXY+JylbMF07CiAgICAgICAgICAgICAgICBwb3B1cF84Y2I0OWUzOTQ1YmI0MWNhOWY5OTQ0MWU1NjRlMWQ2NC5zZXRDb250ZW50KGh0bWxfN2ViYTg1MWJlMmZlNDY0Yjk1ZTEyYWFmMDc3YjMzZjgpOwogICAgICAgICAgICAKCiAgICAgICAgICAgIG1hcmtlcl8xNTM5ZTllZjVkODU0OWRlODMyNzcxMDdhMzU1NjAyNC5iaW5kUG9wdXAocG9wdXBfOGNiNDllMzk0NWJiNDFjYTlmOTk0NDFlNTY0ZTFkNjQpOwoKICAgICAgICAgICAgCiAgICAgICAgCiAgICAKCiAgICAgICAgICAgIHZhciBtYXJrZXJfNGUyN2RkZTRjYzliNDVkNGFiY2UwZmNiMWVhMjI3YzcgPSBMLm1hcmtlcigKICAgICAgICAgICAgICAgIFs0My42OTYzMTksLTc5LjUzMjI0MjQwMDAwMDAyXSwKICAgICAgICAgICAgICAgIHsKICAgICAgICAgICAgICAgICAgICBpY29uOiBuZXcgTC5JY29uLkRlZmF1bHQoKQogICAgICAgICAgICAgICAgICAgIH0KICAgICAgICAgICAgICAgICkKICAgICAgICAgICAgICAgIC5hZGRUbyhtYXJrZXJfY2x1c3Rlcl80OGUzZjZhN2EwMDQ0NWZmOWY5YmYwNTAyMDYyODY2Mik7CiAgICAgICAgICAgIAogICAgCiAgICAgICAgICAgIHZhciBwb3B1cF84NDM1NGFjMjQ4MmE0NWM4YmU4YmJjOTkyMjA4NTJmNCA9IEwucG9wdXAoe21heFdpZHRoOiAnMzAwJ30pOwoKICAgICAgICAgICAgCiAgICAgICAgICAgICAgICB2YXIgaHRtbF84ZjgxZmEyZTNlNzc0NTlkODk4OWQ0MDVmYTA2Y2Q0NyA9ICQoJzxkaXYgaWQ9Imh0bWxfOGY4MWZhMmUzZTc3NDU5ZDg5ODlkNDA1ZmEwNmNkNDciIHN0eWxlPSJ3aWR0aDogMTAwLjAlOyBoZWlnaHQ6IDEwMC4wJTsiPkV0b2JpY29rZTwvZGl2PicpWzBdOwogICAgICAgICAgICAgICAgcG9wdXBfODQzNTRhYzI0ODJhNDVjOGJlOGJiYzk5MjIwODUyZjQuc2V0Q29udGVudChodG1sXzhmODFmYTJlM2U3NzQ1OWQ4OTg5ZDQwNWZhMDZjZDQ3KTsKICAgICAgICAgICAgCgogICAgICAgICAgICBtYXJrZXJfNGUyN2RkZTRjYzliNDVkNGFiY2UwZmNiMWVhMjI3YzcuYmluZFBvcHVwKHBvcHVwXzg0MzU0YWMyNDgyYTQ1YzhiZThiYmM5OTIyMDg1MmY0KTsKCiAgICAgICAgICAgIAogICAgICAgIAogICAgCgogICAgICAgICAgICB2YXIgbWFya2VyXzEyYWM2YjJhOTE1YTQ2MjViN2M0YjIxZmU5NTdkNTI4ID0gTC5tYXJrZXIoCiAgICAgICAgICAgICAgICBbNDMuNzgxNjM3NSwtNzkuMzA0MzAyMV0sCiAgICAgICAgICAgICAgICB7CiAgICAgICAgICAgICAgICAgICAgaWNvbjogbmV3IEwuSWNvbi5EZWZhdWx0KCkKICAgICAgICAgICAgICAgICAgICB9CiAgICAgICAgICAgICAgICApCiAgICAgICAgICAgICAgICAuYWRkVG8obWFya2VyX2NsdXN0ZXJfNDhlM2Y2YTdhMDA0NDVmZjlmOWJmMDUwMjA2Mjg2NjIpOwogICAgICAgICAgICAKICAgIAogICAgICAgICAgICB2YXIgcG9wdXBfZmVmY2Q5Y2FkZDBhNDUwMzlkYzVjMTU3OWFmYWE5ZDkgPSBMLnBvcHVwKHttYXhXaWR0aDogJzMwMCd9KTsKCiAgICAgICAgICAgIAogICAgICAgICAgICAgICAgdmFyIGh0bWxfNDcwYmYxZDVjZmU3NDE2MGIzYzE3YmVjMTNkNzM2NDkgPSAkKCc8ZGl2IGlkPSJodG1sXzQ3MGJmMWQ1Y2ZlNzQxNjBiM2MxN2JlYzEzZDczNjQ5IiBzdHlsZT0id2lkdGg6IDEwMC4wJTsgaGVpZ2h0OiAxMDAuMCU7Ij5TY2FyYm9yb3VnaDwvZGl2PicpWzBdOwogICAgICAgICAgICAgICAgcG9wdXBfZmVmY2Q5Y2FkZDBhNDUwMzlkYzVjMTU3OWFmYWE5ZDkuc2V0Q29udGVudChodG1sXzQ3MGJmMWQ1Y2ZlNzQxNjBiM2MxN2JlYzEzZDczNjQ5KTsKICAgICAgICAgICAgCgogICAgICAgICAgICBtYXJrZXJfMTJhYzZiMmE5MTVhNDYyNWI3YzRiMjFmZTk1N2Q1MjguYmluZFBvcHVwKHBvcHVwX2ZlZmNkOWNhZGQwYTQ1MDM5ZGM1YzE1NzlhZmFhOWQ5KTsKCiAgICAgICAgICAgIAogICAgICAgIAogICAgCgogICAgICAgICAgICB2YXIgbWFya2VyX2U3OTc4OTMxZWIyNjRlNGFhNWQ1ZDcyZTlmMTVhNjFlID0gTC5tYXJrZXIoCiAgICAgICAgICAgICAgICBbNDMuNzg5MDUzLC03OS40MDg0OTI3OTk5OTk5OV0sCiAgICAgICAgICAgICAgICB7CiAgICAgICAgICAgICAgICAgICAgaWNvbjogbmV3IEwuSWNvbi5EZWZhdWx0KCkKICAgICAgICAgICAgICAgICAgICB9CiAgICAgICAgICAgICAgICApCiAgICAgICAgICAgICAgICAuYWRkVG8obWFya2VyX2NsdXN0ZXJfNDhlM2Y2YTdhMDA0NDVmZjlmOWJmMDUwMjA2Mjg2NjIpOwogICAgICAgICAgICAKICAgIAogICAgICAgICAgICB2YXIgcG9wdXBfYmMzMjk5ZTI5YjdiNGJlYzhkZWE0NTVkZmMwMDAzNzMgPSBMLnBvcHVwKHttYXhXaWR0aDogJzMwMCd9KTsKCiAgICAgICAgICAgIAogICAgICAgICAgICAgICAgdmFyIGh0bWxfMzk0MDRjYmQzZjJjNDY2NjliNzhlZGQ2NjliNjc1NWYgPSAkKCc8ZGl2IGlkPSJodG1sXzM5NDA0Y2JkM2YyYzQ2NjY5Yjc4ZWRkNjY5YjY3NTVmIiBzdHlsZT0id2lkdGg6IDEwMC4wJTsgaGVpZ2h0OiAxMDAuMCU7Ij5Ob3J0aFlvcms8L2Rpdj4nKVswXTsKICAgICAgICAgICAgICAgIHBvcHVwX2JjMzI5OWUyOWI3YjRiZWM4ZGVhNDU1ZGZjMDAwMzczLnNldENvbnRlbnQoaHRtbF8zOTQwNGNiZDNmMmM0NjY2OWI3OGVkZDY2OWI2NzU1Zik7CiAgICAgICAgICAgIAoKICAgICAgICAgICAgbWFya2VyX2U3OTc4OTMxZWIyNjRlNGFhNWQ1ZDcyZTlmMTVhNjFlLmJpbmRQb3B1cChwb3B1cF9iYzMyOTllMjliN2I0YmVjOGRlYTQ1NWRmYzAwMDM3Myk7CgogICAgICAgICAgICAKICAgICAgICAKICAgIAoKICAgICAgICAgICAgdmFyIG1hcmtlcl9kZjUzMzdkNjM2ODU0ZTcyYjU3NmJhNzU5YTQ4NGUyMiA9IEwubWFya2VyKAogICAgICAgICAgICAgICAgWzQzLjc2MTYzMTMsLTc5LjUyMDk5OTQwMDAwMDAxXSwKICAgICAgICAgICAgICAgIHsKICAgICAgICAgICAgICAgICAgICBpY29uOiBuZXcgTC5JY29uLkRlZmF1bHQoKQogICAgICAgICAgICAgICAgICAgIH0KICAgICAgICAgICAgICAgICkKICAgICAgICAgICAgICAgIC5hZGRUbyhtYXJrZXJfY2x1c3Rlcl80OGUzZjZhN2EwMDQ0NWZmOWY5YmYwNTAyMDYyODY2Mik7CiAgICAgICAgICAgIAogICAgCiAgICAgICAgICAgIHZhciBwb3B1cF9jNTZkMWMzYjc5OTk0MTk4YmIzMzU5Zjk3YzZjNTlkOCA9IEwucG9wdXAoe21heFdpZHRoOiAnMzAwJ30pOwoKICAgICAgICAgICAgCiAgICAgICAgICAgICAgICB2YXIgaHRtbF8yNDAwMzQxNmU1N2I0ZjFjYTc5YmMxZmE1MTU0MmE0NCA9ICQoJzxkaXYgaWQ9Imh0bWxfMjQwMDM0MTZlNTdiNGYxY2E3OWJjMWZhNTE1NDJhNDQiIHN0eWxlPSJ3aWR0aDogMTAwLjAlOyBoZWlnaHQ6IDEwMC4wJTsiPk5vcnRoWW9yazwvZGl2PicpWzBdOwogICAgICAgICAgICAgICAgcG9wdXBfYzU2ZDFjM2I3OTk5NDE5OGJiMzM1OWY5N2M2YzU5ZDguc2V0Q29udGVudChodG1sXzI0MDAzNDE2ZTU3YjRmMWNhNzliYzFmYTUxNTQyYTQ0KTsKICAgICAgICAgICAgCgogICAgICAgICAgICBtYXJrZXJfZGY1MzM3ZDYzNjg1NGU3MmI1NzZiYTc1OWE0ODRlMjIuYmluZFBvcHVwKHBvcHVwX2M1NmQxYzNiNzk5OTQxOThiYjMzNTlmOTdjNmM1OWQ4KTsKCiAgICAgICAgICAgIAogICAgICAgIAogICAgCgogICAgICAgICAgICB2YXIgbWFya2VyXzdkZDNjZDc2YTkyNjQ3OWM5NmVhZWRjYWMxZTRhY2I1ID0gTC5tYXJrZXIoCiAgICAgICAgICAgICAgICBbNDMuNjUxNTcwNiwtNzkuNDg0NDQ5OV0sCiAgICAgICAgICAgICAgICB7CiAgICAgICAgICAgICAgICAgICAgaWNvbjogbmV3IEwuSWNvbi5EZWZhdWx0KCkKICAgICAgICAgICAgICAgICAgICB9CiAgICAgICAgICAgICAgICApCiAgICAgICAgICAgICAgICAuYWRkVG8obWFya2VyX2NsdXN0ZXJfNDhlM2Y2YTdhMDA0NDVmZjlmOWJmMDUwMjA2Mjg2NjIpOwogICAgICAgICAgICAKICAgIAogICAgICAgICAgICB2YXIgcG9wdXBfNzc5ZWNjYzBkMmZkNGQ4NWFmY2NlNmM1MmI0MWI0OTggPSBMLnBvcHVwKHttYXhXaWR0aDogJzMwMCd9KTsKCiAgICAgICAgICAgIAogICAgICAgICAgICAgICAgdmFyIGh0bWxfMjUxMWM5OGFmZGViNDE2MWIwNjE1NzU5OGNjMGI5ZjAgPSAkKCc8ZGl2IGlkPSJodG1sXzI1MTFjOThhZmRlYjQxNjFiMDYxNTc1OThjYzBiOWYwIiBzdHlsZT0id2lkdGg6IDEwMC4wJTsgaGVpZ2h0OiAxMDAuMCU7Ij5XZXN0VG9yb250bzwvZGl2PicpWzBdOwogICAgICAgICAgICAgICAgcG9wdXBfNzc5ZWNjYzBkMmZkNGQ4NWFmY2NlNmM1MmI0MWI0OTguc2V0Q29udGVudChodG1sXzI1MTFjOThhZmRlYjQxNjFiMDYxNTc1OThjYzBiOWYwKTsKICAgICAgICAgICAgCgogICAgICAgICAgICBtYXJrZXJfN2RkM2NkNzZhOTI2NDc5Yzk2ZWFlZGNhYzFlNGFjYjUuYmluZFBvcHVwKHBvcHVwXzc3OWVjY2MwZDJmZDRkODVhZmNjZTZjNTJiNDFiNDk4KTsKCiAgICAgICAgICAgIAogICAgICAgIAogICAgCgogICAgICAgICAgICB2YXIgbWFya2VyX2Y3OWJhMTVmZWIxYTQ0MGRiOGViYTc5MmI0Y2ZiN2I0ID0gTC5tYXJrZXIoCiAgICAgICAgICAgICAgICBbNDMuNjUwOTQzMiwtNzkuNTU0NzI0NDAwMDAwMDFdLAogICAgICAgICAgICAgICAgewogICAgICAgICAgICAgICAgICAgIGljb246IG5ldyBMLkljb24uRGVmYXVsdCgpCiAgICAgICAgICAgICAgICAgICAgfQogICAgICAgICAgICAgICAgKQogICAgICAgICAgICAgICAgLmFkZFRvKG1hcmtlcl9jbHVzdGVyXzQ4ZTNmNmE3YTAwNDQ1ZmY5ZjliZjA1MDIwNjI4NjYyKTsKICAgICAgICAgICAgCiAgICAKICAgICAgICAgICAgdmFyIHBvcHVwX2VmNTYyMjQxOWEwMTRlOTJiYjE3MDU2N2IxYzg3NDM1ID0gTC5wb3B1cCh7bWF4V2lkdGg6ICczMDAnfSk7CgogICAgICAgICAgICAKICAgICAgICAgICAgICAgIHZhciBodG1sXzM3ZDM2YjFjYTZkZTQwMzBhNmFmZjQ1NGNkYzZiZjJiID0gJCgnPGRpdiBpZD0iaHRtbF8zN2QzNmIxY2E2ZGU0MDMwYTZhZmY0NTRjZGM2YmYyYiIgc3R5bGU9IndpZHRoOiAxMDAuMCU7IGhlaWdodDogMTAwLjAlOyI+RXRvYmljb2tlPC9kaXY+JylbMF07CiAgICAgICAgICAgICAgICBwb3B1cF9lZjU2MjI0MTlhMDE0ZTkyYmIxNzA1NjdiMWM4NzQzNS5zZXRDb250ZW50KGh0bWxfMzdkMzZiMWNhNmRlNDAzMGE2YWZmNDU0Y2RjNmJmMmIpOwogICAgICAgICAgICAKCiAgICAgICAgICAgIG1hcmtlcl9mNzliYTE1ZmViMWE0NDBkYjhlYmE3OTJiNGNmYjdiNC5iaW5kUG9wdXAocG9wdXBfZWY1NjIyNDE5YTAxNGU5MmJiMTcwNTY3YjFjODc0MzUpOwoKICAgICAgICAgICAgCiAgICAgICAgCiAgICAKCiAgICAgICAgICAgIHZhciBtYXJrZXJfODJhOTE4ODVmYWNkNDFmYjhjYWJjNjE1NzAzZWY5YTMgPSBMLm1hcmtlcigKICAgICAgICAgICAgICAgIFs0My42NzYzNTczOTk5OTk5OSwtNzkuMjkzMDMxMl0sCiAgICAgICAgICAgICAgICB7CiAgICAgICAgICAgICAgICAgICAgaWNvbjogbmV3IEwuSWNvbi5EZWZhdWx0KCkKICAgICAgICAgICAgICAgICAgICB9CiAgICAgICAgICAgICAgICApCiAgICAgICAgICAgICAgICAuYWRkVG8obWFya2VyX2NsdXN0ZXJfNDhlM2Y2YTdhMDA0NDVmZjlmOWJmMDUwMjA2Mjg2NjIpOwogICAgICAgICAgICAKICAgIAogICAgICAgICAgICB2YXIgcG9wdXBfNGNmMmE0OWIwNDMwNDhkZDhiZWRmM2RhNjRlMGU0NDMgPSBMLnBvcHVwKHttYXhXaWR0aDogJzMwMCd9KTsKCiAgICAgICAgICAgIAogICAgICAgICAgICAgICAgdmFyIGh0bWxfMzBiOWFmM2FmNTYzNGU2NmJlM2RkOTVjYTgxNTg5YmQgPSAkKCc8ZGl2IGlkPSJodG1sXzMwYjlhZjNhZjU2MzRlNjZiZTNkZDk1Y2E4MTU4OWJkIiBzdHlsZT0id2lkdGg6IDEwMC4wJTsgaGVpZ2h0OiAxMDAuMCU7Ij5FYXN0VG9yb250bzwvZGl2PicpWzBdOwogICAgICAgICAgICAgICAgcG9wdXBfNGNmMmE0OWIwNDMwNDhkZDhiZWRmM2RhNjRlMGU0NDMuc2V0Q29udGVudChodG1sXzMwYjlhZjNhZjU2MzRlNjZiZTNkZDk1Y2E4MTU4OWJkKTsKICAgICAgICAgICAgCgogICAgICAgICAgICBtYXJrZXJfODJhOTE4ODVmYWNkNDFmYjhjYWJjNjE1NzAzZWY5YTMuYmluZFBvcHVwKHBvcHVwXzRjZjJhNDliMDQzMDQ4ZGQ4YmVkZjNkYTY0ZTBlNDQzKTsKCiAgICAgICAgICAgIAogICAgICAgIAogICAgCgogICAgICAgICAgICB2YXIgbWFya2VyXzIzMjdhYmNiMzZiODQzODVhM2JiZTg2MDhhMzI0OWFhID0gTC5tYXJrZXIoCiAgICAgICAgICAgICAgICBbNDMuNzU2MzAzMywtNzkuNTY1OTYzMjk5OTk5OTldLAogICAgICAgICAgICAgICAgewogICAgICAgICAgICAgICAgICAgIGljb246IG5ldyBMLkljb24uRGVmYXVsdCgpCiAgICAgICAgICAgICAgICAgICAgfQogICAgICAgICAgICAgICAgKQogICAgICAgICAgICAgICAgLmFkZFRvKG1hcmtlcl9jbHVzdGVyXzQ4ZTNmNmE3YTAwNDQ1ZmY5ZjliZjA1MDIwNjI4NjYyKTsKICAgICAgICAgICAgCiAgICAKICAgICAgICAgICAgdmFyIHBvcHVwX2M2MDNhY2NlMWUzMTQ3OTRiZDdhYTA1MmJlZGQ1ZGUxID0gTC5wb3B1cCh7bWF4V2lkdGg6ICczMDAnfSk7CgogICAgICAgICAgICAKICAgICAgICAgICAgICAgIHZhciBodG1sXzY2MTNlZmJiN2JkOTRmNGFiMGIzY2UyMWViZjQ1ZDVkID0gJCgnPGRpdiBpZD0iaHRtbF82NjEzZWZiYjdiZDk0ZjRhYjBiM2NlMjFlYmY0NWQ1ZCIgc3R5bGU9IndpZHRoOiAxMDAuMCU7IGhlaWdodDogMTAwLjAlOyI+Tm9ydGhZb3JrPC9kaXY+JylbMF07CiAgICAgICAgICAgICAgICBwb3B1cF9jNjAzYWNjZTFlMzE0Nzk0YmQ3YWEwNTJiZWRkNWRlMS5zZXRDb250ZW50KGh0bWxfNjYxM2VmYmI3YmQ5NGY0YWIwYjNjZTIxZWJmNDVkNWQpOwogICAgICAgICAgICAKCiAgICAgICAgICAgIG1hcmtlcl8yMzI3YWJjYjM2Yjg0Mzg1YTNiYmU4NjA4YTMyNDlhYS5iaW5kUG9wdXAocG9wdXBfYzYwM2FjY2UxZTMxNDc5NGJkN2FhMDUyYmVkZDVkZTEpOwoKICAgICAgICAgICAgCiAgICAgICAgCiAgICAKCiAgICAgICAgICAgIHZhciBtYXJrZXJfMzg5N2I4ZDI2ZWFiNGEwY2IzYTU0Mzc5NjJiYWYxOWUgPSBMLm1hcmtlcigKICAgICAgICAgICAgICAgIFs0My42MzYyNTc5LC03OS40OTg1MDkwOTk5OTk5OV0sCiAgICAgICAgICAgICAgICB7CiAgICAgICAgICAgICAgICAgICAgaWNvbjogbmV3IEwuSWNvbi5EZWZhdWx0KCkKICAgICAgICAgICAgICAgICAgICB9CiAgICAgICAgICAgICAgICApCiAgICAgICAgICAgICAgICAuYWRkVG8obWFya2VyX2NsdXN0ZXJfNDhlM2Y2YTdhMDA0NDVmZjlmOWJmMDUwMjA2Mjg2NjIpOwogICAgICAgICAgICAKICAgIAogICAgICAgICAgICB2YXIgcG9wdXBfM2E1MTI2Y2RjNzY5NDg3NWIwZmYwNTE1NzJkMWY5ZDQgPSBMLnBvcHVwKHttYXhXaWR0aDogJzMwMCd9KTsKCiAgICAgICAgICAgIAogICAgICAgICAgICAgICAgdmFyIGh0bWxfOWMwYWM5ZTAzNWYzNGM3OWI5ZTgwYjA5ZTBkN2QxNzQgPSAkKCc8ZGl2IGlkPSJodG1sXzljMGFjOWUwMzVmMzRjNzliOWU4MGIwOWUwZDdkMTc0IiBzdHlsZT0id2lkdGg6IDEwMC4wJTsgaGVpZ2h0OiAxMDAuMCU7Ij5FdG9iaWNva2U8L2Rpdj4nKVswXTsKICAgICAgICAgICAgICAgIHBvcHVwXzNhNTEyNmNkYzc2OTQ4NzViMGZmMDUxNTcyZDFmOWQ0LnNldENvbnRlbnQoaHRtbF85YzBhYzllMDM1ZjM0Yzc5YjllODBiMDllMGQ3ZDE3NCk7CiAgICAgICAgICAgIAoKICAgICAgICAgICAgbWFya2VyXzM4OTdiOGQyNmVhYjRhMGNiM2E1NDM3OTYyYmFmMTllLmJpbmRQb3B1cChwb3B1cF8zYTUxMjZjZGM3Njk0ODc1YjBmZjA1MTU3MmQxZjlkNCk7CgogICAgICAgICAgICAKICAgICAgICAKICAgIAoKICAgICAgICAgICAgdmFyIG1hcmtlcl9lYTBiMmU0M2ZkZTM0ZmI3OTg2MWI2OTNjMzI5YmJiZiA9IEwubWFya2VyKAogICAgICAgICAgICAgICAgWzQzLjczOTQxNjM5OTk5OTk5NiwtNzkuNTg4NDM2OV0sCiAgICAgICAgICAgICAgICB7CiAgICAgICAgICAgICAgICAgICAgaWNvbjogbmV3IEwuSWNvbi5EZWZhdWx0KCkKICAgICAgICAgICAgICAgICAgICB9CiAgICAgICAgICAgICAgICApCiAgICAgICAgICAgICAgICAuYWRkVG8obWFya2VyX2NsdXN0ZXJfNDhlM2Y2YTdhMDA0NDVmZjlmOWJmMDUwMjA2Mjg2NjIpOwogICAgICAgICAgICAKICAgIAogICAgICAgICAgICB2YXIgcG9wdXBfMWI3MjIxYzFlYzE2NDg0MDk2MGU4ZTBhMjE4NGYyMDggPSBMLnBvcHVwKHttYXhXaWR0aDogJzMwMCd9KTsKCiAgICAgICAgICAgIAogICAgICAgICAgICAgICAgdmFyIGh0bWxfZjU1MjViYjc1YTJmNDY4ZTgyZTAyYTEwYzc0NDQ4NDQgPSAkKCc8ZGl2IGlkPSJodG1sX2Y1NTI1YmI3NWEyZjQ2OGU4MmUwMmExMGM3NDQ0ODQ0IiBzdHlsZT0id2lkdGg6IDEwMC4wJTsgaGVpZ2h0OiAxMDAuMCU7Ij5FdG9iaWNva2U8L2Rpdj4nKVswXTsKICAgICAgICAgICAgICAgIHBvcHVwXzFiNzIyMWMxZWMxNjQ4NDA5NjBlOGUwYTIxODRmMjA4LnNldENvbnRlbnQoaHRtbF9mNTUyNWJiNzVhMmY0NjhlODJlMDJhMTBjNzQ0NDg0NCk7CiAgICAgICAgICAgIAoKICAgICAgICAgICAgbWFya2VyX2VhMGIyZTQzZmRlMzRmYjc5ODYxYjY5M2MzMjliYmJmLmJpbmRQb3B1cChwb3B1cF8xYjcyMjFjMWVjMTY0ODQwOTYwZThlMGEyMTg0ZjIwOCk7CgogICAgICAgICAgICAKICAgICAgICAKICAgIAoKICAgICAgICAgICAgdmFyIG1hcmtlcl8xYmZhYmNlYjNiYzA0OTA0OTQwYWNjMWI2NDI2YzE3YyA9IEwubWFya2VyKAogICAgICAgICAgICAgICAgWzQzLjc1Mjc1ODI5OTk5OTk5NiwtNzkuNDAwMDQ5M10sCiAgICAgICAgICAgICAgICB7CiAgICAgICAgICAgICAgICAgICAgaWNvbjogbmV3IEwuSWNvbi5EZWZhdWx0KCkKICAgICAgICAgICAgICAgICAgICB9CiAgICAgICAgICAgICAgICApCiAgICAgICAgICAgICAgICAuYWRkVG8obWFya2VyX2NsdXN0ZXJfNDhlM2Y2YTdhMDA0NDVmZjlmOWJmMDUwMjA2Mjg2NjIpOwogICAgICAgICAgICAKICAgIAogICAgICAgICAgICB2YXIgcG9wdXBfYWVmZDA1YzQxNTYyNGNjZTlkMDU0ZjA1NGNkYzY0MDAgPSBMLnBvcHVwKHttYXhXaWR0aDogJzMwMCd9KTsKCiAgICAgICAgICAgIAogICAgICAgICAgICAgICAgdmFyIGh0bWxfYmJlOTZkNmY1OTExNDk3NWE3NzViODJmMTEwMTU3MzUgPSAkKCc8ZGl2IGlkPSJodG1sX2JiZTk2ZDZmNTkxMTQ5NzVhNzc1YjgyZjExMDE1NzM1IiBzdHlsZT0id2lkdGg6IDEwMC4wJTsgaGVpZ2h0OiAxMDAuMCU7Ij5Ob3J0aFlvcms8L2Rpdj4nKVswXTsKICAgICAgICAgICAgICAgIHBvcHVwX2FlZmQwNWM0MTU2MjRjY2U5ZDA1NGYwNTRjZGM2NDAwLnNldENvbnRlbnQoaHRtbF9iYmU5NmQ2ZjU5MTE0OTc1YTc3NWI4MmYxMTAxNTczNSk7CiAgICAgICAgICAgIAoKICAgICAgICAgICAgbWFya2VyXzFiZmFiY2ViM2JjMDQ5MDQ5NDBhY2MxYjY0MjZjMTdjLmJpbmRQb3B1cChwb3B1cF9hZWZkMDVjNDE1NjI0Y2NlOWQwNTRmMDU0Y2RjNjQwMCk7CgogICAgICAgICAgICAKICAgICAgICAKICAgIAoKICAgICAgICAgICAgdmFyIG1hcmtlcl8xYjg1ZTZkM2E5Njk0ZjQ2Yjk1ZmFiMmU4ZjBhNDA1NSA9IEwubWFya2VyKAogICAgICAgICAgICAgICAgWzQzLjY4OTAyNTYsLTc5LjQ1MzUxMl0sCiAgICAgICAgICAgICAgICB7CiAgICAgICAgICAgICAgICAgICAgaWNvbjogbmV3IEwuSWNvbi5EZWZhdWx0KCkKICAgICAgICAgICAgICAgICAgICB9CiAgICAgICAgICAgICAgICApCiAgICAgICAgICAgICAgICAuYWRkVG8obWFya2VyX2NsdXN0ZXJfNDhlM2Y2YTdhMDA0NDVmZjlmOWJmMDUwMjA2Mjg2NjIpOwogICAgICAgICAgICAKICAgIAogICAgICAgICAgICB2YXIgcG9wdXBfMzdhZDEzMWUxYTJhNDZiNzg0NTljZWU2YTg3YTU1ZWUgPSBMLnBvcHVwKHttYXhXaWR0aDogJzMwMCd9KTsKCiAgICAgICAgICAgIAogICAgICAgICAgICAgICAgdmFyIGh0bWxfMzFkNmNjNzcxMDU0NGRkZGFkN2MxNzI3Y2E1OGUwYzIgPSAkKCc8ZGl2IGlkPSJodG1sXzMxZDZjYzc3MTA1NDRkZGRhZDdjMTcyN2NhNThlMGMyIiBzdHlsZT0id2lkdGg6IDEwMC4wJTsgaGVpZ2h0OiAxMDAuMCU7Ij5Zb3JrPC9kaXY+JylbMF07CiAgICAgICAgICAgICAgICBwb3B1cF8zN2FkMTMxZTFhMmE0NmI3ODQ1OWNlZTZhODdhNTVlZS5zZXRDb250ZW50KGh0bWxfMzFkNmNjNzcxMDU0NGRkZGFkN2MxNzI3Y2E1OGUwYzIpOwogICAgICAgICAgICAKCiAgICAgICAgICAgIG1hcmtlcl8xYjg1ZTZkM2E5Njk0ZjQ2Yjk1ZmFiMmU4ZjBhNDA1NS5iaW5kUG9wdXAocG9wdXBfMzdhZDEzMWUxYTJhNDZiNzg0NTljZWU2YTg3YTU1ZWUpOwoKICAgICAgICAgICAgCiAgICAgICAgCiAgICAKCiAgICAgICAgICAgIHZhciBtYXJrZXJfMzE2ZWIzYjc2ZTJhNDY5OWE2ZjU4Yjc2YzY0ZmY0NTkgPSBMLm1hcmtlcigKICAgICAgICAgICAgICAgIFs0My42NDgxOTg1LC03OS4zNzk4MTY5MDAwMDAwMV0sCiAgICAgICAgICAgICAgICB7CiAgICAgICAgICAgICAgICAgICAgaWNvbjogbmV3IEwuSWNvbi5EZWZhdWx0KCkKICAgICAgICAgICAgICAgICAgICB9CiAgICAgICAgICAgICAgICApCiAgICAgICAgICAgICAgICAuYWRkVG8obWFya2VyX2NsdXN0ZXJfNDhlM2Y2YTdhMDA0NDVmZjlmOWJmMDUwMjA2Mjg2NjIpOwogICAgICAgICAgICAKICAgIAogICAgICAgICAgICB2YXIgcG9wdXBfYzNhMWVlYTAxMGZlNDQ4ZTg0MTRhZjhhNTlkMDMwYjkgPSBMLnBvcHVwKHttYXhXaWR0aDogJzMwMCd9KTsKCiAgICAgICAgICAgIAogICAgICAgICAgICAgICAgdmFyIGh0bWxfMjA2YmNjY2E5NGEwNDY4YWEyY2M0MDg3NTI5OGM3NmQgPSAkKCc8ZGl2IGlkPSJodG1sXzIwNmJjY2NhOTRhMDQ2OGFhMmNjNDA4NzUyOThjNzZkIiBzdHlsZT0id2lkdGg6IDEwMC4wJTsgaGVpZ2h0OiAxMDAuMCU7Ij5Eb3dudG93blRvcm9udG88L2Rpdj4nKVswXTsKICAgICAgICAgICAgICAgIHBvcHVwX2MzYTFlZWEwMTBmZTQ0OGU4NDE0YWY4YTU5ZDAzMGI5LnNldENvbnRlbnQoaHRtbF8yMDZiY2NjYTk0YTA0NjhhYTJjYzQwODc1Mjk4Yzc2ZCk7CiAgICAgICAgICAgIAoKICAgICAgICAgICAgbWFya2VyXzMxNmViM2I3NmUyYTQ2OTlhNmY1OGI3NmM2NGZmNDU5LmJpbmRQb3B1cChwb3B1cF9jM2ExZWVhMDEwZmU0NDhlODQxNGFmOGE1OWQwMzBiOSk7CgogICAgICAgICAgICAKICAgICAgICAKICAgIAoKICAgICAgICAgICAgdmFyIG1hcmtlcl81NWY5OTJmZGVmNzQ0NmU0OWQxNTIwNDQyYWYxNDRmZCA9IEwubWFya2VyKAogICAgICAgICAgICAgICAgWzQzLjYyODk0NjcsLTc5LjM5NDQxOTldLAogICAgICAgICAgICAgICAgewogICAgICAgICAgICAgICAgICAgIGljb246IG5ldyBMLkljb24uRGVmYXVsdCgpCiAgICAgICAgICAgICAgICAgICAgfQogICAgICAgICAgICAgICAgKQogICAgICAgICAgICAgICAgLmFkZFRvKG1hcmtlcl9jbHVzdGVyXzQ4ZTNmNmE3YTAwNDQ1ZmY5ZjliZjA1MDIwNjI4NjYyKTsKICAgICAgICAgICAgCiAgICAKICAgICAgICAgICAgdmFyIHBvcHVwXzgwYmQyNmM3MjY2NDRlYzdhODE2YTc4NjlhMTk5YzIyID0gTC5wb3B1cCh7bWF4V2lkdGg6ICczMDAnfSk7CgogICAgICAgICAgICAKICAgICAgICAgICAgICAgIHZhciBodG1sXzJmYzk3NWE0ZTg2MTQxYmViZDcwY2Y0NTc0MGZlZmRjID0gJCgnPGRpdiBpZD0iaHRtbF8yZmM5NzVhNGU4NjE0MWJlYmQ3MGNmNDU3NDBmZWZkYyIgc3R5bGU9IndpZHRoOiAxMDAuMCU7IGhlaWdodDogMTAwLjAlOyI+RG93bnRvd25Ub3JvbnRvPC9kaXY+JylbMF07CiAgICAgICAgICAgICAgICBwb3B1cF84MGJkMjZjNzI2NjQ0ZWM3YTgxNmE3ODY5YTE5OWMyMi5zZXRDb250ZW50KGh0bWxfMmZjOTc1YTRlODYxNDFiZWJkNzBjZjQ1NzQwZmVmZGMpOwogICAgICAgICAgICAKCiAgICAgICAgICAgIG1hcmtlcl81NWY5OTJmZGVmNzQ0NmU0OWQxNTIwNDQyYWYxNDRmZC5iaW5kUG9wdXAocG9wdXBfODBiZDI2YzcyNjY0NGVjN2E4MTZhNzg2OWExOTljMjIpOwoKICAgICAgICAgICAgCiAgICAgICAgCiAgICAKCiAgICAgICAgICAgIHZhciBtYXJrZXJfYmYwZTk1MzhkOTk3NDZlOTk3ODVjMWJiMjg3NWI4MzUgPSBMLm1hcmtlcigKICAgICAgICAgICAgICAgIFs0My42NDg0MjkyLC03OS4zODIyODAyXSwKICAgICAgICAgICAgICAgIHsKICAgICAgICAgICAgICAgICAgICBpY29uOiBuZXcgTC5JY29uLkRlZmF1bHQoKQogICAgICAgICAgICAgICAgICAgIH0KICAgICAgICAgICAgICAgICkKICAgICAgICAgICAgICAgIC5hZGRUbyhtYXJrZXJfY2x1c3Rlcl80OGUzZjZhN2EwMDQ0NWZmOWY5YmYwNTAyMDYyODY2Mik7CiAgICAgICAgICAgIAogICAgCiAgICAgICAgICAgIHZhciBwb3B1cF9iMWFjYTIwYjBkZTc0ZDQxODBmOTFmNTc0YWU0NGU0ZCA9IEwucG9wdXAoe21heFdpZHRoOiAnMzAwJ30pOwoKICAgICAgICAgICAgCiAgICAgICAgICAgICAgICB2YXIgaHRtbF9iYzE3NzM3NDI0MDQ0MDJmODQ4NDEwZGExY2FjMjUwZSA9ICQoJzxkaXYgaWQ9Imh0bWxfYmMxNzczNzQyNDA0NDAyZjg0ODQxMGRhMWNhYzI1MGUiIHN0eWxlPSJ3aWR0aDogMTAwLjAlOyBoZWlnaHQ6IDEwMC4wJTsiPkRvd250b3duVG9yb250bzwvZGl2PicpWzBdOwogICAgICAgICAgICAgICAgcG9wdXBfYjFhY2EyMGIwZGU3NGQ0MTgwZjkxZjU3NGFlNDRlNGQuc2V0Q29udGVudChodG1sX2JjMTc3Mzc0MjQwNDQwMmY4NDg0MTBkYTFjYWMyNTBlKTsKICAgICAgICAgICAgCgogICAgICAgICAgICBtYXJrZXJfYmYwZTk1MzhkOTk3NDZlOTk3ODVjMWJiMjg3NWI4MzUuYmluZFBvcHVwKHBvcHVwX2IxYWNhMjBiMGRlNzRkNDE4MGY5MWY1NzRhZTQ0ZTRkKTsKCiAgICAgICAgICAgIAogICAgICAgIAogICAgCgogICAgICAgICAgICB2YXIgbWFya2VyX2UzNDBkYzZiZjk5NTRiMjM4NWJhNTExNDAyMTE3NGYxID0gTC5tYXJrZXIoCiAgICAgICAgICAgICAgICBbNDMuNjg4OTA1NCwtNzkuNTU0NzI0NDAwMDAwMDFdLAogICAgICAgICAgICAgICAgewogICAgICAgICAgICAgICAgICAgIGljb246IG5ldyBMLkljb24uRGVmYXVsdCgpCiAgICAgICAgICAgICAgICAgICAgfQogICAgICAgICAgICAgICAgKQogICAgICAgICAgICAgICAgLmFkZFRvKG1hcmtlcl9jbHVzdGVyXzQ4ZTNmNmE3YTAwNDQ1ZmY5ZjliZjA1MDIwNjI4NjYyKTsKICAgICAgICAgICAgCiAgICAKICAgICAgICAgICAgdmFyIHBvcHVwXzlhMTM4YTU1MmFkNzRhOTk5ZWY5OGViMWYxYmMxOTI0ID0gTC5wb3B1cCh7bWF4V2lkdGg6ICczMDAnfSk7CgogICAgICAgICAgICAKICAgICAgICAgICAgICAgIHZhciBodG1sXzlmZWQwMTJiZDAwMDQ2YzJhY2QxODVmMjJlMDMwYWYzID0gJCgnPGRpdiBpZD0iaHRtbF85ZmVkMDEyYmQwMDA0NmMyYWNkMTg1ZjIyZTAzMGFmMyIgc3R5bGU9IndpZHRoOiAxMDAuMCU7IGhlaWdodDogMTAwLjAlOyI+RXRvYmljb2tlPC9kaXY+JylbMF07CiAgICAgICAgICAgICAgICBwb3B1cF85YTEzOGE1NTJhZDc0YTk5OWVmOThlYjFmMWJjMTkyNC5zZXRDb250ZW50KGh0bWxfOWZlZDAxMmJkMDAwNDZjMmFjZDE4NWYyMmUwMzBhZjMpOwogICAgICAgICAgICAKCiAgICAgICAgICAgIG1hcmtlcl9lMzQwZGM2YmY5OTU0YjIzODViYTUxMTQwMjExNzRmMS5iaW5kUG9wdXAocG9wdXBfOWExMzhhNTUyYWQ3NGE5OTllZjk4ZWIxZjFiYzE5MjQpOwoKICAgICAgICAgICAgCiAgICAgICAgCiAgICAKCiAgICAgICAgICAgIHZhciBtYXJrZXJfYzRmNWFhZTY3NWVmNDE0OWIwOTdkYWFiODI0M2I1MWYgPSBMLm1hcmtlcigKICAgICAgICAgICAgICAgIFs0My43MDYzOTcyLC03OS4zMDk5MzddLAogICAgICAgICAgICAgICAgewogICAgICAgICAgICAgICAgICAgIGljb246IG5ldyBMLkljb24uRGVmYXVsdCgpCiAgICAgICAgICAgICAgICAgICAgfQogICAgICAgICAgICAgICAgKQogICAgICAgICAgICAgICAgLmFkZFRvKG1hcmtlcl9jbHVzdGVyXzQ4ZTNmNmE3YTAwNDQ1ZmY5ZjliZjA1MDIwNjI4NjYyKTsKICAgICAgICAgICAgCiAgICAKICAgICAgICAgICAgdmFyIHBvcHVwX2M3ZjJlMzJlN2JlODQxYWJhN2IzNjQ5ZGIyOTI3ZDQ2ID0gTC5wb3B1cCh7bWF4V2lkdGg6ICczMDAnfSk7CgogICAgICAgICAgICAKICAgICAgICAgICAgICAgIHZhciBodG1sXzI4NGFiYWM4OTUyYjQ2YzZhYTAxNjRiZTAwZGRkNTk4ID0gJCgnPGRpdiBpZD0iaHRtbF8yODRhYmFjODk1MmI0NmM2YWEwMTY0YmUwMGRkZDU5OCIgc3R5bGU9IndpZHRoOiAxMDAuMCU7IGhlaWdodDogMTAwLjAlOyI+RWFzdFlvcms8L2Rpdj4nKVswXTsKICAgICAgICAgICAgICAgIHBvcHVwX2M3ZjJlMzJlN2JlODQxYWJhN2IzNjQ5ZGIyOTI3ZDQ2LnNldENvbnRlbnQoaHRtbF8yODRhYmFjODk1MmI0NmM2YWEwMTY0YmUwMGRkZDU5OCk7CiAgICAgICAgICAgIAoKICAgICAgICAgICAgbWFya2VyX2M0ZjVhYWU2NzVlZjQxNDliMDk3ZGFhYjgyNDNiNTFmLmJpbmRQb3B1cChwb3B1cF9jN2YyZTMyZTdiZTg0MWFiYTdiMzY0OWRiMjkyN2Q0Nik7CgogICAgICAgICAgICAKICAgICAgICAKICAgIAoKICAgICAgICAgICAgdmFyIG1hcmtlcl8yOTRiNGI1YzQ2MTE0ZDVkYTU1ODk1ZWY5NGVhOGNkMCA9IEwubWFya2VyKAogICAgICAgICAgICAgICAgWzQzLjY3OTU1NzEsLTc5LjM1MjE4OF0sCiAgICAgICAgICAgICAgICB7CiAgICAgICAgICAgICAgICAgICAgaWNvbjogbmV3IEwuSWNvbi5EZWZhdWx0KCkKICAgICAgICAgICAgICAgICAgICB9CiAgICAgICAgICAgICAgICApCiAgICAgICAgICAgICAgICAuYWRkVG8obWFya2VyX2NsdXN0ZXJfNDhlM2Y2YTdhMDA0NDVmZjlmOWJmMDUwMjA2Mjg2NjIpOwogICAgICAgICAgICAKICAgIAogICAgICAgICAgICB2YXIgcG9wdXBfNzZkNGY5NjY3NzBkNDM4OWE0MzUwN2E4YzMwZGY3MWUgPSBMLnBvcHVwKHttYXhXaWR0aDogJzMwMCd9KTsKCiAgICAgICAgICAgIAogICAgICAgICAgICAgICAgdmFyIGh0bWxfOGZkOWVhNGE4NzQwNGFhMGE2NDMwZTA1NWNhMjExYmUgPSAkKCc8ZGl2IGlkPSJodG1sXzhmZDllYTRhODc0MDRhYTBhNjQzMGUwNTVjYTIxMWJlIiBzdHlsZT0id2lkdGg6IDEwMC4wJTsgaGVpZ2h0OiAxMDAuMCU7Ij5FYXN0VG9yb250bzwvZGl2PicpWzBdOwogICAgICAgICAgICAgICAgcG9wdXBfNzZkNGY5NjY3NzBkNDM4OWE0MzUwN2E4YzMwZGY3MWUuc2V0Q29udGVudChodG1sXzhmZDllYTRhODc0MDRhYTBhNjQzMGUwNTVjYTIxMWJlKTsKICAgICAgICAgICAgCgogICAgICAgICAgICBtYXJrZXJfMjk0YjRiNWM0NjExNGQ1ZGE1NTg5NWVmOTRlYThjZDAuYmluZFBvcHVwKHBvcHVwXzc2ZDRmOTY2NzcwZDQzODlhNDM1MDdhOGMzMGRmNzFlKTsKCiAgICAgICAgICAgIAogICAgICAgIAogICAgCgogICAgICAgICAgICB2YXIgbWFya2VyXzQyZjA3OTVhMzg3YjRhOWI4MWQ4MjZhZjhiNTA0MDBjID0gTC5tYXJrZXIoCiAgICAgICAgICAgICAgICBbNDMuNzExNjk0OCwtNzkuNDE2OTM1NTk5OTk5OTldLAogICAgICAgICAgICAgICAgewogICAgICAgICAgICAgICAgICAgIGljb246IG5ldyBMLkljb24uRGVmYXVsdCgpCiAgICAgICAgICAgICAgICAgICAgfQogICAgICAgICAgICAgICAgKQogICAgICAgICAgICAgICAgLmFkZFRvKG1hcmtlcl9jbHVzdGVyXzQ4ZTNmNmE3YTAwNDQ1ZmY5ZjliZjA1MDIwNjI4NjYyKTsKICAgICAgICAgICAgCiAgICAKICAgICAgICAgICAgdmFyIHBvcHVwXzgwMmU4NTAwMDJlOTRmMTQ5Nzg4Y2RjNGQ2N2ZmOWU2ID0gTC5wb3B1cCh7bWF4V2lkdGg6ICczMDAnfSk7CgogICAgICAgICAgICAKICAgICAgICAgICAgICAgIHZhciBodG1sXzY3NmViYjFlM2VjMTRhOTE4YTljZWM0MGE0N2NiZGQzID0gJCgnPGRpdiBpZD0iaHRtbF82NzZlYmIxZTNlYzE0YTkxOGE5Y2VjNDBhNDdjYmRkMyIgc3R5bGU9IndpZHRoOiAxMDAuMCU7IGhlaWdodDogMTAwLjAlOyI+Q2VudHJhbFRvcm9udG88L2Rpdj4nKVswXTsKICAgICAgICAgICAgICAgIHBvcHVwXzgwMmU4NTAwMDJlOTRmMTQ5Nzg4Y2RjNGQ2N2ZmOWU2LnNldENvbnRlbnQoaHRtbF82NzZlYmIxZTNlYzE0YTkxOGE5Y2VjNDBhNDdjYmRkMyk7CiAgICAgICAgICAgIAoKICAgICAgICAgICAgbWFya2VyXzQyZjA3OTVhMzg3YjRhOWI4MWQ4MjZhZjhiNTA0MDBjLmJpbmRQb3B1cChwb3B1cF84MDJlODUwMDAyZTk0ZjE0OTc4OGNkYzRkNjdmZjllNik7CgogICAgICAgICAgICAKICAgICAgICAKICAgIAoKICAgICAgICAgICAgdmFyIG1hcmtlcl9mYWMxNGQyYWU0M2Q0MGJhYjMxNGVkNzA5NTNjNzgyMCA9IEwubWFya2VyKAogICAgICAgICAgICAgICAgWzQzLjcwNjg3NiwtNzkuNTE4MTg4NDAwMDAwMDFdLAogICAgICAgICAgICAgICAgewogICAgICAgICAgICAgICAgICAgIGljb246IG5ldyBMLkljb24uRGVmYXVsdCgpCiAgICAgICAgICAgICAgICAgICAgfQogICAgICAgICAgICAgICAgKQogICAgICAgICAgICAgICAgLmFkZFRvKG1hcmtlcl9jbHVzdGVyXzQ4ZTNmNmE3YTAwNDQ1ZmY5ZjliZjA1MDIwNjI4NjYyKTsKICAgICAgICAgICAgCiAgICAKICAgICAgICAgICAgdmFyIHBvcHVwXzU0MDk4YmJmMGQwYjRlMDdhNmI5ZGY3YzEwNTAyNDkyID0gTC5wb3B1cCh7bWF4V2lkdGg6ICczMDAnfSk7CgogICAgICAgICAgICAKICAgICAgICAgICAgICAgIHZhciBodG1sX2EwZTEzNzc3MjRlOTQ3NWRhNzQ0OGM3Yzc3ZTkwYzdhID0gJCgnPGRpdiBpZD0iaHRtbF9hMGUxMzc3NzI0ZTk0NzVkYTc0NDhjN2M3N2U5MGM3YSIgc3R5bGU9IndpZHRoOiAxMDAuMCU7IGhlaWdodDogMTAwLjAlOyI+WW9yazwvZGl2PicpWzBdOwogICAgICAgICAgICAgICAgcG9wdXBfNTQwOThiYmYwZDBiNGUwN2E2YjlkZjdjMTA1MDI0OTIuc2V0Q29udGVudChodG1sX2EwZTEzNzc3MjRlOTQ3NWRhNzQ0OGM3Yzc3ZTkwYzdhKTsKICAgICAgICAgICAgCgogICAgICAgICAgICBtYXJrZXJfZmFjMTRkMmFlNDNkNDBiYWIzMTRlZDcwOTUzYzc4MjAuYmluZFBvcHVwKHBvcHVwXzU0MDk4YmJmMGQwYjRlMDdhNmI5ZGY3YzEwNTAyNDkyKTsKCiAgICAgICAgICAgIAogICAgICAgIAogICAgCgogICAgICAgICAgICB2YXIgbWFya2VyXzFiOTQ1NmZhYjgyYzQ4NTRhZGE0MWMxMmVmNzEzZmE1ID0gTC5tYXJrZXIoCiAgICAgICAgICAgICAgICBbNDMuNzc4NTE3NSwtNzkuMzQ2NTU1N10sCiAgICAgICAgICAgICAgICB7CiAgICAgICAgICAgICAgICAgICAgaWNvbjogbmV3IEwuSWNvbi5EZWZhdWx0KCkKICAgICAgICAgICAgICAgICAgICB9CiAgICAgICAgICAgICAgICApCiAgICAgICAgICAgICAgICAuYWRkVG8obWFya2VyX2NsdXN0ZXJfNDhlM2Y2YTdhMDA0NDVmZjlmOWJmMDUwMjA2Mjg2NjIpOwogICAgICAgICAgICAKICAgIAogICAgICAgICAgICB2YXIgcG9wdXBfYzhhZjY4ZGVhOTdiNDYwZTg5NGY4YjY1NDMxNDE3NTcgPSBMLnBvcHVwKHttYXhXaWR0aDogJzMwMCd9KTsKCiAgICAgICAgICAgIAogICAgICAgICAgICAgICAgdmFyIGh0bWxfYmUxZWZlYWVmODYwNDNiMTkyMDBkMTIwOTM2MzI1OGMgPSAkKCc8ZGl2IGlkPSJodG1sX2JlMWVmZWFlZjg2MDQzYjE5MjAwZDEyMDkzNjMyNThjIiBzdHlsZT0id2lkdGg6IDEwMC4wJTsgaGVpZ2h0OiAxMDAuMCU7Ij5Ob3J0aFlvcms8L2Rpdj4nKVswXTsKICAgICAgICAgICAgICAgIHBvcHVwX2M4YWY2OGRlYTk3YjQ2MGU4OTRmOGI2NTQzMTQxNzU3LnNldENvbnRlbnQoaHRtbF9iZTFlZmVhZWY4NjA0M2IxOTIwMGQxMjA5MzYzMjU4Yyk7CiAgICAgICAgICAgIAoKICAgICAgICAgICAgbWFya2VyXzFiOTQ1NmZhYjgyYzQ4NTRhZGE0MWMxMmVmNzEzZmE1LmJpbmRQb3B1cChwb3B1cF9jOGFmNjhkZWE5N2I0NjBlODk0ZjhiNjU0MzE0MTc1Nyk7CgogICAgICAgICAgICAKICAgICAgICAKICAgIAoKICAgICAgICAgICAgdmFyIG1hcmtlcl8wNTQxMzE2MzZjNWU0MjUxODdlNzQ5NjQ1YmM5NjU5ZCA9IEwubWFya2VyKAogICAgICAgICAgICAgICAgWzQzLjcyODAyMDUsLTc5LjM4ODc5MDFdLAogICAgICAgICAgICAgICAgewogICAgICAgICAgICAgICAgICAgIGljb246IG5ldyBMLkljb24uRGVmYXVsdCgpCiAgICAgICAgICAgICAgICAgICAgfQogICAgICAgICAgICAgICAgKQogICAgICAgICAgICAgICAgLmFkZFRvKG1hcmtlcl9jbHVzdGVyXzQ4ZTNmNmE3YTAwNDQ1ZmY5ZjliZjA1MDIwNjI4NjYyKTsKICAgICAgICAgICAgCiAgICAKICAgICAgICAgICAgdmFyIHBvcHVwX2ZjMDBiNjU5M2I3YjRhNDE4ZTMyMThmNzIwODUxMjEyID0gTC5wb3B1cCh7bWF4V2lkdGg6ICczMDAnfSk7CgogICAgICAgICAgICAKICAgICAgICAgICAgICAgIHZhciBodG1sXzY5YzYxZmNkNTJjMjRhNjI5NTY4NTRiODZiMDg3MDk5ID0gJCgnPGRpdiBpZD0iaHRtbF82OWM2MWZjZDUyYzI0YTYyOTU2ODU0Yjg2YjA4NzA5OSIgc3R5bGU9IndpZHRoOiAxMDAuMCU7IGhlaWdodDogMTAwLjAlOyI+Q2VudHJhbFRvcm9udG88L2Rpdj4nKVswXTsKICAgICAgICAgICAgICAgIHBvcHVwX2ZjMDBiNjU5M2I3YjRhNDE4ZTMyMThmNzIwODUxMjEyLnNldENvbnRlbnQoaHRtbF82OWM2MWZjZDUyYzI0YTYyOTU2ODU0Yjg2YjA4NzA5OSk7CiAgICAgICAgICAgIAoKICAgICAgICAgICAgbWFya2VyXzA1NDEzMTYzNmM1ZTQyNTE4N2U3NDk2NDViYzk2NTlkLmJpbmRQb3B1cChwb3B1cF9mYzAwYjY1OTNiN2I0YTQxOGUzMjE4ZjcyMDg1MTIxMik7CgogICAgICAgICAgICAKICAgICAgICAKPC9zY3JpcHQ+\" style=\"position:absolute;width:100%;height:100%;left:0;top:0;border:none !important;\" allowfullscreen webkitallowfullscreen mozallowfullscreen></iframe></div></div>"
      ],
      "text/plain": [
       "<folium.folium.Map at 0x7ff00b7b25f8>"
      ]
     },
     "execution_count": 133,
     "metadata": {},
     "output_type": "execute_result"
    }
   ],
   "source": [
    "from folium.plugins import MarkerCluster\n",
    "map_borough = folium.Map(location=[subset_of_df['Latitude'].mean(), \n",
    " subset_of_df['Longitude'].mean()], \n",
    " zoom_start=10)\n",
    "mc = MarkerCluster()\n",
    "#creating a Marker for each point in df_sample. Each point will get a popup with their zip\n",
    "for row in subset_of_df.itertuples():\n",
    "    mc.add_child(folium.Marker(location=[row.Latitude,  row.Longitude],\n",
    "                 popup=row.Borough))\n",
    "\n",
    "    \n",
    "map_borough.add_child(mc)\n",
    "\n",
    "\n",
    "map_borough\n",
    "\n"
   ]
  },
  {
   "cell_type": "code",
   "execution_count": null,
   "metadata": {},
   "outputs": [],
   "source": []
  },
  {
   "cell_type": "code",
   "execution_count": null,
   "metadata": {},
   "outputs": [],
   "source": []
  },
  {
   "cell_type": "code",
   "execution_count": null,
   "metadata": {},
   "outputs": [],
   "source": []
  },
  {
   "cell_type": "markdown",
   "metadata": {},
   "source": [
    "### 3.2. Replicate the same analysis with the full data set."
   ]
  },
  {
   "cell_type": "code",
   "execution_count": 135,
   "metadata": {},
   "outputs": [
    {
     "data": {
      "text/html": [
       "<div style=\"width:100%;\"><div style=\"position:relative;width:100%;height:0;padding-bottom:60%;\"><iframe src=\"data:text/html;charset=utf-8;base64,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\" style=\"position:absolute;width:100%;height:100%;left:0;top:0;border:none !important;\" allowfullscreen webkitallowfullscreen mozallowfullscreen></iframe></div></div>"
      ],
      "text/plain": [
       "<folium.folium.Map at 0x7ff00b6bc4a8>"
      ]
     },
     "execution_count": 135,
     "metadata": {},
     "output_type": "execute_result"
    }
   ],
   "source": [
    "from folium.plugins import MarkerCluster\n",
    "map_neighbourhood = folium.Map(location=[subset_of_df['Latitude'].mean(), \n",
    " subset_of_df['Longitude'].mean()], \n",
    " zoom_start=10)\n",
    "mc = MarkerCluster()\n",
    "#creating a Marker for each point in df_sample. Each point will get a popup with their zip\n",
    "for row in subset_of_df.itertuples():\n",
    "    mc.add_child(folium.Marker(location=[row.Latitude,  row.Longitude],\n",
    "                 popup=row.Neighbourhood))\n",
    "\n",
    "    \n",
    "map_neighbourhood.add_child(mc)\n",
    "\n",
    "map_neighbourhood"
   ]
  },
  {
   "cell_type": "code",
   "execution_count": null,
   "metadata": {},
   "outputs": [],
   "source": []
  },
  {
   "cell_type": "code",
   "execution_count": null,
   "metadata": {},
   "outputs": [],
   "source": []
  },
  {
   "cell_type": "code",
   "execution_count": null,
   "metadata": {},
   "outputs": [],
   "source": []
  },
  {
   "cell_type": "markdown",
   "metadata": {},
   "source": [
    "## 3.3. Explain what you decided to do and report observations.\n",
    "\n"
   ]
  },
  {
   "cell_type": "code",
   "execution_count": null,
   "metadata": {},
   "outputs": [],
   "source": []
  },
  {
   "cell_type": "code",
   "execution_count": null,
   "metadata": {},
   "outputs": [],
   "source": []
  },
  {
   "cell_type": "code",
   "execution_count": null,
   "metadata": {},
   "outputs": [],
   "source": []
  },
  {
   "cell_type": "markdown",
   "metadata": {},
   "source": [
    "## 3.4. Generate maps to visualize your neighborhoods and how they cluster together.\n",
    "\n"
   ]
  },
  {
   "cell_type": "code",
   "execution_count": null,
   "metadata": {},
   "outputs": [],
   "source": []
  },
  {
   "cell_type": "code",
   "execution_count": null,
   "metadata": {},
   "outputs": [],
   "source": []
  },
  {
   "cell_type": "code",
   "execution_count": null,
   "metadata": {},
   "outputs": [],
   "source": []
  },
  {
   "cell_type": "markdown",
   "metadata": {},
   "source": [
    "## 3.5. Submit a link to your Notebook on your Github repository. (3 marks)"
   ]
  },
  {
   "cell_type": "code",
   "execution_count": null,
   "metadata": {},
   "outputs": [],
   "source": []
  },
  {
   "cell_type": "markdown",
   "metadata": {},
   "source": [
    "This notebook is an assignment for a course on **Coursera** called *Applied Data Science Capstone*, you can take this course online by clicking [here](http://cocl.us/DP0701EN_Coursera_Week3_LAB2)."
   ]
  }
 ],
 "metadata": {
  "kernelspec": {
   "display_name": "Python 3",
   "language": "python",
   "name": "python3"
  },
  "language_info": {
   "codemirror_mode": {
    "name": "ipython",
    "version": 3
   },
   "file_extension": ".py",
   "mimetype": "text/x-python",
   "name": "python",
   "nbconvert_exporter": "python",
   "pygments_lexer": "ipython3",
   "version": "3.6.8"
  },
  "widgets": {
   "state": {},
   "version": "1.1.2"
  }
 },
 "nbformat": 4,
 "nbformat_minor": 2
}
